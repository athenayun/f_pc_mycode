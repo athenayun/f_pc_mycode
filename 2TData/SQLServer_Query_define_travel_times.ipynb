{
 "cells": [
  {
   "cell_type": "markdown",
   "metadata": {},
   "source": [
    "## This code is for defining travel times"
   ]
  },
  {
   "cell_type": "markdown",
   "metadata": {},
   "source": [
    "###  Getting connections for SQL Server"
   ]
  },
  {
   "cell_type": "code",
   "execution_count": 1,
   "metadata": {},
   "outputs": [],
   "source": [
    "import pyodbc"
   ]
  },
  {
   "cell_type": "code",
   "execution_count": 2,
   "metadata": {},
   "outputs": [],
   "source": [
    "db = pyodbc.connect('DRIVER={SQL Server};SERVER=AthenaLee-PC;PORT=1433;DATABASE=athena_practice;UID=;PWD=')"
   ]
  },
  {
   "cell_type": "code",
   "execution_count": 3,
   "metadata": {},
   "outputs": [],
   "source": [
    "cursor = db.cursor()"
   ]
  },
  {
   "cell_type": "markdown",
   "metadata": {},
   "source": [
    "###  doing SQL statement"
   ]
  },
  {
   "cell_type": "code",
   "execution_count": 4,
   "metadata": {},
   "outputs": [],
   "source": [
    "sql_filter_detection_rows = '''\n",
    "                                select MDSequenceNum\n",
    "                                from [athena_practice].[dbo].[GantryData_20171115]\n",
    "                                where MDSequenceNum like '%e_0' escape 'e' ;\n",
    "                            '''\n"
   ]
  },
  {
   "cell_type": "code",
   "execution_count": 5,
   "metadata": {},
   "outputs": [],
   "source": [
    "rows = cursor.execute(sql_filter_detection_rows).fetchall()"
   ]
  },
  {
   "cell_type": "code",
   "execution_count": 6,
   "metadata": {},
   "outputs": [],
   "source": [
    "detect_error_list = []\n",
    "for each in rows:\n",
    "    detect_error_list.append(each[0].split('_')[0])\n",
    "    #print each[0].split('_')[0]"
   ]
  },
  {
   "cell_type": "code",
   "execution_count": null,
   "metadata": {},
   "outputs": [],
   "source": [
    "#\"(%s)\"%str([x.encode('utf-8') for x in detect_error_list]).replace(\"[\", '').replace(\"]\", '')"
   ]
  },
  {
   "cell_type": "code",
   "execution_count": 7,
   "metadata": {
    "scrolled": true
   },
   "outputs": [],
   "source": [
    "sql_sta01 = '''\n",
    "            select *\n",
    "            from [athena_practice].[dbo].[GantryData_20171115]\n",
    "            where MDSequenceNum in (%s)\n",
    "            '''%str([x.encode('utf-8') for x in detect_error_list]).replace(\"[\", '').replace(\"]\", '')"
   ]
  },
  {
   "cell_type": "code",
   "execution_count": 8,
   "metadata": {
    "scrolled": true
   },
   "outputs": [
    {
     "ename": "ProgrammingError",
     "evalue": "('42000', u'[42000] [Microsoft][ODBC SQL Server Driver][SQL Server]\\u67e5\\u8a62\\u8655\\u7406\\u5668\\u5df2\\u7528\\u5b8c\\u5167\\u90e8\\u8cc7\\u6e90\\u800c\\u7121\\u6cd5\\u7522\\u751f\\u67e5\\u8a62\\u8a08\\u756b\\u3002\\u9019\\u662f\\u53ea\\u6709\\u5728\\u6975\\u7aef\\u8907\\u96dc\\u7684\\u67e5\\u8a62\\u6216\\u8005\\u53c3\\u8003\\u975e\\u5e38\\u5927\\u91cf\\u8cc7\\u6599\\u8868\\u6216\\u8cc7\\u6599\\u5206\\u5272\\u7684\\u67e5\\u8a62\\u624d\\u6703\\u767c\\u751f\\u7684\\u7a00\\u6709\\u4e8b\\u4ef6\\u3002\\u8acb\\u7c21\\u5316\\u67e5\\u8a62\\u3002\\u82e5\\u8a8d\\u70ba\\u6536\\u5230\\u6b64\\u8a0a\\u606f\\u6709\\u8aa4\\uff0c\\u8acb\\u9023\\u7d61\\u5ba2\\u6236\\u652f\\u63f4\\u670d\\u52d9\\uff0c\\u4ee5\\u53d6\\u5f97\\u8a73\\u7d30\\u8cc7\\u8a0a\\u3002 (8623) (SQLExecDirectW)')",
     "output_type": "error",
     "traceback": [
      "\u001b[1;31m---------------------------------------------------------------------------\u001b[0m",
      "\u001b[1;31mProgrammingError\u001b[0m                          Traceback (most recent call last)",
      "\u001b[1;32m<ipython-input-8-9970cdefaf29>\u001b[0m in \u001b[0;36m<module>\u001b[1;34m()\u001b[0m\n\u001b[1;32m----> 1\u001b[1;33m \u001b[0mrows_without_error\u001b[0m \u001b[1;33m=\u001b[0m \u001b[0mcursor\u001b[0m\u001b[1;33m.\u001b[0m\u001b[0mexecute\u001b[0m\u001b[1;33m(\u001b[0m\u001b[0msql_sta01\u001b[0m\u001b[1;33m)\u001b[0m\u001b[1;33m.\u001b[0m\u001b[0mfetchall\u001b[0m\u001b[1;33m(\u001b[0m\u001b[1;33m)\u001b[0m\u001b[1;33m\u001b[0m\u001b[0m\n\u001b[0m",
      "\u001b[1;31mProgrammingError\u001b[0m: ('42000', u'[42000] [Microsoft][ODBC SQL Server Driver][SQL Server]\\u67e5\\u8a62\\u8655\\u7406\\u5668\\u5df2\\u7528\\u5b8c\\u5167\\u90e8\\u8cc7\\u6e90\\u800c\\u7121\\u6cd5\\u7522\\u751f\\u67e5\\u8a62\\u8a08\\u756b\\u3002\\u9019\\u662f\\u53ea\\u6709\\u5728\\u6975\\u7aef\\u8907\\u96dc\\u7684\\u67e5\\u8a62\\u6216\\u8005\\u53c3\\u8003\\u975e\\u5e38\\u5927\\u91cf\\u8cc7\\u6599\\u8868\\u6216\\u8cc7\\u6599\\u5206\\u5272\\u7684\\u67e5\\u8a62\\u624d\\u6703\\u767c\\u751f\\u7684\\u7a00\\u6709\\u4e8b\\u4ef6\\u3002\\u8acb\\u7c21\\u5316\\u67e5\\u8a62\\u3002\\u82e5\\u8a8d\\u70ba\\u6536\\u5230\\u6b64\\u8a0a\\u606f\\u6709\\u8aa4\\uff0c\\u8acb\\u9023\\u7d61\\u5ba2\\u6236\\u652f\\u63f4\\u670d\\u52d9\\uff0c\\u4ee5\\u53d6\\u5f97\\u8a73\\u7d30\\u8cc7\\u8a0a\\u3002 (8623) (SQLExecDirectW)')"
     ]
    }
   ],
   "source": [
    "rows_without_error = cursor.execute(sql_sta01).fetchall()"
   ]
  },
  {
   "cell_type": "code",
   "execution_count": 9,
   "metadata": {},
   "outputs": [],
   "source": [
    "_str = ('42000', u'[42000] [Microsoft][ODBC SQL Server Driver][SQL Server]\\u67e5\\u8a62\\u8655\\u7406\\u5668\\u5df2\\u7528\\u5b8c\\u5167\\u90e8\\u8cc7\\u6e90\\u800c\\u7121\\u6cd5\\u7522\\u751f\\u67e5\\u8a62\\u8a08\\u756b\\u3002\\u9019\\u662f\\u53ea\\u6709\\u5728\\u6975\\u7aef\\u8907\\u96dc\\u7684\\u67e5\\u8a62\\u6216\\u8005\\u53c3\\u8003\\u975e\\u5e38\\u5927\\u91cf\\u8cc7\\u6599\\u8868\\u6216\\u8cc7\\u6599\\u5206\\u5272\\u7684\\u67e5\\u8a62\\u624d\\u6703\\u767c\\u751f\\u7684\\u7a00\\u6709\\u4e8b\\u4ef6\\u3002\\u8acb\\u7c21\\u5316\\u67e5\\u8a62\\u3002\\u82e5\\u8a8d\\u70ba\\u6536\\u5230\\u6b64\\u8a0a\\u606f\\u6709\\u8aa4\\uff0c\\u8acb\\u9023\\u7d61\\u5ba2\\u6236\\u652f\\u63f4\\u670d\\u52d9\\uff0c\\u4ee5\\u53d6\\u5f97\\u8a73\\u7d30\\u8cc7\\u8a0a\\u3002 (8623) (SQLExecDirectW)')"
   ]
  },
  {
   "cell_type": "code",
   "execution_count": 10,
   "metadata": {},
   "outputs": [
    {
     "name": "stdout",
     "output_type": "stream",
     "text": [
      "42000\n",
      "[42000] [Microsoft][ODBC SQL Server Driver][SQL Server]查詢處理器已用完內部資源而無法產生查詢計畫。這是只有在極端複雜的查詢或者參考非常大量資料表或資料分割的查詢才會發生的稀有事件。請簡化查詢。若認為收到此訊息有誤，請連絡客戶支援服務，以取得詳細資訊。 (8623) (SQLExecDirectW)\n"
     ]
    }
   ],
   "source": [
    "for one in _str :\n",
    "    print(one)"
   ]
  },
  {
   "cell_type": "code",
   "execution_count": null,
   "metadata": {},
   "outputs": [],
   "source": [
    "rows_error_detected = rows_without_error"
   ]
  },
  {
   "cell_type": "code",
   "execution_count": null,
   "metadata": {},
   "outputs": [],
   "source": [
    "with open('C://Users//Administrator//Documents//code//data//gantry_data//error_detection_rows.txt', 'w' ) as f :\n",
    "    \n",
    "    string = \"(%s)\"%str([x.encode('utf-8') for x in detect_error_list]).replace(\"[\", '').replace(\"]\", '')\n",
    "    \n",
    "    f.write(string)"
   ]
  },
  {
   "cell_type": "code",
   "execution_count": null,
   "metadata": {},
   "outputs": [],
   "source": [
    "SELECT *\n",
    "INTO    [athena_practice].[dbo].[GantryData_20171115_ed]\n",
    "\n",
    "FROM    [MDPOC].[dbo].[GANTRY_DATA] \n",
    "WHERE cast(TransactionTime as date) = '2017-07-15';"
   ]
  }
 ],
 "metadata": {
  "kernelspec": {
   "display_name": "Python 2",
   "language": "python",
   "name": "python2"
  },
  "language_info": {
   "codemirror_mode": {
    "name": "ipython",
    "version": 2
   },
   "file_extension": ".py",
   "mimetype": "text/x-python",
   "name": "python",
   "nbconvert_exporter": "python",
   "pygments_lexer": "ipython2",
   "version": "2.7.14"
  }
 },
 "nbformat": 4,
 "nbformat_minor": 2
}
