{
 "cells": [
  {
   "cell_type": "code",
   "execution_count": 1,
   "metadata": {},
   "outputs": [
    {
     "name": "stdout",
     "output_type": "stream",
     "text": [
      "Requirement already satisfied: pyodbc in c:\\programdata\\anaconda3\\envs\\athena_fetcpc\\lib\\site-packages\n"
     ]
    },
    {
     "name": "stderr",
     "output_type": "stream",
     "text": [
      "You are using pip version 9.0.3, however version 10.0.1 is available.\n",
      "You should consider upgrading via the 'python -m pip install --upgrade pip' command.\n"
     ]
    }
   ],
   "source": [
    "!pip install pyodbc"
   ]
  },
  {
   "cell_type": "code",
   "execution_count": 2,
   "metadata": {},
   "outputs": [],
   "source": [
    "import pyodbc"
   ]
  },
  {
   "cell_type": "code",
   "execution_count": 11,
   "metadata": {},
   "outputs": [
    {
     "name": "stdout",
     "output_type": "stream",
     "text": [
      "Collecting peewee_mssqlserv\n",
      "  Downloading https://files.pythonhosted.org/packages/4f/ec/af1bf0fc66d79332218e267c6b0e49e1194b1bcc1d02468d62b82d718fe7/peewee_mssqlserv-0.1.5.tar.gz\n",
      "Requirement already satisfied: pyodbc in c:\\programdata\\anaconda3\\envs\\athena_fetcpc\\lib\\site-packages (from peewee_mssqlserv)\n",
      "Requirement already satisfied: peewee in c:\\programdata\\anaconda3\\envs\\athena_fetcpc\\lib\\site-packages (from peewee_mssqlserv)\n",
      "Building wheels for collected packages: peewee-mssqlserv\n",
      "  Running setup.py bdist_wheel for peewee-mssqlserv: started\n",
      "  Running setup.py bdist_wheel for peewee-mssqlserv: finished with status 'done'\n",
      "  Stored in directory: C:\\Users\\Administrator\\AppData\\Local\\pip\\Cache\\wheels\\d8\\16\\40\\55dbe80a1efdd97a888b73bd7e902f1cefedeb3c0439adda65\n",
      "Successfully built peewee-mssqlserv\n",
      "Installing collected packages: peewee-mssqlserv\n",
      "Successfully installed peewee-mssqlserv-0.1.5\n"
     ]
    },
    {
     "name": "stderr",
     "output_type": "stream",
     "text": [
      "You are using pip version 9.0.3, however version 10.0.1 is available.\n",
      "You should consider upgrading via the 'python -m pip install --upgrade pip' command.\n"
     ]
    }
   ],
   "source": [
    "!pip install peewee_mssqlserv"
   ]
  },
  {
   "cell_type": "code",
   "execution_count": 13,
   "metadata": {},
   "outputs": [
    {
     "name": "stdout",
     "output_type": "stream",
     "text": [
      "Collecting peewee-mssql\n",
      "  Downloading https://files.pythonhosted.org/packages/e6/21/3dbc74d6ffcdd853d06b3cc4444221be29f888527ffb0cbf4f2188722c07/peewee-mssql-0.1.3.tar.gz\n",
      "Requirement already satisfied: peewee in c:\\programdata\\anaconda3\\envs\\athena_fetcpc\\lib\\site-packages (from peewee-mssql)\n",
      "Collecting pymssql (from peewee-mssql)\n",
      "  Downloading https://files.pythonhosted.org/packages/a9/dc/d8b90c53a9a5ae1b23cb5403df68eedd5724837db0331e0de100628c9990/pymssql-2.1.3-cp27-cp27m-win_amd64.whl (377kB)\n",
      "Building wheels for collected packages: peewee-mssql\n",
      "  Running setup.py bdist_wheel for peewee-mssql: started\n",
      "  Running setup.py bdist_wheel for peewee-mssql: finished with status 'done'\n",
      "  Stored in directory: C:\\Users\\Administrator\\AppData\\Local\\pip\\Cache\\wheels\\6a\\b7\\7d\\d1b74970bfe2d3beaba5924c1d640853b7d93136f29f188d6c\n",
      "Successfully built peewee-mssql\n",
      "Installing collected packages: pymssql, peewee-mssql\n",
      "Successfully installed peewee-mssql-0.1.3 pymssql-2.1.3\n"
     ]
    },
    {
     "name": "stderr",
     "output_type": "stream",
     "text": [
      "You are using pip version 9.0.3, however version 10.0.1 is available.\n",
      "You should consider upgrading via the 'python -m pip install --upgrade pip' command.\n"
     ]
    }
   ],
   "source": [
    "!pip install peewee-mssql"
   ]
  },
  {
   "cell_type": "code",
   "execution_count": 17,
   "metadata": {},
   "outputs": [
    {
     "name": "stdout",
     "output_type": "stream",
     "text": [
      "Requirement already satisfied: pymssql in c:\\programdata\\anaconda3\\envs\\athena_fetcpc\\lib\\site-packages\n"
     ]
    },
    {
     "name": "stderr",
     "output_type": "stream",
     "text": [
      "You are using pip version 9.0.3, however version 10.0.1 is available.\n",
      "You should consider upgrading via the 'python -m pip install --upgrade pip' command.\n"
     ]
    }
   ],
   "source": [
    "!pip install pymssql"
   ]
  },
  {
   "cell_type": "code",
   "execution_count": 20,
   "metadata": {},
   "outputs": [
    {
     "ename": "AttributeError",
     "evalue": "'NoneType' object has no attribute 'encode'",
     "output_type": "error",
     "traceback": [
      "\u001b[1;31m---------------------------------------------------------------------------\u001b[0m",
      "\u001b[1;31mAttributeError\u001b[0m                            Traceback (most recent call last)",
      "\u001b[1;32m<ipython-input-20-31eb09ae079d>\u001b[0m in \u001b[0;36m<module>\u001b[1;34m()\u001b[0m\n\u001b[0;32m      6\u001b[0m \u001b[0mpassword\u001b[0m \u001b[1;33m=\u001b[0m \u001b[0mgetenv\u001b[0m\u001b[1;33m(\u001b[0m\u001b[1;34m\"\"\u001b[0m\u001b[1;33m)\u001b[0m\u001b[1;33m\u001b[0m\u001b[0m\n\u001b[0;32m      7\u001b[0m \u001b[1;33m\u001b[0m\u001b[0m\n\u001b[1;32m----> 8\u001b[1;33m \u001b[0mconn\u001b[0m \u001b[1;33m=\u001b[0m \u001b[0mpymssql\u001b[0m\u001b[1;33m.\u001b[0m\u001b[0mconnect\u001b[0m\u001b[1;33m(\u001b[0m\u001b[1;34m\"athena_practice\"\u001b[0m\u001b[1;33m,\u001b[0m \u001b[0mserver\u001b[0m\u001b[1;33m,\u001b[0m \u001b[0muser\u001b[0m\u001b[1;33m,\u001b[0m \u001b[0mpassword\u001b[0m\u001b[1;33m)\u001b[0m\u001b[1;33m\u001b[0m\u001b[0m\n\u001b[0m",
      "\u001b[1;32mpymssql.pyx\u001b[0m in \u001b[0;36mpymssql.connect (pymssql.c:10734)\u001b[1;34m()\u001b[0m\n",
      "\u001b[1;32m_mssql.pyx\u001b[0m in \u001b[0;36m_mssql.connect (_mssql.c:21821)\u001b[1;34m()\u001b[0m\n",
      "\u001b[1;32m_mssql.pyx\u001b[0m in \u001b[0;36m_mssql.MSSQLConnection.__init__ (_mssql.c:6109)\u001b[1;34m()\u001b[0m\n",
      "\u001b[1;31mAttributeError\u001b[0m: 'NoneType' object has no attribute 'encode'"
     ]
    }
   ],
   "source": [
    "from os import getenv\n",
    "import pymssql\n",
    "\n",
    "server = getenv(\"localhost\")\n",
    "user = getenv(\"ATHENALEE-PC\\Administrator\")\n",
    "password = getenv(\"\")\n",
    "\n",
    "conn = pymssql.connect(\"athena_practice\", server, user, password)"
   ]
  },
  {
   "cell_type": "code",
   "execution_count": 22,
   "metadata": {},
   "outputs": [
    {
     "name": "stdout",
     "output_type": "stream",
     "text": [
      "Collecting peewee-mssql==0.1.2\n",
      "  Downloading https://files.pythonhosted.org/packages/d7/3d/328dbe7f88ee9a8b98277ebba6f481529b7ad4c36d125a10dc13b24b7ba1/peewee-mssql-0.1.2.tar.gz\n",
      "Requirement already satisfied: peewee in c:\\programdata\\anaconda3\\envs\\athena_fetcpc\\lib\\site-packages (from peewee-mssql==0.1.2)\n",
      "Requirement already satisfied: pymssql in c:\\programdata\\anaconda3\\envs\\athena_fetcpc\\lib\\site-packages (from peewee-mssql==0.1.2)\n",
      "Building wheels for collected packages: peewee-mssql\n",
      "  Running setup.py bdist_wheel for peewee-mssql: started\n",
      "  Running setup.py bdist_wheel for peewee-mssql: finished with status 'done'\n",
      "  Stored in directory: C:\\Users\\Administrator\\AppData\\Local\\pip\\Cache\\wheels\\89\\a0\\61\\6fd2f011148dbe4acd7130e793ef1c5db00b86d379fc2211d9\n",
      "Successfully built peewee-mssql\n",
      "Installing collected packages: peewee-mssql\n",
      "  Found existing installation: peewee-mssql 0.1.3\n",
      "    Uninstalling peewee-mssql-0.1.3:\n",
      "      Successfully uninstalled peewee-mssql-0.1.3\n",
      "Successfully installed peewee-mssql-0.1.2\n"
     ]
    },
    {
     "name": "stderr",
     "output_type": "stream",
     "text": [
      "You are using pip version 9.0.3, however version 10.0.1 is available.\n",
      "You should consider upgrading via the 'python -m pip install --upgrade pip' command.\n"
     ]
    }
   ],
   "source": [
    "!pip install peewee-mssql==0.1.2"
   ]
  },
  {
   "cell_type": "code",
   "execution_count": 60,
   "metadata": {
    "scrolled": true
   },
   "outputs": [
    {
     "ename": "ImportError",
     "evalue": "cannot import name QueryCompiler",
     "output_type": "error",
     "traceback": [
      "\u001b[1;31m---------------------------------------------------------------------------\u001b[0m",
      "\u001b[1;31mImportError\u001b[0m                               Traceback (most recent call last)",
      "\u001b[1;32m<ipython-input-60-26efde2861a0>\u001b[0m in \u001b[0;36m<module>\u001b[1;34m()\u001b[0m\n\u001b[0;32m      1\u001b[0m \u001b[1;31m#from peewee_mssql import MssqlDatabase\u001b[0m\u001b[1;33m\u001b[0m\u001b[1;33m\u001b[0m\u001b[0m\n\u001b[1;32m----> 2\u001b[1;33m \u001b[1;32mimport\u001b[0m \u001b[0mpeewee_mssql\u001b[0m\u001b[1;33m\u001b[0m\u001b[0m\n\u001b[0m\u001b[0;32m      3\u001b[0m \u001b[1;33m\u001b[0m\u001b[0m\n\u001b[0;32m      4\u001b[0m \u001b[0mdb\u001b[0m \u001b[1;33m=\u001b[0m \u001b[0mpeewee_mssql\u001b[0m\u001b[1;33m.\u001b[0m\u001b[0mMssqlDatabase\u001b[0m\u001b[1;33m(\u001b[0m\u001b[1;34m'athena_practice'\u001b[0m\u001b[1;33m,\u001b[0m \u001b[0mhost\u001b[0m\u001b[1;33m=\u001b[0m\u001b[1;34m'localhost'\u001b[0m\u001b[1;33m,\u001b[0m \u001b[0muser\u001b[0m\u001b[1;33m=\u001b[0m\u001b[1;34m''\u001b[0m\u001b[1;33m,\u001b[0m \u001b[0mpassword\u001b[0m\u001b[1;33m=\u001b[0m\u001b[1;34m''\u001b[0m\u001b[1;33m)\u001b[0m\u001b[1;33m\u001b[0m\u001b[0m\n",
      "\u001b[1;32mC:\\ProgramData\\Anaconda3\\envs\\athena_fetcpc\\lib\\site-packages\\peewee_mssql.py\u001b[0m in \u001b[0;36m<module>\u001b[1;34m()\u001b[0m\n\u001b[1;32m----> 1\u001b[1;33m \u001b[1;32mfrom\u001b[0m \u001b[0mpeewee\u001b[0m \u001b[1;32mimport\u001b[0m \u001b[0mDatabase\u001b[0m\u001b[1;33m,\u001b[0m \u001b[0mImproperlyConfigured\u001b[0m\u001b[1;33m,\u001b[0m \u001b[0mOP\u001b[0m\u001b[1;33m,\u001b[0m \u001b[0mQueryCompiler\u001b[0m\u001b[1;33m,\u001b[0m \u001b[0mCompoundSelect\u001b[0m\u001b[1;33m,\u001b[0m \u001b[0mSQL\u001b[0m\u001b[1;33m,\u001b[0m \u001b[0mClause\u001b[0m\u001b[1;33m,\u001b[0m \u001b[0mCommaClause\u001b[0m\u001b[1;33m\u001b[0m\u001b[0m\n\u001b[0m\u001b[0;32m      2\u001b[0m \u001b[1;32mfrom\u001b[0m \u001b[0mplayhouse\u001b[0m\u001b[1;33m.\u001b[0m\u001b[0mdb_url\u001b[0m \u001b[1;32mimport\u001b[0m \u001b[0mregister_database\u001b[0m\u001b[1;33m\u001b[0m\u001b[0m\n\u001b[0;32m      3\u001b[0m \u001b[1;33m\u001b[0m\u001b[0m\n\u001b[0;32m      4\u001b[0m \u001b[0m__version__\u001b[0m \u001b[1;33m=\u001b[0m \u001b[1;34m\"0.1.2\"\u001b[0m\u001b[1;33m\u001b[0m\u001b[0m\n\u001b[0;32m      5\u001b[0m \u001b[1;33m\u001b[0m\u001b[0m\n",
      "\u001b[1;31mImportError\u001b[0m: cannot import name QueryCompiler"
     ]
    }
   ],
   "source": [
    "#from peewee_mssql import MssqlDatabase\n",
    "import peewee_mssql\n",
    "\n",
    "db = peewee_mssql.MssqlDatabase('athena_practice', host='localhost', user='', password='')"
   ]
  },
  {
   "cell_type": "code",
   "execution_count": 55,
   "metadata": {},
   "outputs": [],
   "source": [
    "conn = pyodbc.connect('DRIVER={SQL Server};SERVER=AthenaLee-PC;PORT=1433;DATABASE=athena_practice;UID=;PWD=')"
   ]
  },
  {
   "cell_type": "code",
   "execution_count": 56,
   "metadata": {},
   "outputs": [],
   "source": [
    "cursor = conn.cursor()"
   ]
  },
  {
   "cell_type": "code",
   "execution_count": 57,
   "metadata": {},
   "outputs": [
    {
     "name": "stdout",
     "output_type": "stream",
     "text": [
      "GantryData_20170715\n",
      "GantryData_20171115\n",
      "Table_1\n",
      "trace_xe_action_map\n",
      "trace_xe_event_map\n",
      "CHECK_CONSTRAINTS\n",
      "COLUMN_DOMAIN_USAGE\n",
      "COLUMN_PRIVILEGES\n",
      "COLUMNS\n",
      "CONSTRAINT_COLUMN_USAGE\n",
      "CONSTRAINT_TABLE_USAGE\n",
      "DOMAIN_CONSTRAINTS\n",
      "DOMAINS\n",
      "KEY_COLUMN_USAGE\n",
      "PARAMETERS\n",
      "REFERENTIAL_CONSTRAINTS\n",
      "ROUTINE_COLUMNS\n",
      "ROUTINES\n",
      "SCHEMATA\n",
      "SEQUENCES\n",
      "TABLE_CONSTRAINTS\n",
      "TABLE_PRIVILEGES\n",
      "TABLES\n",
      "VIEW_COLUMN_USAGE\n",
      "VIEW_TABLE_USAGE\n",
      "VIEWS\n",
      "all_columns\n",
      "all_objects\n",
      "all_parameters\n",
      "all_sql_modules\n",
      "all_views\n",
      "allocation_units\n",
      "assemblies\n",
      "assembly_files\n",
      "assembly_modules\n",
      "assembly_references\n",
      "assembly_types\n",
      "asymmetric_keys\n",
      "availability_databases_cluster\n",
      "availability_group_listener_ip_addresses\n",
      "availability_group_listeners\n",
      "availability_groups\n",
      "availability_groups_cluster\n",
      "availability_read_only_routing_lists\n",
      "availability_replicas\n",
      "backup_devices\n",
      "certificates\n",
      "change_tracking_databases\n",
      "change_tracking_tables\n",
      "check_constraints\n",
      "column_store_dictionaries\n",
      "column_store_segments\n",
      "column_type_usages\n",
      "column_xml_schema_collection_usages\n",
      "columns\n",
      "computed_columns\n",
      "configurations\n",
      "conversation_endpoints\n",
      "conversation_groups\n",
      "conversation_priorities\n",
      "credentials\n",
      "crypt_properties\n",
      "cryptographic_providers\n",
      "data_spaces\n",
      "database_audit_specification_details\n",
      "database_audit_specifications\n",
      "database_files\n",
      "database_filestream_options\n",
      "database_mirroring\n",
      "database_mirroring_endpoints\n",
      "database_mirroring_witnesses\n",
      "database_permissions\n",
      "database_principals\n",
      "database_recovery_status\n",
      "database_role_members\n",
      "databases\n",
      "default_constraints\n",
      "destination_data_spaces\n",
      "dm_audit_actions\n",
      "dm_audit_class_type_map\n",
      "dm_broker_activated_tasks\n",
      "dm_broker_connections\n",
      "dm_broker_forwarded_messages\n",
      "dm_broker_queue_monitors\n",
      "dm_cdc_errors\n",
      "dm_cdc_log_scan_sessions\n",
      "dm_clr_appdomains\n",
      "dm_clr_loaded_assemblies\n",
      "dm_clr_properties\n",
      "dm_clr_tasks\n",
      "dm_cryptographic_provider_properties\n",
      "dm_database_encryption_keys\n",
      "dm_db_file_space_usage\n",
      "dm_db_fts_index_physical_stats\n",
      "dm_db_index_usage_stats\n",
      "dm_db_log_space_usage\n",
      "dm_db_mirroring_auto_page_repair\n",
      "dm_db_mirroring_connections\n",
      "dm_db_mirroring_past_actions\n",
      "dm_db_missing_index_details\n",
      "dm_db_missing_index_group_stats\n",
      "dm_db_missing_index_groups\n",
      "dm_db_partition_stats\n",
      "dm_db_persisted_sku_features\n",
      "dm_db_script_level\n",
      "dm_db_session_space_usage\n",
      "dm_db_task_space_usage\n",
      "dm_db_uncontained_entities\n",
      "dm_exec_background_job_queue\n",
      "dm_exec_background_job_queue_stats\n",
      "dm_exec_cached_plans\n",
      "dm_exec_connections\n",
      "dm_exec_procedure_stats\n",
      "dm_exec_query_memory_grants\n",
      "dm_exec_query_optimizer_info\n",
      "dm_exec_query_resource_semaphores\n",
      "dm_exec_query_stats\n",
      "dm_exec_query_transformation_stats\n",
      "dm_exec_requests\n",
      "dm_exec_sessions\n",
      "dm_exec_trigger_stats\n",
      "dm_filestream_file_io_handles\n",
      "dm_filestream_file_io_requests\n",
      "dm_filestream_non_transacted_handles\n",
      "dm_fts_active_catalogs\n",
      "dm_fts_fdhosts\n",
      "dm_fts_index_population\n",
      "dm_fts_memory_buffers\n",
      "dm_fts_memory_pools\n",
      "dm_fts_outstanding_batches\n",
      "dm_fts_population_ranges\n",
      "dm_fts_semantic_similarity_population\n",
      "dm_hadr_auto_page_repair\n",
      "dm_hadr_availability_group_states\n",
      "dm_hadr_availability_replica_cluster_nodes\n",
      "dm_hadr_availability_replica_cluster_states\n",
      "dm_hadr_availability_replica_states\n",
      "dm_hadr_cluster\n",
      "dm_hadr_cluster_members\n",
      "dm_hadr_cluster_networks\n",
      "dm_hadr_database_replica_cluster_states\n",
      "dm_hadr_database_replica_states\n",
      "dm_hadr_instance_node_map\n",
      "dm_hadr_name_id_map\n",
      "dm_io_backup_tapes\n",
      "dm_io_cluster_shared_drives\n",
      "dm_io_pending_io_requests\n",
      "dm_logpool_hashentries\n",
      "dm_logpool_stats\n",
      "dm_os_buffer_descriptors\n",
      "dm_os_child_instances\n",
      "dm_os_cluster_nodes\n",
      "dm_os_cluster_properties\n",
      "dm_os_dispatcher_pools\n",
      "dm_os_dispatchers\n",
      "dm_os_hosts\n",
      "dm_os_latch_stats\n",
      "dm_os_loaded_modules\n",
      "dm_os_memory_allocations\n",
      "dm_os_memory_broker_clerks\n",
      "dm_os_memory_brokers\n",
      "dm_os_memory_cache_clock_hands\n",
      "dm_os_memory_cache_counters\n",
      "dm_os_memory_cache_entries\n",
      "dm_os_memory_cache_hash_tables\n",
      "dm_os_memory_clerks\n",
      "dm_os_memory_node_access_stats\n",
      "dm_os_memory_nodes\n",
      "dm_os_memory_objects\n",
      "dm_os_memory_pools\n",
      "dm_os_nodes\n",
      "dm_os_performance_counters\n",
      "dm_os_process_memory\n",
      "dm_os_ring_buffers\n",
      "dm_os_schedulers\n",
      "dm_os_server_diagnostics_log_configurations\n",
      "dm_os_spinlock_stats\n",
      "dm_os_stacks\n",
      "dm_os_sublatches\n",
      "dm_os_sys_info\n",
      "dm_os_sys_memory\n",
      "dm_os_tasks\n",
      "dm_os_threads\n",
      "dm_os_virtual_address_dump\n",
      "dm_os_wait_stats\n",
      "dm_os_waiting_tasks\n",
      "dm_os_windows_info\n",
      "dm_os_worker_local_storage\n",
      "dm_os_workers\n",
      "dm_qn_subscriptions\n",
      "dm_repl_articles\n",
      "dm_repl_schemas\n",
      "dm_repl_tranhash\n",
      "dm_repl_traninfo\n",
      "dm_resource_governor_configuration\n",
      "dm_resource_governor_resource_pool_affinity\n",
      "dm_resource_governor_resource_pools\n",
      "dm_resource_governor_workload_groups\n",
      "dm_server_audit_status\n",
      "dm_server_memory_dumps\n",
      "dm_server_registry\n",
      "dm_server_services\n",
      "dm_tcp_listener_states\n",
      "dm_tran_active_snapshot_database_transactions\n",
      "dm_tran_active_transactions\n",
      "dm_tran_commit_table\n",
      "dm_tran_current_snapshot\n",
      "dm_tran_current_transaction\n",
      "dm_tran_database_transactions\n",
      "dm_tran_locks\n",
      "dm_tran_session_transactions\n",
      "dm_tran_top_version_generators\n",
      "dm_tran_transactions_snapshot\n",
      "dm_tran_version_store\n",
      "dm_xe_map_values\n",
      "dm_xe_object_columns\n",
      "dm_xe_objects\n",
      "dm_xe_packages\n",
      "dm_xe_session_event_actions\n",
      "dm_xe_session_events\n",
      "dm_xe_session_object_columns\n",
      "dm_xe_session_targets\n",
      "dm_xe_sessions\n",
      "endpoint_webmethods\n",
      "endpoints\n",
      "event_notification_event_types\n",
      "event_notifications\n",
      "events\n",
      "extended_procedures\n",
      "extended_properties\n",
      "filegroups\n",
      "filetable_system_defined_objects\n",
      "filetables\n",
      "foreign_key_columns\n",
      "foreign_keys\n",
      "fulltext_catalogs\n",
      "fulltext_document_types\n",
      "fulltext_index_catalog_usages\n",
      "fulltext_index_columns\n",
      "fulltext_index_fragments\n",
      "fulltext_indexes\n",
      "fulltext_languages\n",
      "fulltext_semantic_language_statistics_database\n",
      "fulltext_semantic_languages\n",
      "fulltext_stoplists\n",
      "fulltext_stopwords\n",
      "fulltext_system_stopwords\n",
      "function_order_columns\n",
      "http_endpoints\n",
      "identity_columns\n",
      "index_columns\n",
      "indexes\n",
      "internal_tables\n",
      "key_constraints\n",
      "key_encryptions\n",
      "linked_logins\n",
      "login_token\n",
      "master_files\n",
      "master_key_passwords\n",
      "message_type_xml_schema_collection_usages\n",
      "messages\n",
      "module_assembly_usages\n",
      "numbered_procedure_parameters\n",
      "numbered_procedures\n",
      "objects\n",
      "openkeys\n",
      "parameter_type_usages\n",
      "parameter_xml_schema_collection_usages\n",
      "parameters\n",
      "partition_functions\n",
      "partition_parameters\n",
      "partition_range_values\n",
      "partition_schemes\n",
      "partitions\n",
      "plan_guides\n",
      "procedures\n",
      "registered_search_properties\n",
      "registered_search_property_lists\n",
      "remote_logins\n",
      "remote_service_bindings\n",
      "resource_governor_configuration\n",
      "resource_governor_resource_pool_affinity\n",
      "resource_governor_resource_pools\n",
      "resource_governor_workload_groups\n",
      "routes\n",
      "schemas\n",
      "securable_classes\n",
      "selective_xml_index_namespaces\n",
      "selective_xml_index_paths\n",
      "sequences\n",
      "server_assembly_modules\n",
      "server_audit_specification_details\n",
      "server_audit_specifications\n",
      "server_audits\n",
      "server_event_notifications\n",
      "server_event_session_actions\n",
      "server_event_session_events\n",
      "server_event_session_fields\n",
      "server_event_session_targets\n",
      "server_event_sessions\n",
      "server_events\n",
      "server_file_audits\n",
      "server_permissions\n",
      "server_principal_credentials\n",
      "server_principals\n",
      "server_role_members\n",
      "server_sql_modules\n",
      "server_trigger_events\n",
      "server_triggers\n",
      "servers\n",
      "service_broker_endpoints\n",
      "service_contract_message_usages\n",
      "service_contract_usages\n",
      "service_contracts\n",
      "service_message_types\n",
      "service_queue_usages\n",
      "service_queues\n",
      "services\n",
      "soap_endpoints\n",
      "spatial_index_tessellations\n",
      "spatial_indexes\n",
      "spatial_reference_systems\n",
      "sql_dependencies\n",
      "sql_expression_dependencies\n",
      "sql_logins\n",
      "sql_modules\n",
      "stats\n",
      "stats_columns\n",
      "symmetric_keys\n",
      "synonyms\n",
      "sysaltfiles\n",
      "syscacheobjects\n",
      "syscharsets\n",
      "syscolumns\n",
      "syscomments\n",
      "sysconfigures\n",
      "sysconstraints\n",
      "syscurconfigs\n",
      "syscursorcolumns\n",
      "syscursorrefs\n",
      "syscursors\n",
      "syscursortables\n",
      "sysdatabases\n",
      "sysdepends\n",
      "sysdevices\n",
      "sysfilegroups\n",
      "sysfiles\n",
      "sysforeignkeys\n",
      "sysfulltextcatalogs\n",
      "sysindexes\n",
      "sysindexkeys\n",
      "syslanguages\n",
      "syslockinfo\n",
      "syslogins\n",
      "sysmembers\n",
      "sysmessages\n",
      "sysobjects\n",
      "sysoledbusers\n",
      "sysopentapes\n",
      "sysperfinfo\n",
      "syspermissions\n",
      "sysprocesses\n",
      "sysprotects\n",
      "sysreferences\n",
      "sysremotelogins\n",
      "sysservers\n",
      "system_columns\n",
      "system_components_surface_area_configuration\n",
      "system_internals_allocation_units\n",
      "system_internals_partition_columns\n",
      "system_internals_partitions\n",
      "system_objects\n",
      "system_parameters\n",
      "system_sql_modules\n",
      "system_views\n",
      "systypes\n",
      "sysusers\n",
      "table_types\n",
      "tables\n",
      "tcp_endpoints\n",
      "trace_categories\n",
      "trace_columns\n",
      "trace_event_bindings\n",
      "trace_events\n",
      "trace_subclass_values\n",
      "traces\n",
      "transmission_queue\n",
      "trigger_event_types\n",
      "trigger_events\n",
      "triggers\n",
      "type_assembly_usages\n",
      "types\n",
      "user_token\n",
      "via_endpoints\n",
      "views\n",
      "xml_indexes\n",
      "xml_schema_attributes\n",
      "xml_schema_collections\n",
      "xml_schema_component_placements\n",
      "xml_schema_components\n",
      "xml_schema_elements\n",
      "xml_schema_facets\n",
      "xml_schema_model_groups\n",
      "xml_schema_namespaces\n",
      "xml_schema_types\n",
      "xml_schema_wildcard_namespaces\n",
      "xml_schema_wildcards\n"
     ]
    }
   ],
   "source": [
    "for row in cursor.tables():\n",
    "    print(row.table_name)"
   ]
  },
  {
   "cell_type": "code",
   "execution_count": 53,
   "metadata": {},
   "outputs": [
    {
     "ename": "InterfaceError",
     "evalue": "('IM002', u'[IM002] [Microsoft][ODBC \\u9a45\\u52d5\\u7a0b\\u5f0f\\u7ba1\\u7406\\u54e1] \\u627e\\u4e0d\\u5230\\u8cc7\\u6599\\u4f86\\u6e90\\u540d\\u7a31\\u4e14\\u672a\\u6307\\u5b9a\\u9810\\u8a2d\\u7684\\u9a45\\u52d5\\u7a0b\\u5f0f (0) (SQLDriverConnect)')",
     "output_type": "error",
     "traceback": [
      "\u001b[1;31m---------------------------------------------------------------------------\u001b[0m",
      "\u001b[1;31mInterfaceError\u001b[0m                            Traceback (most recent call last)",
      "\u001b[1;32m<ipython-input-53-3ca3aa29e938>\u001b[0m in \u001b[0;36m<module>\u001b[1;34m()\u001b[0m\n\u001b[0;32m      6\u001b[0m     \u001b[0mDriver\u001b[0m\u001b[1;33m=\u001b[0m\u001b[1;34m'{ODBC Driver 11 for SQL Server}'\u001b[0m\u001b[1;33m,\u001b[0m\u001b[1;33m\u001b[0m\u001b[0m\n\u001b[0;32m      7\u001b[0m     \u001b[0mServer\u001b[0m\u001b[1;33m=\u001b[0m\u001b[1;34m'10.80.204.29,1433'\u001b[0m\u001b[1;33m,\u001b[0m\u001b[1;33m\u001b[0m\u001b[0m\n\u001b[1;32m----> 8\u001b[1;33m     \u001b[0mDatabase\u001b[0m\u001b[1;33m=\u001b[0m\u001b[1;34m'athena_practice'\u001b[0m\u001b[1;33m\u001b[0m\u001b[0m\n\u001b[0m\u001b[0;32m      9\u001b[0m )\n",
      "\u001b[1;31mInterfaceError\u001b[0m: ('IM002', u'[IM002] [Microsoft][ODBC \\u9a45\\u52d5\\u7a0b\\u5f0f\\u7ba1\\u7406\\u54e1] \\u627e\\u4e0d\\u5230\\u8cc7\\u6599\\u4f86\\u6e90\\u540d\\u7a31\\u4e14\\u672a\\u6307\\u5b9a\\u9810\\u8a2d\\u7684\\u9a45\\u52d5\\u7a0b\\u5f0f (0) (SQLDriverConnect)')"
     ]
    }
   ],
   "source": [
    "import pyodbc\n",
    "driver= '{SQL Server}'\n",
    "\n",
    "cnxn = pyodbc.connect(\n",
    "    Trusted_Connection='Yes',\n",
    "    Driver='{ODBC Driver 11 for SQL Server}',\n",
    "    Server='10.80.204.29,1433',\n",
    "    Database='athena_practice'\n",
    ")"
   ]
  },
  {
   "cell_type": "code",
   "execution_count": 27,
   "metadata": {},
   "outputs": [
    {
     "name": "stdout",
     "output_type": "stream",
     "text": [
      "('28000', u\"[28000] [Microsoft][ODBC SQL Server Driver][SQL Server]\\u4f7f\\u7528\\u8005 'ATHENALEE-PC\\\\Administrator' \\u7684\\u767b\\u5165\\u5931\\u6557\\u3002 (18456) (SQLDriverConnect); [28000] [Microsoft][ODBC SQL Server Driver][SQL Server]\\u4f7f\\u7528\\u8005 'ATHENALEE-PC\\\\Administrator' \\u7684\\u767b\\u5165\\u5931\\u6557\\u3002 (18456)\")\n"
     ]
    }
   ],
   "source": [
    "print(('28000', u\"[28000] [Microsoft][ODBC SQL Server Driver][SQL Server]\\u4f7f\\u7528\\u8005 'ATHENALEE-PC\\\\Administrator' \\u7684\\u767b\\u5165\\u5931\\u6557\\u3002 (18456) (SQLDriverConnect); [28000] [Microsoft][ODBC SQL Server Driver][SQL Server]\\u4f7f\\u7528\\u8005 'ATHENALEE-PC\\\\Administrator' \\u7684\\u767b\\u5165\\u5931\\u6557\\u3002 (18456)\"))"
   ]
  },
  {
   "cell_type": "code",
   "execution_count": 46,
   "metadata": {},
   "outputs": [],
   "source": [
    "v1 = \"\\u4f7f\\u7528\\u8005\"\n",
    "vv1 = v1.encode('big5')"
   ]
  },
  {
   "cell_type": "code",
   "execution_count": 47,
   "metadata": {},
   "outputs": [
    {
     "data": {
      "text/plain": [
       "'\\\\u4f7f\\\\u7528\\\\u8005'"
      ]
     },
     "execution_count": 47,
     "metadata": {},
     "output_type": "execute_result"
    }
   ],
   "source": [
    "vv1"
   ]
  },
  {
   "cell_type": "code",
   "execution_count": null,
   "metadata": {},
   "outputs": [],
   "source": []
  }
 ],
 "metadata": {
  "kernelspec": {
   "display_name": "Python 2",
   "language": "python",
   "name": "python2"
  },
  "language_info": {
   "codemirror_mode": {
    "name": "ipython",
    "version": 2
   },
   "file_extension": ".py",
   "mimetype": "text/x-python",
   "name": "python",
   "nbconvert_exporter": "python",
   "pygments_lexer": "ipython2",
   "version": "2.7.14"
  }
 },
 "nbformat": 4,
 "nbformat_minor": 2
}
