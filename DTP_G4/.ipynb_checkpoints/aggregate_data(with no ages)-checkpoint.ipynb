{
 "cells": [
  {
   "cell_type": "code",
   "execution_count": 1,
   "metadata": {},
   "outputs": [],
   "source": [
    "import pandas as pd"
   ]
  },
  {
   "cell_type": "code",
   "execution_count": 2,
   "metadata": {},
   "outputs": [],
   "source": [
    "df1 = pd.read_csv('C://Users//Administrator//Documents//code//data//DTP_D4//CarBrand_data//NAZJE.csv', na_filter=False, encoding = 'utf-8', low_memory=False)"
   ]
  },
  {
   "cell_type": "code",
   "execution_count": 3,
   "metadata": {},
   "outputs": [],
   "source": [
    "df2 = pd.read_csv('C://Users//Administrator//Documents//code//data//DTP_D4//CarBrand_data//NISSAN.csv', na_filter=False, encoding = 'utf-8', low_memory=False)"
   ]
  },
  {
   "cell_type": "code",
   "execution_count": 4,
   "metadata": {},
   "outputs": [],
   "source": [
    "df3 = pd.read_csv('C://Users//Administrator//Documents//code//data//DTP_D4//CarBrand_data//MITSUBISHI.csv', na_filter=False, encoding = 'utf-8', low_memory=False)"
   ]
  },
  {
   "cell_type": "code",
   "execution_count": 5,
   "metadata": {},
   "outputs": [],
   "source": [
    "df4 = pd.read_csv('C://Users//Administrator//Documents//code//data//DTP_D4//CarBrand_data//MAZDA.csv', na_filter=False, encoding = 'utf-8', low_memory=False)"
   ]
  },
  {
   "cell_type": "code",
   "execution_count": 6,
   "metadata": {},
   "outputs": [],
   "source": [
    "frames = [df1, df2, df3, df4]\n",
    "result = pd.concat(frames)"
   ]
  },
  {
   "cell_type": "code",
   "execution_count": 9,
   "metadata": {
    "scrolled": true
   },
   "outputs": [],
   "source": [
    "#result"
   ]
  },
  {
   "cell_type": "code",
   "execution_count": 8,
   "metadata": {},
   "outputs": [],
   "source": [
    "columns = ['VEHICLE_ID', 'Brand', 'MVDIS_BRAND', 'MVDIS_MANUFACTURE_YM', 'Manu_YYYY', 'Manu_MM', 'ages_by_month', 'rest_month', 'total_month']\n",
    "result.to_csv('C://Users//Administrator//Documents//code//data//DTP_D4//CarBrand_data//with_ages//TOTAL_ages.csv', columns = columns , index=False , header = True,sep=',',encoding='utf-8')\n"
   ]
  },
  {
   "cell_type": "code",
   "execution_count": null,
   "metadata": {},
   "outputs": [],
   "source": []
  }
 ],
 "metadata": {
  "kernelspec": {
   "display_name": "Python 2",
   "language": "python",
   "name": "python2"
  },
  "language_info": {
   "codemirror_mode": {
    "name": "ipython",
    "version": 2
   },
   "file_extension": ".py",
   "mimetype": "text/x-python",
   "name": "python",
   "nbconvert_exporter": "python",
   "pygments_lexer": "ipython2",
   "version": "2.7.14"
  }
 },
 "nbformat": 4,
 "nbformat_minor": 2
}
