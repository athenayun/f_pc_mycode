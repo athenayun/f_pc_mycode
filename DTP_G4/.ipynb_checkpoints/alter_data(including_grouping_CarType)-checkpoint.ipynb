{
 "cells": [
  {
   "cell_type": "code",
   "execution_count": 1,
   "metadata": {},
   "outputs": [],
   "source": [
    "import peewee\n",
    "import pymysql\n",
    "\n",
    "db = peewee.MySQLDatabase('db_test',\n",
    "                          user='root',\n",
    "                          host='localhost',\n",
    "                          password='root5438',\n",
    "                          port=3306)"
   ]
  },
  {
   "cell_type": "code",
   "execution_count": 2,
   "metadata": {
    "scrolled": true
   },
   "outputs": [],
   "source": [
    "#db.get_columns('group4data_trial_6')"
   ]
  },
  {
   "cell_type": "code",
   "execution_count": 3,
   "metadata": {},
   "outputs": [],
   "source": [
    "import pymysql.cursors\n",
    "import codecs\n",
    "\n",
    "try :\n",
    "    with db.cursor() as cursor:\n",
    "            # Read a single record\n",
    "            sql = \"SELECT * FROM group4data_trial_2 \"\n",
    "            cursor.execute(sql)\n",
    "            result = cursor.fetchall()\n",
    "            #print(result)\n",
    "finally:\n",
    "    db.close()"
   ]
  },
  {
   "cell_type": "code",
   "execution_count": null,
   "metadata": {},
   "outputs": [],
   "source": [
    "for i in all_row:\n",
    "    each = list(i)\n",
    "    if each[22] == 'N/A' :\n",
    "        each[22] = 0.0\n",
    "    else :\n",
    "        each[22] = float(each[22])"
   ]
  },
  {
   "cell_type": "code",
   "execution_count": 7,
   "metadata": {},
   "outputs": [],
   "source": [
    "total = 23\n",
    "need_to_alter_field = [20, 18, 17, 16, 15, 14]\n",
    "\n",
    "import codecs\n",
    "all_row =list(result)\n",
    "all_record = []\n",
    "for i in all_row:\n",
    "    each = list(i)\n",
    "    each[14] = float(each[14].split('%')[0])/100\n",
    "    each[15] = float(each[15].split('%')[0])/100\n",
    "    each[16] = float(each[16].split('%')[0])/100\n",
    "    each[17] = float(each[17].split('%')[0])/100\n",
    "    each[18] = float(each[18].split('%')[0])/100\n",
    "    each[20] = float(each[20].split('%')[0])/100\n",
    "    if each[22] == 'N/A' :\n",
    "        each[22] = 0.0\n",
    "    else :\n",
    "        each[22] = float(each[22])\n",
    "    all_record.append(each)"
   ]
  },
  {
   "cell_type": "code",
   "execution_count": 4,
   "metadata": {},
   "outputs": [],
   "source": [
    "#all_record"
   ]
  },
  {
   "cell_type": "code",
   "execution_count": 9,
   "metadata": {},
   "outputs": [
    {
     "name": "stdout",
     "output_type": "stream",
     "text": [
      "福特六和\n"
     ]
    }
   ],
   "source": [
    "print(all_record[1][3])"
   ]
  },
  {
   "cell_type": "code",
   "execution_count": 5,
   "metadata": {
    "scrolled": true
   },
   "outputs": [],
   "source": [
    "#db.get_columns('group4data_trial_5')"
   ]
  },
  {
   "cell_type": "code",
   "execution_count": 8,
   "metadata": {},
   "outputs": [],
   "source": [
    "value_lists = all_record\n",
    "#value_lists"
   ]
  },
  {
   "cell_type": "code",
   "execution_count": 13,
   "metadata": {},
   "outputs": [],
   "source": [
    "class group4data_trial_5(peewee.Model):\n",
    "    VEHICLE_ID = peewee.IntegerField()\n",
    "    DetectedCarCategory = peewee.IntegerField()\n",
    "    IdentityType= peewee.TextField()\n",
    "    CarBrand = peewee.TextField()\n",
    "    RegisteredCarCategory = peewee.IntegerField()\n",
    "    CarFactorized_YM = peewee.IntegerField()\n",
    "    OwnerGender = peewee.TextField()\n",
    "    CarCounty = peewee.TextField()\n",
    "    TotalKM2017 = peewee.IntegerField()\n",
    "    TotalDay2017 = peewee.IntegerField()\n",
    "    AverageDistance = peewee.IntegerField()\n",
    "    DelayedPayBillTimes = peewee.IntegerField()\n",
    "    WeekdayRatio = peewee.IntegerField()\n",
    "    WeekendRatio = peewee.IntegerField()\n",
    "    NorthRatio = peewee.FloatField()\n",
    "    MidRatio = peewee.FloatField()\n",
    "    SouthRatio = peewee.FloatField()\n",
    "    DayPassingRatio = peewee.FloatField()\n",
    "    NightPassingRatio = peewee.FloatField()\n",
    "    AverageSpeed = peewee.FloatField()\n",
    "    OverSpeedRatio = peewee.FloatField()\n",
    "    bigger350KM = peewee.IntegerField()\n",
    "    ACL_days = peewee.FloatField()\n",
    "    CarBrand_Ultimate = peewee.TextField()\n",
    "    \n",
    "    class Meta:\n",
    "        database = db"
   ]
  },
  {
   "cell_type": "code",
   "execution_count": 18,
   "metadata": {},
   "outputs": [],
   "source": [
    "table_dict = ({'VEHICLE_ID': value_lists[i][0],\n",
    "               'DetectedCarCategory': value_lists[i][1],\n",
    "               'IdentityType': value_lists[i][2],\n",
    "               'CarBrand': value_lists[i][3],\n",
    "               'RegisteredCarCategory': value_lists[i][4],\n",
    "               'CarFactorized_YM': value_lists[i][5],\n",
    "               'OwnerGender': value_lists[i][6],\n",
    "               'CarCounty': value_lists[i][7],\n",
    "               'TotalKM2017': value_lists[i][8],\n",
    "               'TotalDay2017': value_lists[i][9],\n",
    "               'AverageDistance': value_lists[i][10],\n",
    "               'DelayedPayBillTimes': value_lists[i][11],\n",
    "               'WeekdayRatio': value_lists[i][12],\n",
    "               'WeekendRatio': value_lists[i][13],\n",
    "               'NorthRatio': value_lists[i][14],\n",
    "               'MidRatio': value_lists[i][15],\n",
    "               'SouthRatio': value_lists[i][16],\n",
    "               'DayPassingRatio': value_lists[i][17],\n",
    "               'NightPassingRatio': value_lists[i][18],\n",
    "               'AverageSpeed': value_lists[i][19],\n",
    "               'OverSpeedRatio': value_lists[i][20],\n",
    "               'bigger350KM': value_lists[i][21],\n",
    "               'ACL_days': value_lists[i][22],\n",
    "               'CarBrand_Ultimate': value_lists[i][23]} for i in range(len(value_lists)))\n",
    "\n",
    "with db.atomic():\n",
    "    group4data_trial_5.insert_many(table_dict).execute()"
   ]
  },
  {
   "cell_type": "code",
   "execution_count": 14,
   "metadata": {},
   "outputs": [],
   "source": [
    "for i in range(len(all_record)) :\n",
    "    #print(all_record[i][3])\n",
    "    \n",
    "    if str(all_record[i][3].encode('utf-8')) == 'VW' :\n",
    "        CarBrand_Utimate = 'VOLKSWAGEN'\n",
    "        all_record[i].append(CarBrand_Utimate)\n",
    "    elif str(all_record[i][3].encode('utf-8')) == 'V.W' :\n",
    "        CarBrand_Utimate = 'VOLKSWAGEN'\n",
    "        all_record[i].append(CarBrand_Utimate)\n",
    "    elif str(all_record[i][3].encode('utf-8')) == 'VOLKS WAGEN' :\n",
    "        CarBrand_Utimate = 'VOLKSWAGEN'\n",
    "        all_record[i].append(CarBrand_Utimate)\n",
    "    \n",
    "    \n",
    "    elif str(all_record[i][3].encode('utf-8')) == '鈴木' :\n",
    "        CarBrand_Utimate = 'SUZUKI'\n",
    "        all_record[i].append(CarBrand_Utimate)\n",
    "        \n",
    "    elif str(all_record[i][3].encode('utf-8')) == 'M-BENZ' :\n",
    "        CarBrand_Utimate = 'BENZ'\n",
    "        all_record[i].append(CarBrand_Utimate)\n",
    "    elif str(all_record[i][3].encode('utf-8')) == 'MERCEDES' :\n",
    "        CarBrand_Utimate = 'BENZ'\n",
    "        all_record[i].append(CarBrand_Utimate)\n",
    "    elif str(all_record[i][3].encode('utf-8')) == 'MERCEDES BENZ' :\n",
    "        CarBrand_Utimate = 'BENZ'\n",
    "        all_record[i].append(CarBrand_Utimate)\n",
    "    elif str(all_record[i][3].encode('utf-8')) == '賓士' :\n",
    "        CarBrand_Utimate = 'BENZ'\n",
    "        all_record[i].append(CarBrand_Utimate)\n",
    "    elif str(all_record[i][3].encode('utf-8')) == 'MERCEDES-BENZ' :\n",
    "        CarBrand_Utimate = 'BENZ'\n",
    "        all_record[i].append(CarBrand_Utimate)\n",
    "    elif str(all_record[i][3].encode('utf-8')) == 'Mercedes-Benz' :\n",
    "        CarBrand_Utimate = 'BENZ'\n",
    "        all_record[i].append(CarBrand_Utimate)\n",
    "    elif str(all_record[i][3].encode('utf-8')) == '監-BENZ' :\n",
    "        CarBrand_Utimate = 'BENZ'\n",
    "        all_record[i].append(CarBrand_Utimate)\n",
    "        \n",
    "    elif str(all_record[i][3].encode('utf-8')) == 'SANYANG' :\n",
    "        CarBrand_Utimate = 'HYUNDAI'\n",
    "        all_record[i].append(CarBrand_Utimate)\n",
    "    elif str(all_record[i][3].encode('utf-8')) == '現代' :\n",
    "        CarBrand_Utimate = 'HYUNDAI'\n",
    "        all_record[i].append(CarBrand_Utimate)    \n",
    "    elif str(all_record[i][3].encode('utf-8')) == '三陽' :\n",
    "        CarBrand_Utimate = 'HYUNDAI'\n",
    "        all_record[i].append(CarBrand_Utimate)\n",
    "    elif str(all_record[i][3].encode('utf-8')) == 'HTUNDAI' :\n",
    "        CarBrand_Utimate = 'HYUNDAI'\n",
    "        all_record[i].append(CarBrand_Utimate)\n",
    "    elif str(all_record[i][3].encode('utf-8')) == 'SSANGYONG' :\n",
    "        CarBrand_Utimate = 'HYUNDAI'\n",
    "        all_record[i].append(CarBrand_Utimate)\n",
    "        \n",
    "    elif str(all_record[i][3].encode('utf-8')) == '起亞' :\n",
    "        CarBrand_Utimate = 'KIA'\n",
    "        all_record[i].append(CarBrand_Utimate)\n",
    "        \n",
    "    elif str(all_record[i][3].encode('utf-8')) == '五十鈴' :\n",
    "        CarBrand_Utimate = 'ISUZU'\n",
    "        all_record[i].append(CarBrand_Utimate)\n",
    "        \n",
    "    elif str(all_record[i][3].encode('utf-8')) == '富豪' :\n",
    "        CarBrand_Utimate = 'VOLVO'\n",
    "        all_record[i].append(CarBrand_Utimate)\n",
    "    \n",
    "    elif str(all_record[i][3].encode('utf-8')) == '監-日產' :\n",
    "        CarBrand_Utimate = 'NISSAN'\n",
    "        all_record[i].append(CarBrand_Utimate)\n",
    "    elif str(all_record[i][3].encode('utf-8')) == '監-裕隆' :\n",
    "        CarBrand_Utimate = 'NISSAN'\n",
    "        all_record[i].append(CarBrand_Utimate)\n",
    "    elif str(all_record[i][3].encode('utf-8')) == '日產' :\n",
    "        CarBrand_Utimate = 'NISSAN'\n",
    "        all_record[i].append(CarBrand_Utimate)\n",
    "    elif str(all_record[i][3].encode('utf-8')) == '裕隆' :\n",
    "        CarBrand_Utimate = 'NISSAN'\n",
    "        all_record[i].append(CarBrand_Utimate)\n",
    "    \n",
    "    elif str(all_record[i][3].encode('utf-8')) == '三菱' :\n",
    "        CarBrand_Utimate = 'MITSUBISHI'\n",
    "        all_record[i].append(CarBrand_Utimate)\n",
    "    elif str(all_record[i][3].encode('utf-8')) == 'MITSUBISHI FUSO' :\n",
    "        CarBrand_Utimate = 'MITSUBISHI'\n",
    "        all_record[i].append(CarBrand_Utimate)\n",
    "    \n",
    "    elif str(all_record[i][3].encode('utf-8')) == 'Mazda馬自達' :\n",
    "        CarBrand_Utimate = 'MAZDA'\n",
    "        all_record[i].append(CarBrand_Utimate)\n",
    "    elif str(all_record[i][3].encode('utf-8')) == '馬自達' :\n",
    "        CarBrand_Utimate = 'MAZDA'\n",
    "        all_record[i].append(CarBrand_Utimate)\n",
    "    elif str(all_record[i][3].encode('utf-8')) == 'Mazda 馬自達' :\n",
    "        CarBrand_Utimate = 'MAZDA'\n",
    "        all_record[i].append(CarBrand_Utimate)\n",
    "        \n",
    "    elif str(all_record[i][3].encode('utf-8')) == '福特六和' :\n",
    "        CarBrand_Utimate = 'FORD'\n",
    "        all_record[i].append(CarBrand_Utimate)\n",
    "        \n",
    "    elif str(all_record[i][3].encode('utf-8')) == '本田' :\n",
    "        CarBrand_Utimate = 'HONDA'\n",
    "        all_record[i].append(CarBrand_Utimate)\n",
    "        \n",
    "    elif str(all_record[i][3].encode('utf-8')) == '監-國瑞' :\n",
    "        CarBrand_Utimate = 'TOYOTA'\n",
    "        all_record[i].append(CarBrand_Utimate)\n",
    "    elif str(all_record[i][3].encode('utf-8')) == '國瑞' :\n",
    "        CarBrand_Utimate = 'TOYOTA'\n",
    "        all_record[i].append(CarBrand_Utimate)  \n",
    "    \n",
    "    elif str(all_record[i][3].encode('utf-8')) == '慶#3E2J#' :\n",
    "        CarBrand_Utimate = '慶眾'\n",
    "        all_record[i].append(CarBrand_Utimate)\n",
    "    elif str(all_record[i][3].encode('utf-8')) == '慶' :\n",
    "        CarBrand_Utimate = '慶眾'\n",
    "        all_record[i].append(CarBrand_Utimate)\n",
    "    elif str(all_record[i][3].encode('utf-8')) == '慶眾' :\n",
    "        CarBrand_Utimate = '慶眾'\n",
    "        all_record[i].append(CarBrand_Utimate)\n",
    "        \n",
    "    elif str(all_record[i][3].encode('utf-8')) == '監-中華' :\n",
    "        CarBrand_Utimate = '中華'\n",
    "        all_record[i].append(CarBrand_Utimate)\n",
    "        \n",
    "    \n",
    "    elif str(all_record[i][3].encode('utf-8')) == '斯堪尼亞' :\n",
    "        CarBrand_Utimate = 'SCANIA'\n",
    "        all_record[i].append(CarBrand_Utimate)\n",
    "    \n",
    "    \n",
    "    \n",
    "    else :\n",
    "        CarBrand_Utimate = str(all_record[i][3].encode('utf-8'))\n",
    "        all_record[i].append(CarBrand_Utimate)"
   ]
  },
  {
   "cell_type": "code",
   "execution_count": 15,
   "metadata": {},
   "outputs": [
    {
     "name": "stdout",
     "output_type": "stream",
     "text": [
      "日產\n"
     ]
    }
   ],
   "source": [
    "print(str(all_record[2][3].encode('utf-8')))"
   ]
  },
  {
   "cell_type": "code",
   "execution_count": 16,
   "metadata": {},
   "outputs": [
    {
     "name": "stdout",
     "output_type": "stream",
     "text": [
      "HONDA\n"
     ]
    }
   ],
   "source": [
    "print(all_record[58][23])"
   ]
  },
  {
   "cell_type": "code",
   "execution_count": 11,
   "metadata": {},
   "outputs": [
    {
     "data": {
      "text/plain": [
       "'\\nfor i in all_record :\\n    print(i[23])\\n'"
      ]
     },
     "execution_count": 11,
     "metadata": {},
     "output_type": "execute_result"
    }
   ],
   "source": [
    "'''\n",
    "for i in all_record :\n",
    "    print(i[23])\n",
    "'''"
   ]
  },
  {
   "cell_type": "code",
   "execution_count": 23,
   "metadata": {},
   "outputs": [
    {
     "data": {
      "text/plain": [
       "str"
      ]
     },
     "execution_count": 23,
     "metadata": {},
     "output_type": "execute_result"
    }
   ],
   "source": [
    "CarBrand_Utimate = all_record[2][3]\n",
    "stt = str(CarBrand_Utimate.encode('utf-8'))\n",
    "type(stt)"
   ]
  },
  {
   "cell_type": "code",
   "execution_count": 12,
   "metadata": {},
   "outputs": [
    {
     "data": {
      "text/plain": [
       "'\\nfor i in range(len(value_lists)) :\\n    print(all_record[i][3])\\n    \\n'"
      ]
     },
     "execution_count": 12,
     "metadata": {},
     "output_type": "execute_result"
    }
   ],
   "source": [
    "'''\n",
    "for i in range(len(value_lists)) :\n",
    "    print(all_record[i][3])\n",
    "    \n",
    "'''"
   ]
  },
  {
   "cell_type": "code",
   "execution_count": null,
   "metadata": {},
   "outputs": [],
   "source": []
  }
 ],
 "metadata": {
  "kernelspec": {
   "display_name": "Python 2",
   "language": "python",
   "name": "python2"
  },
  "language_info": {
   "codemirror_mode": {
    "name": "ipython",
    "version": 2
   },
   "file_extension": ".py",
   "mimetype": "text/x-python",
   "name": "python",
   "nbconvert_exporter": "python",
   "pygments_lexer": "ipython2",
   "version": "2.7.14"
  }
 },
 "nbformat": 4,
 "nbformat_minor": 2
}
