{
 "cells": [
  {
   "cell_type": "markdown",
   "metadata": {},
   "source": [
    "###  Reading data -  < altered_g4data_1.csv >"
   ]
  },
  {
   "cell_type": "code",
   "execution_count": 1,
   "metadata": {},
   "outputs": [],
   "source": [
    "from sklearn.cluster import KMeans\n",
    "import numpy as np\n",
    "import pandas as pd"
   ]
  },
  {
   "cell_type": "code",
   "execution_count": 13,
   "metadata": {},
   "outputs": [],
   "source": [
    "df = pd.read_csv('C://Users//Administrator//Documents//code//data//DTP_D4//altered_g4data_1.csv', na_filter=False, encoding = 'utf-8')"
   ]
  },
  {
   "cell_type": "code",
   "execution_count": 41,
   "metadata": {
    "scrolled": true
   },
   "outputs": [],
   "source": [
    "#df"
   ]
  },
  {
   "cell_type": "code",
   "execution_count": null,
   "metadata": {
    "scrolled": true
   },
   "outputs": [],
   "source": []
  },
  {
   "cell_type": "markdown",
   "metadata": {},
   "source": [
    "### adding columns to df ( for car ages ) ,  and make a new csv"
   ]
  },
  {
   "cell_type": "code",
   "execution_count": 7,
   "metadata": {},
   "outputs": [],
   "source": [
    "def splitting_columns_produced_Y(df_row):\n",
    "    \n",
    "    if df_row[5] =='' :\n",
    "        df_row[5] = \"000000\"\n",
    "    \n",
    "    year = str(df_row[5]).split('.')[0][:4]\n",
    "    return year"
   ]
  },
  {
   "cell_type": "code",
   "execution_count": 15,
   "metadata": {},
   "outputs": [],
   "source": [
    "df['car_produced_year'] = df.apply(splitting_columns_produced_Y, axis = 1)"
   ]
  },
  {
   "cell_type": "code",
   "execution_count": 10,
   "metadata": {},
   "outputs": [],
   "source": [
    "def splitting_columns_produced_M(df_row):\n",
    "    \n",
    "    if df_row[5] =='' :\n",
    "        df_row[5] = \"000000\"\n",
    "    \n",
    "    month = str(df_row[5]).split('.')[0][4] + str(df_row[5]).split('.')[0][5]\n",
    "    return month"
   ]
  },
  {
   "cell_type": "code",
   "execution_count": 17,
   "metadata": {},
   "outputs": [],
   "source": [
    "try :\n",
    "    df['car_produced_month'] = df.apply(splitting_columns_produced_M, axis = 1)\n",
    "except :\n",
    "    print('probably NULL encoding error')"
   ]
  },
  {
   "cell_type": "code",
   "execution_count": 24,
   "metadata": {},
   "outputs": [],
   "source": [
    "def calculate_ages_by_month(df_row):\n",
    "    \n",
    "    if df_row['car_produced_year'] == 'NULL' and df_row['car_produced_month'] == 'NULL' :\n",
    "        #print(df_row)\n",
    "        return 0\n",
    "    elif df_row['car_produced_month'] == '' :\n",
    "        ages_by_month = (2018 - float(df_row[4]) )\n",
    "        return ages_by_month\n",
    "    \n",
    "    elif df_row['car_produced_year'] == '0000' and df_row['car_produced_month'] == '00' :\n",
    "        return 0\n",
    "    elif df_row['car_produced_month'] == '00' :\n",
    "        ages_by_month = (2018 - float(df_row['car_produced_year']) )\n",
    "        return ages_by_month\n",
    "    \n",
    "    else :\n",
    "         \n",
    "        ages_by_month = ((2018 - float(df_row['car_produced_year']) )*12 - float(df_row['car_produced_month']) + 3)//12\n",
    "        return ages_by_month \n",
    "    "
   ]
  },
  {
   "cell_type": "code",
   "execution_count": 25,
   "metadata": {},
   "outputs": [],
   "source": [
    "df['ages_by_month'] = df.apply(calculate_ages_by_month, axis = 1)"
   ]
  },
  {
   "cell_type": "code",
   "execution_count": 27,
   "metadata": {},
   "outputs": [],
   "source": [
    "def calculate_rest_month(df_row):\n",
    "    \n",
    "    if df_row['car_produced_year'] == 'NULL' and df_row['car_produced_month'] == 'NULL' :\n",
    "        #print(df_row)\n",
    "        return 0\n",
    "    elif df_row['car_produced_month'] == '' :\n",
    "        rest_month = (2018 - float(df_row['car_produced_year']) )//12\n",
    "        return rest_month\n",
    "    \n",
    "    elif df_row['car_produced_year'] == '0000' and df_row['car_produced_month'] == '00' :\n",
    "        return 0\n",
    "    elif df_row['car_produced_month'] == '00' :\n",
    "        rest_month = (2018 - float(df_row['car_produced_year']) )//12\n",
    "        return rest_month\n",
    "    \n",
    "        \n",
    "    else :\n",
    "        rest_month = ((2018 - float(df_row['car_produced_year']) )*12 - float(df_row['car_produced_month']) + 3) % 12\n",
    "        return rest_month "
   ]
  },
  {
   "cell_type": "code",
   "execution_count": 28,
   "metadata": {},
   "outputs": [],
   "source": [
    "df['rest_month'] = df.apply(calculate_rest_month, axis = 1)"
   ]
  },
  {
   "cell_type": "code",
   "execution_count": 30,
   "metadata": {},
   "outputs": [],
   "source": [
    "def calculate_total_month(df_row):\n",
    "    \n",
    "    if df_row['car_produced_year'] == 'NULL' and df_row['car_produced_month'] == 'NULL' :\n",
    "        #print(df_row)\n",
    "        return 0\n",
    "    elif df_row['car_produced_month'] == '' :\n",
    "        total_month = (2018 - float(df_row['car_produced_year']) )*12 + 3\n",
    "        return total_month\n",
    "    \n",
    "    elif df_row['car_produced_year'] == '0000' and df_row['car_produced_month'] == '00' :\n",
    "        return 0\n",
    "    elif df_row['car_produced_month'] == '00' :\n",
    "        total_month = (2018 - float(df_row['car_produced_year']) )*12 + 3\n",
    "        return total_month\n",
    "        \n",
    "    else :\n",
    "        total_month = ((2018 - float(df_row['car_produced_year']) )*12 - float(df_row['car_produced_month']) + 3)\n",
    "        return total_month"
   ]
  },
  {
   "cell_type": "code",
   "execution_count": 31,
   "metadata": {},
   "outputs": [],
   "source": [
    "df['total_month'] = df.apply(calculate_total_month, axis = 1)"
   ]
  },
  {
   "cell_type": "markdown",
   "metadata": {},
   "source": [
    "####  to_csv()"
   ]
  },
  {
   "cell_type": "code",
   "execution_count": 33,
   "metadata": {},
   "outputs": [],
   "source": [
    "columns = ['VEHICLE_ID', 'DetectedCarCategory', 'IdentityType', 'CarBrand', 'RegisteredCarCategory' , 'CarFactorized_YM', 'OwnerGender', 'CarCounty', 'TotalKM2017', 'TotalDay2017', 'AverageDistance', 'DelayedPayBillTimes', 'WeekdayRatio', 'WeekendRatio', 'NorthRatio', 'MidRatio', 'SouthRatio', 'DayPassingRatio', 'NightPassingRatio', 'AverageSpeed', 'OverSpeedRatio', 'bigger350KM', 'ACL_days', 'CarBrand_Ultimate', 'car_produced_year', 'car_produced_month', 'ages_by_month', 'rest_month', 'total_month']\n",
    "df.to_csv('C://Users//Administrator//Documents//code//data//DTP_D4//data_5000_with_ages.csv',columns = columns , index=False , header = True,sep=',',encoding='utf-8')"
   ]
  },
  {
   "cell_type": "markdown",
   "metadata": {},
   "source": [
    "### insert into mySQL"
   ]
  },
  {
   "cell_type": "code",
   "execution_count": 35,
   "metadata": {},
   "outputs": [],
   "source": [
    "import peewee\n",
    "import pymysql\n",
    "\n",
    "db = peewee.MySQLDatabase('db_test',\n",
    "                          user='root',\n",
    "                          host='localhost',\n",
    "                          password='root5438',\n",
    "                          port=3306)"
   ]
  },
  {
   "cell_type": "code",
   "execution_count": 36,
   "metadata": {},
   "outputs": [],
   "source": [
    "class data_5000_wth_ages(peewee.Model):\n",
    "    VEHICLE_ID = peewee.IntegerField()\n",
    "    DetectedCarCategory = peewee.CharField()\n",
    "    IdentityType= peewee.CharField()\n",
    "    CarBrand = peewee.CharField()\n",
    "    RegisteredCarCategory = peewee.CharField()\n",
    "    CarFactorized_YM = peewee.CharField()\n",
    "    OwnerGender = peewee.TextField()\n",
    "    CarCounty = peewee.TextField()\n",
    "    TotalKM2017 = peewee.FloatField()\n",
    "    TotalDay2017 = peewee.FloatField()\n",
    "    AverageDistance = peewee.FloatField()\n",
    "    DelayedPayBillTimes = peewee.FloatField()\n",
    "    WeekdayRatio = peewee.FloatField()\n",
    "    WeekendRatio = peewee.FloatField()\n",
    "    NorthRatio = peewee.FloatField()\n",
    "    MidRatio = peewee.FloatField()\n",
    "    SouthRatio = peewee.FloatField()\n",
    "    DayPassingRatio = peewee.FloatField()\n",
    "    NightPassingRatio = peewee.FloatField()\n",
    "    AverageSpeed = peewee.FloatField()\n",
    "    OverSpeedRatio = peewee.FloatField()\n",
    "    bigger350KM = peewee.FloatField()\n",
    "    ACL_days = peewee.FloatField()\n",
    "    CarBrand_Ultimate = peewee.CharField()\n",
    "    car_produced_year = peewee.FloatField()\n",
    "    car_produced_month = peewee.FloatField()\n",
    "    ages_by_month = peewee.FloatField()\n",
    "    rest_month = peewee.FloatField()\n",
    "    total_month = peewee.FloatField()\n",
    "    \n",
    "    class Meta:\n",
    "        database = db"
   ]
  },
  {
   "cell_type": "code",
   "execution_count": 40,
   "metadata": {},
   "outputs": [],
   "source": [
    "table_dict = ({'VEHICLE_ID': value_lists[i][0],\n",
    "               'DetectedCarCategory': value_lists[i][1],\n",
    "               'IdentityType': value_lists[i][2],\n",
    "               'CarBrand': value_lists[i][3],\n",
    "               'RegisteredCarCategory': value_lists[i][4],\n",
    "               'CarFactorized_YM': value_lists[i][5],\n",
    "               'OwnerGender': value_lists[i][6],\n",
    "               'CarCounty': value_lists[i][7],\n",
    "               'TotalKM2017': value_lists[i][8],\n",
    "               'TotalDay2017': value_lists[i][9],\n",
    "               'AverageDistance': value_lists[i][10],\n",
    "               'DelayedPayBillTimes': value_lists[i][11],\n",
    "               'WeekdayRatio': value_lists[i][12],\n",
    "               'WeekendRatio': value_lists[i][13],\n",
    "               'NorthRatio': value_lists[i][14],\n",
    "               'MidRatio': value_lists[i][15],\n",
    "               'SouthRatio': value_lists[i][16],\n",
    "               'DayPassingRatio': value_lists[i][17],\n",
    "               'NightPassingRatio': value_lists[i][18],\n",
    "               'AverageSpeed': value_lists[i][19],\n",
    "               'OverSpeedRatio': value_lists[i][20],\n",
    "               'bigger350KM': value_lists[i][21],\n",
    "               'ACL_days': value_lists[i][22],\n",
    "               'CarBrand_Ultimate': value_lists[i][23],\n",
    "               'car_produced_year' : value_lists[i][24],\n",
    "               'car_produced_month': value_lists[i][25],\n",
    "               'ages_by_month' : value_lists[i][26],\n",
    "               'rest_month' : value_lists[i][27],\n",
    "               'total_month' : value_lists[i][28]\n",
    "               \n",
    "              } for i in range(len(value_lists)))\n",
    "\n",
    "with db.atomic():\n",
    "    data_5000_wth_ages.insert_many(table_dict).execute()"
   ]
  },
  {
   "cell_type": "code",
   "execution_count": 37,
   "metadata": {},
   "outputs": [],
   "source": [
    "df_nn = pd.read_csv('C://Users//Administrator//Documents//code//data//DTP_D4//data_5000_with_ages.csv', na_filter=True, encoding = 'utf-8')"
   ]
  },
  {
   "cell_type": "code",
   "execution_count": 38,
   "metadata": {},
   "outputs": [],
   "source": [
    "rows = []\n",
    "for i in df_nn.iterrows() :\n",
    "    one_row = list(i)\n",
    "    listed_row = list(one_row[1])\n",
    "    \n",
    "    rows.append(listed_row)"
   ]
  },
  {
   "cell_type": "code",
   "execution_count": 39,
   "metadata": {},
   "outputs": [],
   "source": [
    "value_lists = rows "
   ]
  },
  {
   "cell_type": "markdown",
   "metadata": {},
   "source": [
    "### cluster"
   ]
  },
  {
   "cell_type": "code",
   "execution_count": 43,
   "metadata": {
    "scrolled": true
   },
   "outputs": [],
   "source": [
    "df = pd.read_csv('C://Users//Administrator//Documents//code//data//DTP_D4//data_5000_with_ages.csv', na_filter=True, encoding = 'utf-8')"
   ]
  },
  {
   "cell_type": "code",
   "execution_count": 58,
   "metadata": {
    "scrolled": true
   },
   "outputs": [],
   "source": [
    "#df"
   ]
  },
  {
   "cell_type": "code",
   "execution_count": 49,
   "metadata": {
    "scrolled": true
   },
   "outputs": [],
   "source": [
    "cordf = df.corr()"
   ]
  },
  {
   "cell_type": "code",
   "execution_count": 51,
   "metadata": {},
   "outputs": [],
   "source": [
    "columns = ['VEHICLE_ID', 'DetectedCarCategory', 'IdentityType', 'CarBrand', 'RegisteredCarCategory' , 'CarFactorized_YM', 'OwnerGender', 'CarCounty', 'TotalKM2017', 'TotalDay2017', 'AverageDistance', 'DelayedPayBillTimes', 'WeekdayRatio', 'WeekendRatio', 'NorthRatio', 'MidRatio', 'SouthRatio', 'DayPassingRatio', 'NightPassingRatio', 'AverageSpeed', 'OverSpeedRatio', 'bigger350KM', 'ACL_days', 'CarBrand_Ultimate', 'car_produced_year', 'car_produced_month', 'ages_by_month', 'rest_month', 'total_month']\n",
    "cordf.to_csv('C://Users//Administrator//Documents//code//data//DTP_D4//corr_5000_data.csv',columns = columns , index=False , header = True,sep=',',encoding='utf-8')"
   ]
  },
  {
   "cell_type": "code",
   "execution_count": 55,
   "metadata": {},
   "outputs": [
    {
     "name": "stdout",
     "output_type": "stream",
     "text": [
      "('K:', 1, 'cost:', 10287780.7838)\n",
      "('K:', 2, 'cost:', 4395730.5154391145)\n",
      "('K:', 3, 'cost:', 2611845.989920539)\n",
      "('K:', 4, 'cost:', 1737240.1363839337)\n",
      "('K:', 5, 'cost:', 1256829.2140456722)\n",
      "('K:', 6, 'cost:', 947127.3675134722)\n",
      "('K:', 7, 'cost:', 718504.7291747548)\n",
      "('K:', 8, 'cost:', 549283.7311203751)\n",
      "('K:', 9, 'cost:', 436008.233919554)\n",
      "('K:', 10, 'cost:', 359233.18794916314)\n"
     ]
    },
    {
     "data": {
      "image/png": "[encoded data removed]",
      "text/plain": [
       "<Figure size 432x288 with 1 Axes>"
      ]
     },
     "metadata": {},
     "output_type": "display_data"
    }
   ],
   "source": [
    "k_list = []\n",
    "cost = []\n",
    "for k in range(1, 11):\n",
    "    kmeans_model = KMeans(n_clusters=k, random_state=1).fit(X)\n",
    "    labels = kmeans_model.labels_\n",
    "    inertia = kmeans_model.inertia_\n",
    "    print('K:',k,'cost:', inertia)\n",
    "    k_list.append(k)\n",
    "    cost.append(inertia)\n",
    "    \n",
    "\n",
    "plt.plot(k_list, cost, 'ro')\n",
    "plt.xlabel('Number of clusters')\n",
    "plt.ylabel('Distortion')\n",
    "plt.show()"
   ]
  },
  {
   "cell_type": "code",
   "execution_count": 57,
   "metadata": {},
   "outputs": [
    {
     "data": {
      "image/png": "[encoded data removed]",
      "text/plain": [
       "<Figure size 432x288 with 1 Axes>"
      ]
     },
     "metadata": {},
     "output_type": "display_data"
    }
   ],
   "source": [
    "import matplotlib.pyplot as plt\n",
    "from sklearn.cluster import KMeans\n",
    "import numpy as np\n",
    "from sklearn.preprocessing import Imputer\n",
    "\n",
    "feature = ['AverageDistance', 'bigger350KM']\n",
    "X = np.array(df[feature])\n",
    "\n",
    "n_clusters = 4\n",
    "km = KMeans(n_clusters).fit(X)\n",
    "km.labels_\n",
    "\n",
    "\n",
    "colors = ['grey', 'blue', 'yellow', 'pink']\n",
    "markers = ['^', 'x', 'o', 's']\n",
    "for i in range(n_clusters):\n",
    "    members = km.labels_ == i\n",
    "    plt.scatter(X[members, 0], X[members, 1], s=60, marker = markers[i], c=colors[i], label='cluster %s'%i, alpha=0.5)\n",
    "\n",
    "    \n",
    "plt.scatter(km.cluster_centers_[:, 0],\n",
    "            km.cluster_centers_[:, 1],\n",
    "            s=100,\n",
    "            marker='*',\n",
    "            c='red',\n",
    "            label='centroids')\n",
    "plt.legend()\n",
    "plt.grid()\n",
    "plt.tight_layout()   \n",
    "plt.title('Cluster with averagedistance and bigger350KM')\n",
    "plt.xlabel('AverageDistance')\n",
    "plt.ylabel('bigger350KM')\n",
    "plt.show()"
   ]
  },
  {
   "cell_type": "code",
   "execution_count": null,
   "metadata": {},
   "outputs": [],
   "source": []
  }
 ],
 "metadata": {
  "kernelspec": {
   "display_name": "Python 2",
   "language": "python",
   "name": "python2"
  },
  "language_info": {
   "codemirror_mode": {
    "name": "ipython",
    "version": 2
   },
   "file_extension": ".py",
   "mimetype": "text/x-python",
   "name": "python",
   "nbconvert_exporter": "python",
   "pygments_lexer": "ipython2",
   "version": "2.7.14"
  }
 },
 "nbformat": 4,
 "nbformat_minor": 2
}
