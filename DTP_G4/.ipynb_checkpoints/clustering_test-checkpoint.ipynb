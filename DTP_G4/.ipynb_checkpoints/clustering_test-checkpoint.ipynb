{
 "cells": [
  {
   "cell_type": "code",
   "execution_count": 10,
   "metadata": {},
   "outputs": [],
   "source": [
    "import peewee\n",
    "import pymysql\n",
    "\n",
    "db = peewee.MySQLDatabase('db_test',\n",
    "                          user='root',\n",
    "                          host='localhost',\n",
    "                          password='root5438',\n",
    "                          port=3306)"
   ]
  },
  {
   "cell_type": "code",
   "execution_count": 2,
   "metadata": {
    "scrolled": true
   },
   "outputs": [],
   "source": [
    "#db.get_columns('group4data_trial_4')"
   ]
  },
  {
   "cell_type": "code",
   "execution_count": 86,
   "metadata": {},
   "outputs": [],
   "source": [
    "import pandas as pd\n",
    "\n",
    "data_df = pd.read_csv('C://Users//Administrator//Documents//code//data//DTP_D4//Group4Data_Trial_2csv4eng.txt', na_filter=True, encoding = 'utf-8')"
   ]
  },
  {
   "cell_type": "code",
   "execution_count": 1,
   "metadata": {
    "scrolled": true
   },
   "outputs": [],
   "source": [
    "#data_df"
   ]
  },
  {
   "cell_type": "code",
   "execution_count": 4,
   "metadata": {},
   "outputs": [],
   "source": [
    "def transform_data_type(dataframe, col_list, col_name) : \n",
    "\n",
    "\n",
    "    for col_num in range(len(col_list)) :\n",
    "    \n",
    "        new_value = []\n",
    "\n",
    "        for i in list(dataframe.iloc[:, col_list[col_num]] ):\n",
    "          \n",
    "            if pd.isnull(i) :\n",
    "                i = '0'\n",
    "            elif i.encode('utf-8').split('%')[0] == '*' :\n",
    "                i = '0'\n",
    "            elif i.encode('utf-8').split('%')[0] == '-' :\n",
    "                i = '0'\n",
    "            else :\n",
    "                i = i.encode('utf-8').split('%')[0]\n",
    "\n",
    "            new_i = float(i)/100\n",
    "            new_value.append(new_i)\n",
    "               \n",
    "        new_column = pd.Series(new_value, name='%s'%col_name[col_num] )\n",
    "        #print(new_column)\n",
    "        dataframe.update(new_column)\n",
    "    \n",
    "    return dataframe"
   ]
  },
  {
   "cell_type": "code",
   "execution_count": 5,
   "metadata": {},
   "outputs": [],
   "source": [
    "def cleaning_data_for_null(dataframe, col, colname):\n",
    "    \n",
    "    new_value = []\n",
    "    for i in list(dataframe.iloc[:, col] ):\n",
    "        if pd.isnull(i) :\n",
    "            i = 0.0\n",
    "        else :\n",
    "            i = i\n",
    "        new_value.append(i)\n",
    "    new_column = pd.Series(new_value, name='%s'%colname )  \n",
    "    dataframe.update(new_column)\n",
    "    \n",
    "    return dataframe"
   ]
  },
  {
   "cell_type": "code",
   "execution_count": 6,
   "metadata": {},
   "outputs": [],
   "source": [
    "def cleaning_data_for_aliens(dataframe, col, colname):\n",
    "    \n",
    "    new_value = []\n",
    "    for i in list(dataframe.iloc[:, col] ):\n",
    "        if pd.isnull(i) :\n",
    "            i = 0.0\n",
    "        elif i.encode('utf-8') == '*':\n",
    "            i = 0.0\n",
    "        elif i.encode('utf-8') == '-':\n",
    "            i = 0.0    \n",
    "            \n",
    "        else :\n",
    "            i = float(i)\n",
    "        new_value.append(i)\n",
    "    new_column = pd.Series(new_value, name='%s'%colname )  \n",
    "    dataframe.update(new_column)\n",
    "    \n",
    "    return dataframe"
   ]
  },
  {
   "cell_type": "code",
   "execution_count": 87,
   "metadata": {},
   "outputs": [],
   "source": [
    "col_name = ['NorthRatio', 'MidRatio', 'SouthRatio', 'DayPassingRatio', 'NightPassingRatio', 'OverSpeedRatio']\n",
    "col_list = [14, 15, 16, 17, 18, 20]\n",
    "new_df = transform_data_type(data_df, col_list, col_name)\n",
    "col = 22\n",
    "colname = 'ACL_days'\n",
    "new_df = cleaning_data_for_null(new_df, col, colname)\n",
    "col2 = 21\n",
    "colname2 = 'bigger350K'\n",
    "new_df = cleaning_data_for_aliens(new_df, col2, colname2)"
   ]
  },
  {
   "cell_type": "code",
   "execution_count": 3,
   "metadata": {
    "scrolled": true
   },
   "outputs": [],
   "source": [
    "#new_df"
   ]
  },
  {
   "cell_type": "code",
   "execution_count": 108,
   "metadata": {},
   "outputs": [],
   "source": [
    "columns = ['VEHICLE_ID', 'DetectedCarCategory', 'IdentityType', 'CarBrand', 'RegisteredCarCategory' , 'CarFactorized_YM', 'OwnerGender', 'CarCounty', 'TotalKM2017', 'TotalDay2017', 'AverageDistance', 'DelayedPayBillTimes', 'WeekdayRatio', 'WeekendRatio', 'NorthRatio', 'MidRatio', 'SouthRatio', 'DayPassingRatio', 'NightPassingRatio', 'AverageSpeed', 'OverSpeedRatio', 'bigger350KM', 'ACL_days', 'CarBrand_Ultimate']\n",
    "nn_df.to_csv('C://Users//Administrator//Documents//code//data//DTP_D4//altered_g4data2.csv',columns = columns , index=False , header = True,sep=',',encoding='utf-8')"
   ]
  },
  {
   "cell_type": "code",
   "execution_count": 135,
   "metadata": {},
   "outputs": [
    {
     "name": "stdout",
     "output_type": "stream",
     "text": [
      "0       0.00\n",
      "1       0.89\n",
      "2       0.00\n",
      "3       0.00\n",
      "4       1.00\n",
      "5       1.00\n",
      "6       0.00\n",
      "7       1.00\n",
      "8       0.00\n",
      "9       1.00\n",
      "10      1.00\n",
      "11      0.00\n",
      "12      0.00\n",
      "13      0.93\n",
      "14      0.42\n",
      "15      0.42\n",
      "16      1.00\n",
      "17      1.00\n",
      "18      0.98\n",
      "19      0.92\n",
      "20      1.00\n",
      "21      0.00\n",
      "22      0.00\n",
      "23      0.14\n",
      "24      0.02\n",
      "25      1.00\n",
      "26      0.00\n",
      "27      0.00\n",
      "28      0.19\n",
      "29      0.62\n",
      "        ... \n",
      "4970    0.00\n",
      "4971    0.00\n",
      "4972    0.14\n",
      "4973    0.00\n",
      "4974    0.00\n",
      "4975    1.00\n",
      "4976    1.00\n",
      "4977    1.00\n",
      "4978    0.73\n",
      "4979    0.96\n",
      "4980    1.00\n",
      "4981    1.00\n",
      "4982    0.00\n",
      "4983    0.88\n",
      "4984    0.51\n",
      "4985    0.96\n",
      "4986    1.00\n",
      "4987    0.43\n",
      "4988    0.00\n",
      "4989    0.00\n",
      "4990    0.00\n",
      "4991    0.00\n",
      "4992    0.00\n",
      "4993    0.00\n",
      "4994    0.77\n",
      "4995    1.00\n",
      "4996    0.00\n",
      "4997    0.02\n",
      "4998    0.00\n",
      "4999    0.87\n",
      "Name: NorthRatio, Length: 5000, dtype: float64\n",
      "0       1.00\n",
      "1       0.11\n",
      "2       0.00\n",
      "3       0.93\n",
      "4       0.00\n",
      "5       0.00\n",
      "6       1.00\n",
      "7       0.00\n",
      "8       0.00\n",
      "9       0.00\n",
      "10      0.00\n",
      "11      0.00\n",
      "12      0.00\n",
      "13      0.07\n",
      "14      0.24\n",
      "15      0.55\n",
      "16      0.00\n",
      "17      0.00\n",
      "18      0.02\n",
      "19      0.08\n",
      "20      0.00\n",
      "21      1.00\n",
      "22      0.00\n",
      "23      0.49\n",
      "24      0.08\n",
      "25      0.00\n",
      "26      0.00\n",
      "27      0.31\n",
      "28      0.67\n",
      "29      0.20\n",
      "        ... \n",
      "4970    0.00\n",
      "4971    1.00\n",
      "4972    0.59\n",
      "4973    0.00\n",
      "4974    1.00\n",
      "4975    0.00\n",
      "4976    0.00\n",
      "4977    0.00\n",
      "4978    0.27\n",
      "4979    0.02\n",
      "4980    0.00\n",
      "4981    0.00\n",
      "4982    1.00\n",
      "4983    0.12\n",
      "4984    0.33\n",
      "4985    0.04\n",
      "4986    0.00\n",
      "4987    0.38\n",
      "4988    0.00\n",
      "4989    0.00\n",
      "4990    0.91\n",
      "4991    0.44\n",
      "4992    0.00\n",
      "4993    0.00\n",
      "4994    0.15\n",
      "4995    0.00\n",
      "4996    0.00\n",
      "4997    0.98\n",
      "4998    0.58\n",
      "4999    0.13\n",
      "Name: MidRatio, Length: 5000, dtype: float64\n",
      "0       0.00\n",
      "1       0.00\n",
      "2       1.00\n",
      "3       0.07\n",
      "4       0.00\n",
      "5       0.00\n",
      "6       0.00\n",
      "7       0.00\n",
      "8       1.00\n",
      "9       0.00\n",
      "10      0.00\n",
      "11      0.00\n",
      "12      0.00\n",
      "13      0.00\n",
      "14      0.34\n",
      "15      0.02\n",
      "16      0.00\n",
      "17      0.00\n",
      "18      0.00\n",
      "19      0.00\n",
      "20      0.00\n",
      "21      0.00\n",
      "22      0.00\n",
      "23      0.37\n",
      "24      0.90\n",
      "25      0.00\n",
      "26      0.00\n",
      "27      0.69\n",
      "28      0.14\n",
      "29      0.18\n",
      "        ... \n",
      "4970    0.00\n",
      "4971    0.00\n",
      "4972    0.27\n",
      "4973    0.00\n",
      "4974    0.00\n",
      "4975    0.00\n",
      "4976    0.00\n",
      "4977    0.00\n",
      "4978    0.00\n",
      "4979    0.02\n",
      "4980    0.00\n",
      "4981    0.00\n",
      "4982    0.00\n",
      "4983    0.00\n",
      "4984    0.16\n",
      "4985    0.00\n",
      "4986    0.00\n",
      "4987    0.19\n",
      "4988    0.00\n",
      "4989    0.00\n",
      "4990    0.09\n",
      "4991    0.56\n",
      "4992    0.00\n",
      "4993    0.00\n",
      "4994    0.08\n",
      "4995    0.00\n",
      "4996    0.00\n",
      "4997    0.00\n",
      "4998    0.42\n",
      "4999    0.00\n",
      "Name: SouthRatio, Length: 5000, dtype: float64\n",
      "0       1.00\n",
      "1       0.99\n",
      "2       1.00\n",
      "3       1.00\n",
      "4       1.00\n",
      "5       0.77\n",
      "6       0.75\n",
      "7       0.96\n",
      "8       1.00\n",
      "9       0.98\n",
      "10      0.71\n",
      "11      0.00\n",
      "12      0.00\n",
      "13      0.83\n",
      "14      0.99\n",
      "15      0.90\n",
      "16      0.71\n",
      "17      1.00\n",
      "18      0.83\n",
      "19      0.92\n",
      "20      0.85\n",
      "21      0.94\n",
      "22      0.00\n",
      "23      0.99\n",
      "24      0.99\n",
      "25      0.86\n",
      "26      0.00\n",
      "27      0.79\n",
      "28      0.97\n",
      "29      0.75\n",
      "        ... \n",
      "4970    0.00\n",
      "4971    1.00\n",
      "4972    0.75\n",
      "4973    0.00\n",
      "4974    1.00\n",
      "4975    0.73\n",
      "4976    1.00\n",
      "4977    1.00\n",
      "4978    1.00\n",
      "4979    0.97\n",
      "4980    0.96\n",
      "4981    0.92\n",
      "4982    0.99\n",
      "4983    0.95\n",
      "4984    1.00\n",
      "4985    0.94\n",
      "4986    0.54\n",
      "4987    0.94\n",
      "4988    0.00\n",
      "4989    0.00\n",
      "4990    0.97\n",
      "4991    0.98\n",
      "4992    0.00\n",
      "4993    0.00\n",
      "4994    0.76\n",
      "4995    0.49\n",
      "4996    0.00\n",
      "4997    1.00\n",
      "4998    1.00\n",
      "4999    0.99\n",
      "Name: DayPassingRatio, Length: 5000, dtype: float64\n",
      "0       0.00\n",
      "1       0.01\n",
      "2       0.00\n",
      "3       0.00\n",
      "4       0.00\n",
      "5       0.23\n",
      "6       0.25\n",
      "7       0.04\n",
      "8       0.00\n",
      "9       0.02\n",
      "10      0.29\n",
      "11      0.00\n",
      "12      0.00\n",
      "13      0.17\n",
      "14      0.01\n",
      "15      0.10\n",
      "16      0.29\n",
      "17      0.00\n",
      "18      0.17\n",
      "19      0.08\n",
      "20      0.15\n",
      "21      0.06\n",
      "22      0.00\n",
      "23      0.01\n",
      "24      0.01\n",
      "25      0.14\n",
      "26      0.00\n",
      "27      0.21\n",
      "28      0.03\n",
      "29      0.25\n",
      "        ... \n",
      "4970    0.00\n",
      "4971    0.00\n",
      "4972    0.25\n",
      "4973    0.00\n",
      "4974    0.00\n",
      "4975    0.27\n",
      "4976    0.00\n",
      "4977    0.00\n",
      "4978    0.00\n",
      "4979    0.03\n",
      "4980    0.04\n",
      "4981    0.08\n",
      "4982    0.01\n",
      "4983    0.05\n",
      "4984    0.00\n",
      "4985    0.06\n",
      "4986    0.46\n",
      "4987    0.06\n",
      "4988    0.00\n",
      "4989    0.00\n",
      "4990    0.03\n",
      "4991    0.02\n",
      "4992    0.00\n",
      "4993    0.00\n",
      "4994    0.24\n",
      "4995    0.51\n",
      "4996    0.00\n",
      "4997    0.00\n",
      "4998    0.00\n",
      "4999    0.01\n",
      "Name: NightPassingRatio, Length: 5000, dtype: float64\n"
     ]
    }
   ],
   "source": [
    "import numpy as np\n",
    "col_name = ['NorthRatio', 'MidRatio', 'SouthRatio', 'DayPassingRatio', 'NightPassingRatio']\n",
    "col_list = [14, 15, 16, 17, 18]\n",
    "new_value = []\n",
    "\n",
    "for col_num in range(len(col_list)) :\n",
    "    \n",
    "    new_value = []\n",
    "\n",
    "    for i in list(data_df.iloc[:, col_list[col_num]] ):\n",
    "        #i = float(i.encode('utf-8').split('%')[0])/100\n",
    "        #print(i)\n",
    "           \n",
    "            \n",
    "        \n",
    "        \n",
    "            \n",
    "        if pd.isnull(i) :\n",
    "            i = '0'\n",
    "        elif i.encode('utf-8').split('%')[0] == '*' :\n",
    "            i = '0'\n",
    "        elif i.encode('utf-8').split('%')[0] == '-' :\n",
    "            i = '0'\n",
    "        else :\n",
    "            i = i.encode('utf-8').split('%')[0]\n",
    "        \n",
    "        new_i = float(i)/100\n",
    "        new_value.append(new_i)\n",
    "        \n",
    "            \n",
    "        \n",
    "    #print(len(new_value))\n",
    "        \n",
    "    new_column = pd.Series(new_value, name='%s'%col_name[col_num] )\n",
    "    print(new_column)\n",
    "    data_df.update(new_column)\n",
    "        \n",
    "        #data_df.at[i, '%s'%col_name[col_num]] = float(i)/100\n",
    "        #print(i)\n",
    "    \n"
   ]
  },
  {
   "cell_type": "code",
   "execution_count": 28,
   "metadata": {},
   "outputs": [
    {
     "name": "stdout",
     "output_type": "stream",
     "text": [
      "VEHICLE_ID\n",
      "DetectedCarCategory\n",
      "IdentityType\n",
      "CarBrand\n",
      "RegisteredCarCategory\n",
      "CarFactorized_YM\n",
      "OwnerGender\n",
      "CarCounty\n",
      "TotalKM2017\n",
      "TotalDay2017\n",
      "AverageDistance\n",
      "DelayedPayBillTimes\n",
      "WeekdayRatio\n",
      "WeekendRatio\n",
      "NorthRatio\n",
      "MidRatio\n",
      "SouthRatio\n",
      "DayPassingRatio\n",
      "NightPassingRatio\n",
      "AverageSpeed\n",
      "OverSpeedRatio\n",
      "bigger350KM\n",
      "ACL_days\n"
     ]
    }
   ],
   "source": [
    "for i in data_df.iteritems() :\n",
    "    print(list(i)[0])\n",
    "    \n",
    "#data_df.iloc[:, 14] = float(data_df.iloc[:, 14].split('%')[0])/100"
   ]
  },
  {
   "cell_type": "code",
   "execution_count": 89,
   "metadata": {},
   "outputs": [],
   "source": [
    "#new_df['CarBrand_Ultimate']\n",
    "new_df_test = new_df"
   ]
  },
  {
   "cell_type": "code",
   "execution_count": 82,
   "metadata": {},
   "outputs": [],
   "source": [
    "correct_brand = {\n",
    "    'VW' : 'VOLKSWAGEN', \n",
    "    'V.W' : 'VOLKSWAGEN', \n",
    "    \n",
    "    '鈴木' : 'SUZUKI', \n",
    "    'M-BENZ' : 'BENZ', \n",
    "    'MERCEDES' : 'BENZ', \n",
    "    'MERCEDES BENZ' : 'BENZ', \n",
    "    '賓士' : 'BENZ', \n",
    "    'MERCEDES-BENZ' : 'BENZ', \n",
    "    'Mercedes-Benz' : 'BENZ', \n",
    "    '監-BENZ' : 'BENZ', \n",
    "    'SANYANG' : 'HYUNDAI', \n",
    "    '現代' : 'HYUNDAI', \n",
    "    '三陽' : 'HYUNDAI', \n",
    "    'HTUNDAI' : 'HYUNDAI', \n",
    "    'SSANGYONG' : 'HYUNDAI', \n",
    "    '起亞' : 'KIA', \n",
    "    '五十鈴' : 'ISUZU', \n",
    "    '富豪' : 'VOLVO', \n",
    "    '監-日產' : 'NISSAN', \n",
    "    '監-裕隆' : 'NISSAN', \n",
    "    '日產' : 'NISSAN', \n",
    "    '裕隆' : 'NISSAN', \n",
    "    '三菱' : 'MITSUBISHI', \n",
    "    'MITSUBISHI FUSO' : 'MITSUBISHI', \n",
    "    'Mazda馬自達' : 'MAZDA', \n",
    "    '馬自達' : 'MAZDA', \n",
    "    'Mazda 馬自達' : 'MAZDA', \n",
    "    '福特六和' : 'FORD', \n",
    "    '本田' : 'HONDA', \n",
    "    '監-國瑞' : 'TOYOTA', \n",
    "    '國瑞' : 'TOYOTA',\n",
    "    \n",
    "    ## here\n",
    "    '' : 'unknown',\n",
    "    \n",
    "    'ALFAROMEO' : 'ALFAROMEO', \n",
    "    'ASTON MARTIN' : 'ASTON MARTIN', \n",
    "    'AUDI' : 'AUDI', \n",
    "    'BENTLEY' : 'BENTLEY', \n",
    "    'BENZ' : 'BENZ', \n",
    "    'BERTONE' : 'BERTONE', \n",
    "    'BMW' : 'BMW', \n",
    "    'CHRYSLER' : 'CHRYSLER', \n",
    "    'CITROEN' : 'CITROEN', \n",
    "    'DAIHATSU' : 'DAIHATSU', \n",
    "    'FORD' : 'FORD', \n",
    "    'FUSO' : 'FUSO', \n",
    "    'GEO': 'GEO', \n",
    "    'HONDA' : 'HONDA', \n",
    "    'HYUNDAI':'HYUNDAI', \n",
    "    'INFINITI' : 'INFINITI', \n",
    "    'ISUZU' : 'ISUZU', \n",
    "    'IVECO' : 'IVECO', \n",
    "    'JAGUAR' : 'JAGUAR', \n",
    "    'JEEP' : 'JEEP', \n",
    "    'JEEP MODEL' : 'JEEP MODEL', \n",
    "    'KIA' : 'KIA', \n",
    "    'LAND ROVER' : 'LAND ROVER', \n",
    "    'LEXUS' : 'LEXUS', \n",
    "    'MASERATI' : 'MASERATI', \n",
    "    'MAZDA' : 'MAZDA', \n",
    "    'MINI' : 'MINI', \n",
    "    'MITSUBISHI' : 'MITSUBISHI', \n",
    "    'NISSAN':'NISSAN', \n",
    "    'OLDSMOBILE' : 'OLDSMOBILE', \n",
    "    'OPEL' : 'OPEL', \n",
    "    'PEUGEOT' : 'PEUGEOT', \n",
    "    'PORSCHE' : 'PORSCHE', \n",
    "    'PROTON' : 'PROTON', \n",
    "    'RENAULT' : 'RENAULT', \n",
    "    'ROVER' : 'ROVER', \n",
    "    'SAAB' : 'SAAB', \n",
    "    'SATURN': 'SATURN', \n",
    "    'SKODA' : 'SKODA', \n",
    "    'SMART' : 'SMART', \n",
    "    'SUBARU': 'SUBARU', \n",
    "    'SUZUKI':'SUZUKI', \n",
    "    'TESLA' : 'TESLA', \n",
    "    'TOYOTA' : 'TOYOTA', \n",
    "    'VOLKS WAGEN':'VOLKSWAGEN', \n",
    "    'VOLKSWAGEN' : 'VOLKSWAGEN',\n",
    "    'VOLVO':'VOLVO', \n",
    "    'YUELOONG':'YUELOONG', \n",
    "    '中華':'中華', \n",
    "    '健益':'健益',\n",
    "    '別克':'別克', \n",
    "    '台朔':'台朔', \n",
    "    '大宇':'大宇', \n",
    "    \n",
    "    '慶#3E2J#':'慶眾', \n",
    "    '慶眾':'慶眾', \n",
    "    '慶':'慶眾', \n",
    "    \n",
    "    '斯堪尼亞':'斯堪尼亞', \n",
    "    '日野':'日野', \n",
    "    '福方':'福方', \n",
    "    '納智捷':'納智捷', \n",
    "    '賽德卡':'賽德卡', \n",
    "    '順益':'順益'\n",
    "\n",
    "}"
   ]
  },
  {
   "cell_type": "code",
   "execution_count": 4,
   "metadata": {},
   "outputs": [],
   "source": [
    "#new_df_test['CarBrand_Ultimate'] = new_df_test.CarBrand.map(correct_brand)\n",
    "#print (new_df_test)"
   ]
  },
  {
   "cell_type": "code",
   "execution_count": 5,
   "metadata": {},
   "outputs": [
    {
     "data": {
      "text/plain": [
       "\"\\n\\nfor i in new_df_test['CarBrand'] :\\n    #print(type(i))\\n    \\n    if type(i) == float :\\n        new_df_test['CarBrand_Ultimate'] = new_df_test.CarBrand.str[:].map(correct_brand)          \\n    elif str(i.encode('utf-8')) in correct_brand.keys() : \\n        new_df_test['CarBrand_Ultimate'] = new_df_test.CarBrand.str[:].map(correct_brand)\\n   \\n\\nprint (new_df_test)\\n\""
      ]
     },
     "execution_count": 5,
     "metadata": {},
     "output_type": "execute_result"
    }
   ],
   "source": [
    "'''\n",
    "\n",
    "for i in new_df_test['CarBrand'] :\n",
    "    #print(type(i))\n",
    "    \n",
    "    if type(i) == float :\n",
    "        new_df_test['CarBrand_Ultimate'] = new_df_test.CarBrand.str[:].map(correct_brand)          \n",
    "    elif str(i.encode('utf-8')) in correct_brand.keys() : \n",
    "        new_df_test['CarBrand_Ultimate'] = new_df_test.CarBrand.str[:].map(correct_brand)\n",
    "   \n",
    "\n",
    "print (new_df_test)\n",
    "'''"
   ]
  },
  {
   "cell_type": "markdown",
   "metadata": {},
   "source": [
    "### df.assign(column_name = ) , assigning a new column to df"
   ]
  },
  {
   "cell_type": "code",
   "execution_count": 116,
   "metadata": {
    "scrolled": true
   },
   "outputs": [],
   "source": [
    "nn_df = new_df_test.assign(CarBrand_Ultimate=new_col)\n",
    "#new_col"
   ]
  },
  {
   "cell_type": "code",
   "execution_count": 6,
   "metadata": {
    "scrolled": true
   },
   "outputs": [],
   "source": [
    "#nn_df"
   ]
  },
  {
   "cell_type": "code",
   "execution_count": 117,
   "metadata": {},
   "outputs": [],
   "source": [
    "columns = ['VEHICLE_ID', 'DetectedCarCategory', 'IdentityType', 'CarBrand', 'RegisteredCarCategory' , 'CarFactorized_YM', 'OwnerGender', 'CarCounty', 'TotalKM2017', 'TotalDay2017', 'AverageDistance', 'DelayedPayBillTimes', 'WeekdayRatio', 'WeekendRatio', 'NorthRatio', 'MidRatio', 'SouthRatio', 'DayPassingRatio', 'NightPassingRatio', 'AverageSpeed', 'OverSpeedRatio', 'bigger350KM', 'ACL_days', 'CarBrand_Ultimate']\n",
    "nn_df.to_csv('C://Users//Administrator//Documents//code//data//DTP_D4//altered_g4data.csv',columns = columns , index=False , header = True,sep=',',encoding='utf-8')"
   ]
  },
  {
   "cell_type": "code",
   "execution_count": 114,
   "metadata": {},
   "outputs": [],
   "source": [
    "new_col = []\n",
    "\n",
    "for i in new_df_test['CarBrand'] :\n",
    "    #print(i)\n",
    "    \n",
    "    if type(i)==float :\n",
    "        CarBrand_Utimate = 'unknown'\n",
    "        new_col.append(CarBrand_Utimate)\n",
    "    \n",
    "    elif str(i.encode('utf-8')) == 'VW' :\n",
    "        CarBrand_Utimate = 'VOLKSWAGEN'\n",
    "        new_col.append(CarBrand_Utimate)\n",
    "    elif str(i.encode('utf-8'))== 'V.W' :\n",
    "        CarBrand_Utimate = 'VOLKSWAGEN'\n",
    "        new_col.append(CarBrand_Utimate)\n",
    "    elif str(i.encode('utf-8')) == 'VOLKS WAGEN' :\n",
    "        CarBrand_Utimate = 'VOLKSWAGEN'\n",
    "        new_col.append(CarBrand_Utimate)\n",
    "    \n",
    "    elif str(i.encode('utf-8')) == '' :\n",
    "        CarBrand_Utimate = 'unknown'\n",
    "        new_col.append(CarBrand_Utimate)\n",
    "    \n",
    "    elif str(i.encode('utf-8')) == '鈴木' :\n",
    "        CarBrand_Utimate = 'SUZUKI'\n",
    "        new_col.append(CarBrand_Utimate)\n",
    "        \n",
    "    elif str(i.encode('utf-8')) == 'M-BENZ' :\n",
    "        CarBrand_Utimate = 'BENZ'\n",
    "        new_col.append(CarBrand_Utimate)\n",
    "    elif str(i.encode('utf-8')) == 'MERCEDES' :\n",
    "        CarBrand_Utimate = 'BENZ'\n",
    "        new_col.append(CarBrand_Utimate)\n",
    "    elif str(i.encode('utf-8')) == 'MERCEDES BENZ' :\n",
    "        CarBrand_Utimate = 'BENZ'\n",
    "        new_col.append(CarBrand_Utimate)\n",
    "    elif str(i.encode('utf-8')) == '賓士' :\n",
    "        CarBrand_Utimate = 'BENZ'\n",
    "        new_col.append(CarBrand_Utimate)\n",
    "    elif str(i.encode('utf-8')) == 'MERCEDES-BENZ' :\n",
    "        CarBrand_Utimate = 'BENZ'\n",
    "        new_col.append(CarBrand_Utimate)\n",
    "    elif str(i.encode('utf-8')) == 'Mercedes-Benz' :\n",
    "        CarBrand_Utimate = 'BENZ'\n",
    "        new_col.append(CarBrand_Utimate)\n",
    "    elif str(i.encode('utf-8')) == '監-BENZ' :\n",
    "        CarBrand_Utimate = 'BENZ'\n",
    "        new_col.append(CarBrand_Utimate)\n",
    "        \n",
    "    elif str(i.encode('utf-8')) == 'SANYANG' :\n",
    "        CarBrand_Utimate = 'HYUNDAI'\n",
    "        new_col.append(CarBrand_Utimate)\n",
    "    elif str(i.encode('utf-8')) == '現代' :\n",
    "        CarBrand_Utimate = 'HYUNDAI'\n",
    "        new_col.append(CarBrand_Utimate)  \n",
    "    elif str(i.encode('utf-8')) == '三陽' :\n",
    "        CarBrand_Utimate = 'HYUNDAI'\n",
    "        new_col.append(CarBrand_Utimate)\n",
    "    elif str(i.encode('utf-8')) == 'HTUNDAI' :\n",
    "        CarBrand_Utimate = 'HYUNDAI'\n",
    "        new_col.append(CarBrand_Utimate)\n",
    "    elif str(i.encode('utf-8')) == 'SSANGYONG' :\n",
    "        CarBrand_Utimate = 'HYUNDAI'\n",
    "        new_col.append(CarBrand_Utimate)\n",
    "        \n",
    "    elif str(i.encode('utf-8')) == '起亞' :\n",
    "        CarBrand_Utimate = 'KIA'\n",
    "        new_col.append(CarBrand_Utimate)\n",
    "        \n",
    "    elif str(i.encode('utf-8')) == '五十鈴' :\n",
    "        CarBrand_Utimate = 'ISUZU'\n",
    "        new_col.append(CarBrand_Utimate)\n",
    "        \n",
    "    elif str(i.encode('utf-8')) == '富豪' :\n",
    "        CarBrand_Utimate = 'VOLVO'\n",
    "        new_col.append(CarBrand_Utimate)\n",
    "    \n",
    "    elif str(i.encode('utf-8')) == '監-日產' :\n",
    "        CarBrand_Utimate = 'NISSAN'\n",
    "        new_col.append(CarBrand_Utimate)\n",
    "    elif str(i.encode('utf-8')) == '監-裕隆' :\n",
    "        CarBrand_Utimate = 'NISSAN'\n",
    "        new_col.append(CarBrand_Utimate)\n",
    "    elif str(i.encode('utf-8')) == '日產' :\n",
    "        CarBrand_Utimate = 'NISSAN'\n",
    "        new_col.append(CarBrand_Utimate)\n",
    "    elif str(i.encode('utf-8')) == '裕隆' :\n",
    "        CarBrand_Utimate = 'NISSAN'\n",
    "        new_col.append(CarBrand_Utimate)\n",
    "    \n",
    "    elif str(i.encode('utf-8')) == '三菱' :\n",
    "        CarBrand_Utimate = 'MITSUBISHI'\n",
    "        new_col.append(CarBrand_Utimate)\n",
    "    elif str(i.encode('utf-8')) == 'MITSUBISHI FUSO' :\n",
    "        CarBrand_Utimate = 'MITSUBISHI'\n",
    "        new_col.append(CarBrand_Utimate)\n",
    "    \n",
    "    elif str(i.encode('utf-8')) == 'Mazda馬自達' :\n",
    "        CarBrand_Utimate = 'MAZDA'\n",
    "        new_col.append(CarBrand_Utimate)\n",
    "    elif str(i.encode('utf-8')) == '馬自達' :\n",
    "        CarBrand_Utimate = 'MAZDA'\n",
    "        new_col.append(CarBrand_Utimate)\n",
    "    elif str(i.encode('utf-8')) == 'Mazda 馬自達' :\n",
    "        CarBrand_Utimate = 'MAZDA'\n",
    "        new_col.append(CarBrand_Utimate)\n",
    "        \n",
    "    elif str(i.encode('utf-8')) == '福特六和' :\n",
    "        CarBrand_Utimate = 'FORD'\n",
    "        new_col.append(CarBrand_Utimate)\n",
    "        \n",
    "    elif str(i.encode('utf-8')) == '本田' :\n",
    "        CarBrand_Utimate = 'HONDA'\n",
    "        new_col.append(CarBrand_Utimate)\n",
    "        \n",
    "    elif str(i.encode('utf-8')) == '監-國瑞' :\n",
    "        CarBrand_Utimate = 'TOYOTA'\n",
    "        new_col.append(CarBrand_Utimate)\n",
    "    elif str(i.encode('utf-8')) == '國瑞' :\n",
    "        CarBrand_Utimate = 'TOYOTA'\n",
    "        new_col.append(CarBrand_Utimate)   \n",
    "    \n",
    "    elif str(i.encode('utf-8')) == '慶#3E2J#' :\n",
    "        CarBrand_Utimate = '慶眾'\n",
    "        new_col.append(CarBrand_Utimate)\n",
    "    elif str(i.encode('utf-8')) == '慶' :\n",
    "        CarBrand_Utimate = '慶眾'\n",
    "        new_col.append(CarBrand_Utimate)\n",
    "    elif str(i.encode('utf-8')) == '慶眾' :\n",
    "        CarBrand_Utimate = '慶眾'\n",
    "        new_col.append(CarBrand_Utimate)\n",
    "   \n",
    "\n",
    "    elif str(i.encode('utf-8')) == '監-中華' :\n",
    "        CarBrand_Utimate = '中華'\n",
    "        new_col.append(CarBrand_Utimate)\n",
    "        \n",
    "    \n",
    "    elif str(i.encode('utf-8')) == '斯堪尼亞' :\n",
    "        CarBrand_Utimate = 'SCANIA'\n",
    "        new_col.append(CarBrand_Utimate)\n",
    "    \n",
    "    else :\n",
    "        CarBrand_Utimate = str(i.encode('utf-8'))\n",
    "        new_col.append(CarBrand_Utimate)\n",
    "    \n",
    "\n",
    "#new_df_test['CarBrand_Ultimate']"
   ]
  },
  {
   "cell_type": "markdown",
   "metadata": {},
   "source": [
    "## write into a new csv "
   ]
  },
  {
   "cell_type": "code",
   "execution_count": null,
   "metadata": {
    "collapsed": true
   },
   "outputs": [],
   "source": [
    "#columns = ['VEHICLE_ID', '收費車種', '身分別', '車輛廠牌', '監理車種', '車輛出廠年月', '車主性別', '車籍縣市', '總里程-2017', '通行天數-2017', '平均通行距離', '出帳次數', '平日通行百分比', '假日通行百分比', '北區通行比例', '中區通行比例', '南區通行比例', '白天通行比例', '夜間通行比例']\n",
    "columns = ['VEHICLE_ID', 'DetectedCarCategory', 'IdentityType', 'CarBrand', 'RegisteredCarCategory', 'CarFactorized_YM', 'OwnerGender', 'CarCounty', 'TotalKM2017', 'TotalDay2017', 'AverageDistance', 'DelayedPayBillTimes', 'WeekdayRatio', 'WeekendRatio', 'NorthRatio', 'MidRatio', 'SouthRatio', 'DayPassingRatio', 'NightPassingRatio', 'AverageSpeed', 'OverSpeedRatio', 'bigger350KM', 'ACL_days']\n",
    "\n",
    "data_df.to_csv('C://Users//Administrator//Documents//code//data//DTP_D4//Group4Data_Trial_2csv4eng.txt',columns = columns , index=False , header = True,sep=',',encoding='utf-8')"
   ]
  },
  {
   "cell_type": "markdown",
   "metadata": {},
   "source": [
    "## Clustering"
   ]
  },
  {
   "cell_type": "code",
   "execution_count": 1,
   "metadata": {},
   "outputs": [],
   "source": [
    "from sklearn.cluster import KMeans\n",
    "import numpy as np"
   ]
  },
  {
   "cell_type": "code",
   "execution_count": 4,
   "metadata": {},
   "outputs": [
    {
     "name": "stdout",
     "output_type": "stream",
     "text": [
      "Requirement already satisfied: scikit-learn in c:\\programdata\\anaconda3\\envs\\athena_fetcpc\\lib\\site-packages\n"
     ]
    }
   ],
   "source": [
    "!pip install scikit-learn"
   ]
  },
  {
   "cell_type": "code",
   "execution_count": 1,
   "metadata": {},
   "outputs": [
    {
     "name": "stdout",
     "output_type": "stream",
     "text": [
      "Requirement already satisfied: scipy in c:\\programdata\\anaconda3\\lib\\site-packages\n"
     ]
    }
   ],
   "source": [
    "!pip install scipy"
   ]
  },
  {
   "cell_type": "code",
   "execution_count": 269,
   "metadata": {},
   "outputs": [],
   "source": [
    "df_new = pd.read_csv('C://Users//Administrator//Documents//code//data//DTP_D4//altered_g4data_1.csv', na_filter=True, encoding = 'utf-8')"
   ]
  },
  {
   "cell_type": "code",
   "execution_count": 270,
   "metadata": {},
   "outputs": [
    {
     "name": "stdout",
     "output_type": "stream",
     "text": [
      "<class 'pandas.core.frame.DataFrame'>\n",
      "RangeIndex: 5000 entries, 0 to 4999\n",
      "Data columns (total 24 columns):\n",
      "VEHICLE_ID               5000 non-null int64\n",
      "DetectedCarCategory      5000 non-null int64\n",
      "IdentityType             5000 non-null object\n",
      "CarBrand                 4917 non-null object\n",
      "RegisteredCarCategory    5000 non-null int64\n",
      "CarFactorized_YM         4919 non-null float64\n",
      "OwnerGender              5000 non-null object\n",
      "CarCounty                5000 non-null object\n",
      "TotalKM2017              5000 non-null float64\n",
      "TotalDay2017             5000 non-null float64\n",
      "AverageDistance          5000 non-null float64\n",
      "DelayedPayBillTimes      5000 non-null float64\n",
      "WeekdayRatio             5000 non-null float64\n",
      "WeekendRatio             5000 non-null float64\n",
      "NorthRatio               5000 non-null float64\n",
      "MidRatio                 5000 non-null float64\n",
      "SouthRatio               5000 non-null float64\n",
      "DayPassingRatio          5000 non-null float64\n",
      "NightPassingRatio        5000 non-null float64\n",
      "AverageSpeed             5000 non-null float64\n",
      "OverSpeedRatio           5000 non-null float64\n",
      "bigger350KM              5000 non-null float64\n",
      "ACL_days                 5000 non-null float64\n",
      "CarBrand_Ultimate        5000 non-null object\n",
      "dtypes: float64(16), int64(3), object(5)\n",
      "memory usage: 937.6+ KB\n"
     ]
    }
   ],
   "source": [
    "df_new.info()"
   ]
  },
  {
   "cell_type": "code",
   "execution_count": 252,
   "metadata": {},
   "outputs": [],
   "source": [
    "create_df = pd.DataFrame()\n",
    "#df = pd.DataFrame(data=d, dtype=np.int8)"
   ]
  },
  {
   "cell_type": "code",
   "execution_count": 253,
   "metadata": {},
   "outputs": [
    {
     "name": "stdout",
     "output_type": "stream",
     "text": [
      "<class 'pandas.core.frame.DataFrame'>\n",
      "Index: 0 entries\n",
      "Empty DataFrame"
     ]
    }
   ],
   "source": [
    "create_df.info()"
   ]
  },
  {
   "cell_type": "code",
   "execution_count": 7,
   "metadata": {
    "scrolled": true
   },
   "outputs": [],
   "source": [
    "#df_new['DetectedCarCategory'].astype('category', copy=False)\n",
    "#df_new['IdentityType'].astype('category', copy=False)\n",
    "#df_new['RegisteredCarCategory'].astype('category', copy=False)\n",
    "#df_new['OwnerGender'].astype('category', copy=False)\n",
    "#df_new['CarCounty'].astype('category', copy=False)\n",
    "#df_new['CarBrand_Ultimate'].astype('category', copy=False)"
   ]
  },
  {
   "cell_type": "code",
   "execution_count": 254,
   "metadata": {
    "scrolled": true
   },
   "outputs": [],
   "source": [
    "nnn = df_new['CarCounty'].astype('category', copy=False)\n",
    "df_new.update(nnn)"
   ]
  },
  {
   "cell_type": "code",
   "execution_count": 268,
   "metadata": {
    "scrolled": true
   },
   "outputs": [
    {
     "name": "stdout",
     "output_type": "stream",
     "text": [
      "0       100.37\n",
      "1        87.33\n",
      "2         65.5\n",
      "3       104.63\n",
      "4        56.21\n",
      "5        85.59\n",
      "6         85.2\n",
      "7        80.53\n",
      "8         91.2\n",
      "9        77.73\n",
      "10        99.5\n",
      "11           -\n",
      "12           *\n",
      "13       81.27\n",
      "14       87.96\n",
      "15       82.85\n",
      "16       88.43\n",
      "17       47.75\n",
      "18       81.92\n",
      "19       87.51\n",
      "20       72.91\n",
      "21       86.06\n",
      "22           -\n",
      "23       77.73\n",
      "24       79.32\n",
      "25       68.37\n",
      "26           -\n",
      "27       67.82\n",
      "28       95.49\n",
      "29       81.79\n",
      "         ...  \n",
      "4970         *\n",
      "4971    108.68\n",
      "4972     90.61\n",
      "4973         -\n",
      "4974    121.69\n",
      "4975     85.84\n",
      "4976     82.66\n",
      "4977     85.41\n",
      "4978     99.18\n",
      "4979     59.53\n",
      "4980     70.32\n",
      "4981     81.96\n",
      "4982     96.34\n",
      "4983     70.73\n",
      "4984     76.46\n",
      "4985     84.51\n",
      "4986     62.42\n",
      "4987      81.4\n",
      "4988         *\n",
      "4989         *\n",
      "4990      67.2\n",
      "4991     93.54\n",
      "4992         *\n",
      "4993         *\n",
      "4994     79.92\n",
      "4995     70.63\n",
      "4996         *\n",
      "4997     80.77\n",
      "4998    104.52\n",
      "4999     73.55\n",
      "Name: AverageSpeed, Length: 5000, dtype: object\n"
     ]
    },
    {
     "data": {
      "text/plain": [
       "\"\\nnew_column = pd.Series(new_value, name='AverageSpeed', dtype = 'float64' )\\nprint(new_column)\\ndf_new.update(new_column)\\n\""
      ]
     },
     "execution_count": 268,
     "metadata": {},
     "output_type": "execute_result"
    }
   ],
   "source": [
    "#df_new['CarCounty'].astype('category')\n",
    "print(df_new['AverageSpeed'])\n",
    "#print(nnn)\n",
    "'''\n",
    "new_column = pd.Series(new_value, name='AverageSpeed', dtype = 'float64' )\n",
    "print(new_column)\n",
    "df_new.update(new_column)\n",
    "'''"
   ]
  },
  {
   "cell_type": "code",
   "execution_count": 258,
   "metadata": {
    "scrolled": true
   },
   "outputs": [
    {
     "ename": "AttributeError",
     "evalue": "'float' object has no attribute 'encode'",
     "output_type": "error",
     "traceback": [
      "\u001b[1;31m---------------------------------------------------------------------------\u001b[0m",
      "\u001b[1;31mAttributeError\u001b[0m                            Traceback (most recent call last)",
      "\u001b[1;32m<ipython-input-258-f23494fd835d>\u001b[0m in \u001b[0;36m<module>\u001b[1;34m()\u001b[0m\n\u001b[0;32m      2\u001b[0m \u001b[1;33m\u001b[0m\u001b[0m\n\u001b[0;32m      3\u001b[0m \u001b[1;32mfor\u001b[0m \u001b[0mi\u001b[0m \u001b[1;32min\u001b[0m \u001b[0mdf_new\u001b[0m\u001b[1;33m[\u001b[0m\u001b[1;34m'bigger350KM'\u001b[0m\u001b[1;33m]\u001b[0m\u001b[1;33m:\u001b[0m\u001b[1;33m\u001b[0m\u001b[0m\n\u001b[1;32m----> 4\u001b[1;33m     \u001b[1;32mif\u001b[0m \u001b[0mstr\u001b[0m\u001b[1;33m(\u001b[0m\u001b[0mi\u001b[0m\u001b[1;33m.\u001b[0m\u001b[0mencode\u001b[0m\u001b[1;33m(\u001b[0m\u001b[1;34m'utf-8'\u001b[0m\u001b[1;33m)\u001b[0m\u001b[1;33m)\u001b[0m \u001b[1;33m==\u001b[0m \u001b[1;34m'-'\u001b[0m \u001b[1;33m:\u001b[0m\u001b[1;33m\u001b[0m\u001b[0m\n\u001b[0m\u001b[0;32m      5\u001b[0m         \u001b[0mi\u001b[0m \u001b[1;33m=\u001b[0m \u001b[1;36m0.0\u001b[0m\u001b[1;33m\u001b[0m\u001b[0m\n\u001b[0;32m      6\u001b[0m         \u001b[0mnew_value\u001b[0m\u001b[1;33m.\u001b[0m\u001b[0mappend\u001b[0m\u001b[1;33m(\u001b[0m\u001b[0mi\u001b[0m\u001b[1;33m)\u001b[0m\u001b[1;33m\u001b[0m\u001b[0m\n",
      "\u001b[1;31mAttributeError\u001b[0m: 'float' object has no attribute 'encode'"
     ]
    }
   ],
   "source": [
    "new_value = []\n",
    "\n",
    "for i in df_new['bigger350KM']:\n",
    "    if str(i.encode('utf-8')) == '-' :\n",
    "        i = 0.0\n",
    "        new_value.append(i)\n",
    "    elif str(i.encode('utf-8')) == '*' :\n",
    "        i = 0.0\n",
    "        new_value.append(i)\n",
    "    else :\n",
    "        float(str(i.encode('utf-8')))\n",
    "        new_value.append(i)\n",
    "    #print(type(i))\n",
    "#df_new['AverageSpeed']\n",
    "\n",
    "new_column = pd.Series(new_value, name='bigger350KM', dtype = 'float64', copy = False )\n",
    "print(new_column)\n",
    "df_new.update(new_column)"
   ]
  },
  {
   "cell_type": "code",
   "execution_count": 202,
   "metadata": {
    "scrolled": true
   },
   "outputs": [
    {
     "data": {
      "text/plain": [
       "'-'"
      ]
     },
     "execution_count": 202,
     "metadata": {},
     "output_type": "execute_result"
    }
   ],
   "source": [
    "#df_new['AverageSpeed']\n",
    "df_new['AverageSpeed'][11].encode('utf-8')"
   ]
  },
  {
   "cell_type": "code",
   "execution_count": 21,
   "metadata": {
    "scrolled": true
   },
   "outputs": [],
   "source": [
    "#df_new.iloc[:,0]"
   ]
  },
  {
   "cell_type": "code",
   "execution_count": 8,
   "metadata": {
    "scrolled": true
   },
   "outputs": [],
   "source": [
    "#df_new"
   ]
  },
  {
   "cell_type": "code",
   "execution_count": 9,
   "metadata": {
    "scrolled": true
   },
   "outputs": [],
   "source": [
    "#df_new['CarBrand_Ultimate'].value_counts()"
   ]
  },
  {
   "cell_type": "code",
   "execution_count": 124,
   "metadata": {},
   "outputs": [],
   "source": [
    "with open('C://Users//Administrator//Documents//code//data//DTP_D4//brandname.txt', 'w') as f :\n",
    "    text = '%s'%df_new['CarBrand_Ultimate'].value_counts()\n",
    "    \n",
    "    f.write(text)\n",
    "    \n",
    "\n"
   ]
  },
  {
   "cell_type": "code",
   "execution_count": 132,
   "metadata": {},
   "outputs": [
    {
     "data": {
      "text/html": [
       "<div>\n",
       "<style>\n",
       "    .dataframe thead tr:only-child th {\n",
       "        text-align: right;\n",
       "    }\n",
       "\n",
       "    .dataframe thead th {\n",
       "        text-align: left;\n",
       "    }\n",
       "\n",
       "    .dataframe tbody tr th {\n",
       "        vertical-align: top;\n",
       "    }\n",
       "</style>\n",
       "<table border=\"1\" class=\"dataframe\">\n",
       "  <thead>\n",
       "    <tr style=\"text-align: right;\">\n",
       "      <th></th>\n",
       "      <th>NorthRatio</th>\n",
       "      <th>MidRatio</th>\n",
       "      <th>SouthRatio</th>\n",
       "      <th>DayPassingRatio</th>\n",
       "      <th>NightPassingRatio</th>\n",
       "      <th>OverSpeedRatio</th>\n",
       "      <th>ACL_days</th>\n",
       "    </tr>\n",
       "  </thead>\n",
       "  <tbody>\n",
       "    <tr>\n",
       "      <th>count</th>\n",
       "      <td>5000.000000</td>\n",
       "      <td>5000.00000</td>\n",
       "      <td>5000.000000</td>\n",
       "      <td>5000.000000</td>\n",
       "      <td>5000.000000</td>\n",
       "      <td>5000.000000</td>\n",
       "      <td>5000.000000</td>\n",
       "    </tr>\n",
       "    <tr>\n",
       "      <th>mean</th>\n",
       "      <td>0.372496</td>\n",
       "      <td>0.28071</td>\n",
       "      <td>0.231018</td>\n",
       "      <td>0.786618</td>\n",
       "      <td>0.097620</td>\n",
       "      <td>0.033248</td>\n",
       "      <td>271.474400</td>\n",
       "    </tr>\n",
       "    <tr>\n",
       "      <th>std</th>\n",
       "      <td>0.417753</td>\n",
       "      <td>0.34561</td>\n",
       "      <td>0.366262</td>\n",
       "      <td>0.316276</td>\n",
       "      <td>0.142228</td>\n",
       "      <td>0.096890</td>\n",
       "      <td>549.492409</td>\n",
       "    </tr>\n",
       "    <tr>\n",
       "      <th>min</th>\n",
       "      <td>0.000000</td>\n",
       "      <td>0.00000</td>\n",
       "      <td>0.000000</td>\n",
       "      <td>0.000000</td>\n",
       "      <td>0.000000</td>\n",
       "      <td>0.000000</td>\n",
       "      <td>0.000000</td>\n",
       "    </tr>\n",
       "    <tr>\n",
       "      <th>25%</th>\n",
       "      <td>0.000000</td>\n",
       "      <td>0.00000</td>\n",
       "      <td>0.000000</td>\n",
       "      <td>0.760000</td>\n",
       "      <td>0.000000</td>\n",
       "      <td>0.000000</td>\n",
       "      <td>0.000000</td>\n",
       "    </tr>\n",
       "    <tr>\n",
       "      <th>50%</th>\n",
       "      <td>0.120000</td>\n",
       "      <td>0.11000</td>\n",
       "      <td>0.000000</td>\n",
       "      <td>0.920000</td>\n",
       "      <td>0.030000</td>\n",
       "      <td>0.000000</td>\n",
       "      <td>0.000000</td>\n",
       "    </tr>\n",
       "    <tr>\n",
       "      <th>75%</th>\n",
       "      <td>0.850000</td>\n",
       "      <td>0.49000</td>\n",
       "      <td>0.330000</td>\n",
       "      <td>1.000000</td>\n",
       "      <td>0.150000</td>\n",
       "      <td>0.020000</td>\n",
       "      <td>133.500000</td>\n",
       "    </tr>\n",
       "    <tr>\n",
       "      <th>max</th>\n",
       "      <td>1.000000</td>\n",
       "      <td>1.00000</td>\n",
       "      <td>1.000000</td>\n",
       "      <td>1.000000</td>\n",
       "      <td>1.000000</td>\n",
       "      <td>0.950000</td>\n",
       "      <td>2126.000000</td>\n",
       "    </tr>\n",
       "  </tbody>\n",
       "</table>\n",
       "</div>"
      ],
      "text/plain": [
       "        NorthRatio    MidRatio   SouthRatio  DayPassingRatio  \\\n",
       "count  5000.000000  5000.00000  5000.000000      5000.000000   \n",
       "mean      0.372496     0.28071     0.231018         0.786618   \n",
       "std       0.417753     0.34561     0.366262         0.316276   \n",
       "min       0.000000     0.00000     0.000000         0.000000   \n",
       "25%       0.000000     0.00000     0.000000         0.760000   \n",
       "50%       0.120000     0.11000     0.000000         0.920000   \n",
       "75%       0.850000     0.49000     0.330000         1.000000   \n",
       "max       1.000000     1.00000     1.000000         1.000000   \n",
       "\n",
       "       NightPassingRatio  OverSpeedRatio     ACL_days  \n",
       "count        5000.000000     5000.000000  5000.000000  \n",
       "mean            0.097620        0.033248   271.474400  \n",
       "std             0.142228        0.096890   549.492409  \n",
       "min             0.000000        0.000000     0.000000  \n",
       "25%             0.000000        0.000000     0.000000  \n",
       "50%             0.030000        0.000000     0.000000  \n",
       "75%             0.150000        0.020000   133.500000  \n",
       "max             1.000000        0.950000  2126.000000  "
      ]
     },
     "execution_count": 132,
     "metadata": {},
     "output_type": "execute_result"
    }
   ],
   "source": [
    "df_new.iloc[:, 8:].describe()"
   ]
  },
  {
   "cell_type": "code",
   "execution_count": 134,
   "metadata": {},
   "outputs": [
    {
     "data": {
      "image/png": "[encoded data removed]",
      "text/plain": [
       "<Figure size 1440x1080 with 12 Axes>"
      ]
     },
     "metadata": {},
     "output_type": "display_data"
    }
   ],
   "source": [
    "import matplotlib.pyplot as plt\n",
    "df_new.hist(bins = 50, figsize = (20, 15))\n",
    "plt.show()"
   ]
  },
  {
   "cell_type": "code",
   "execution_count": null,
   "metadata": {},
   "outputs": [],
   "source": [
    "from sklearn.model_selection import train_test_split\n",
    "\n",
    "#X:特徵 , y:類別 \n",
    "X, y = df_new.iloc[:, 0:].values, df_new.iloc[:, 0].values\n",
    "\n",
    "#Splitting the data into 70% training and 30% test subsets.\n",
    "X_train, X_test, y_train, y_test = train_test_split(X, y, test_size=0.3, random_state=0)"
   ]
  },
  {
   "cell_type": "code",
   "execution_count": null,
   "metadata": {},
   "outputs": [],
   "source": [
    "from sklearn.preprocessing import StandardScaler\n",
    "\n",
    "features = ['sepal length', 'sepal width', 'petal length', 'petal width']\n",
    "# Separating out the features\n",
    "x = df.loc[:, features].values\n",
    "# Separating out the target\n",
    "y = df.loc[:,['target']].values\n",
    "# Standardizing the features\n",
    "x = StandardScaler().fit_transform(x)"
   ]
  },
  {
   "cell_type": "code",
   "execution_count": 135,
   "metadata": {},
   "outputs": [
    {
     "data": {
      "text/plain": [
       "Index([u'VEHICLE_ID', u'DetectedCarCategory', u'IdentityType', u'CarBrand',\n",
       "       u'RegisteredCarCategory', u'CarFactorized_YM', u'OwnerGender',\n",
       "       u'CarCounty', u'TotalKM2017', u'TotalDay2017', u'AverageDistance',\n",
       "       u'DelayedPayBillTimes', u'WeekdayRatio', u'WeekendRatio', u'NorthRatio',\n",
       "       u'MidRatio', u'SouthRatio', u'DayPassingRatio', u'NightPassingRatio',\n",
       "       u'AverageSpeed', u'OverSpeedRatio', u'bigger350KM', u'ACL_days',\n",
       "       u'CarBrand_Ultimate'],\n",
       "      dtype='object')"
      ]
     },
     "execution_count": 135,
     "metadata": {},
     "output_type": "execute_result"
    }
   ],
   "source": [
    "df_new.columns"
   ]
  },
  {
   "cell_type": "code",
   "execution_count": null,
   "metadata": {},
   "outputs": [],
   "source": [
    "from sklearn.cluster import KMeans\n",
    "# n_init=10, 隨機做十次  自動找出SSE最小的那一次\n",
    "# max_iter=300, 或是 tol=1e-04, 為中止條件\n",
    "km = KMeans( \n",
    "            init='random', \n",
    "            #請加入適當參數 \n",
    "    \n",
    "            random_state=0)\n",
    "# y_km => KMeans 預測的類別\n",
    "y_km = km.fit_predict(X)\n",
    "\n",
    "\n",
    "plt.scatter(X[y_km == 0, 0],\n",
    "            X[y_km == 0, 1],\n",
    "            s=50,\n",
    "            c='lightgreen',\n",
    "            marker='s',\n",
    "            label='cluster 1')\n",
    "plt.scatter(X[y_km == 1, 0],\n",
    "            X[y_km == 1, 1],\n",
    "            s=50,\n",
    "            c='orange',\n",
    "            marker='o',\n",
    "            label='cluster 2')\n",
    "plt.scatter(X[y_km == 2, 0],\n",
    "            X[y_km == 2, 1],\n",
    "            s=50,\n",
    "            c='lightblue',\n",
    "            marker='v',\n",
    "            label='cluster 3')\n",
    "plt.scatter(km.cluster_centers_[:, 0],\n",
    "            km.cluster_centers_[:, 1],\n",
    "            s=250,\n",
    "            marker='*',\n",
    "            c='red',\n",
    "            label='centroids')\n",
    "plt.legend()\n",
    "plt.grid()\n",
    "plt.tight_layout()\n",
    "plt.show()"
   ]
  },
  {
   "cell_type": "code",
   "execution_count": 146,
   "metadata": {},
   "outputs": [
    {
     "data": {
      "text/plain": [
       "array([2, 0, 3, ..., 2, 2, 0])"
      ]
     },
     "execution_count": 146,
     "metadata": {},
     "output_type": "execute_result"
    }
   ],
   "source": [
    "cls.labels_"
   ]
  },
  {
   "cell_type": "code",
   "execution_count": 170,
   "metadata": {},
   "outputs": [
    {
     "data": {
      "image/png": "[encoded data removed]",
      "text/plain": [
       "<Figure size 432x288 with 1 Axes>"
      ]
     },
     "metadata": {},
     "output_type": "display_data"
    }
   ],
   "source": [
    "import matplotlib.pyplot as plt\n",
    "from sklearn.cluster import KMeans\n",
    "import numpy as np\n",
    "from sklearn.preprocessing import Imputer\n",
    "\n",
    "feature = ['NorthRatio', 'MidRatio', 'SouthRatio', 'DayPassingRatio', 'NightPassingRatio', 'OverSpeedRatio']\n",
    "X = np.array(df_new[feature])\n",
    "\n",
    "n_clusters = 5\n",
    "cls = KMeans(n_clusters).fit(X)\n",
    "cls.labels_\n",
    "\n",
    "\n",
    "colors = ['grey', 'blue', 'purple', 'yellow',  'red']\n",
    "markers = ['^', 'x', 'o', '*', '+']\n",
    "for i in range(n_clusters):\n",
    "    members = cls.labels_ == i\n",
    "    plt.scatter(X[members, 0], X[members, 1], s=60, marker = markers[i], c=colors[i], alpha=0.5)\n",
    "    \n",
    "    \n",
    "plt.title('')\n",
    "plt.show()"
   ]
  },
  {
   "cell_type": "code",
   "execution_count": 177,
   "metadata": {
    "scrolled": true
   },
   "outputs": [
    {
     "data": {
      "text/html": [
       "<div>\n",
       "<style>\n",
       "    .dataframe thead tr:only-child th {\n",
       "        text-align: right;\n",
       "    }\n",
       "\n",
       "    .dataframe thead th {\n",
       "        text-align: left;\n",
       "    }\n",
       "\n",
       "    .dataframe tbody tr th {\n",
       "        vertical-align: top;\n",
       "    }\n",
       "</style>\n",
       "<table border=\"1\" class=\"dataframe\">\n",
       "  <thead>\n",
       "    <tr style=\"text-align: right;\">\n",
       "      <th></th>\n",
       "      <th>NorthRatio</th>\n",
       "      <th>MidRatio</th>\n",
       "      <th>SouthRatio</th>\n",
       "      <th>DayPassingRatio</th>\n",
       "      <th>NightPassingRatio</th>\n",
       "      <th>OverSpeedRatio</th>\n",
       "    </tr>\n",
       "  </thead>\n",
       "  <tbody>\n",
       "    <tr>\n",
       "      <th>count</th>\n",
       "      <td>1046.000000</td>\n",
       "      <td>1046.000000</td>\n",
       "      <td>1046.000000</td>\n",
       "      <td>1046.000000</td>\n",
       "      <td>1046.000000</td>\n",
       "      <td>1046.000000</td>\n",
       "    </tr>\n",
       "    <tr>\n",
       "      <th>mean</th>\n",
       "      <td>0.046960</td>\n",
       "      <td>0.867715</td>\n",
       "      <td>0.085277</td>\n",
       "      <td>0.912954</td>\n",
       "      <td>0.087094</td>\n",
       "      <td>0.054379</td>\n",
       "    </tr>\n",
       "    <tr>\n",
       "      <th>std</th>\n",
       "      <td>0.082472</td>\n",
       "      <td>0.149556</td>\n",
       "      <td>0.132715</td>\n",
       "      <td>0.132552</td>\n",
       "      <td>0.132578</td>\n",
       "      <td>0.137895</td>\n",
       "    </tr>\n",
       "    <tr>\n",
       "      <th>min</th>\n",
       "      <td>0.000000</td>\n",
       "      <td>0.490000</td>\n",
       "      <td>0.000000</td>\n",
       "      <td>0.000000</td>\n",
       "      <td>0.000000</td>\n",
       "      <td>0.000000</td>\n",
       "    </tr>\n",
       "    <tr>\n",
       "      <th>25%</th>\n",
       "      <td>0.000000</td>\n",
       "      <td>0.750000</td>\n",
       "      <td>0.000000</td>\n",
       "      <td>0.870000</td>\n",
       "      <td>0.000000</td>\n",
       "      <td>0.000000</td>\n",
       "    </tr>\n",
       "    <tr>\n",
       "      <th>50%</th>\n",
       "      <td>0.000000</td>\n",
       "      <td>0.930000</td>\n",
       "      <td>0.000000</td>\n",
       "      <td>0.970000</td>\n",
       "      <td>0.030000</td>\n",
       "      <td>0.000000</td>\n",
       "    </tr>\n",
       "    <tr>\n",
       "      <th>75%</th>\n",
       "      <td>0.070000</td>\n",
       "      <td>1.000000</td>\n",
       "      <td>0.140000</td>\n",
       "      <td>1.000000</td>\n",
       "      <td>0.130000</td>\n",
       "      <td>0.030000</td>\n",
       "    </tr>\n",
       "    <tr>\n",
       "      <th>max</th>\n",
       "      <td>0.320000</td>\n",
       "      <td>1.000000</td>\n",
       "      <td>0.500000</td>\n",
       "      <td>1.000000</td>\n",
       "      <td>1.000000</td>\n",
       "      <td>0.930000</td>\n",
       "    </tr>\n",
       "  </tbody>\n",
       "</table>\n",
       "</div>"
      ],
      "text/plain": [
       "        NorthRatio     MidRatio   SouthRatio  DayPassingRatio  \\\n",
       "count  1046.000000  1046.000000  1046.000000      1046.000000   \n",
       "mean      0.046960     0.867715     0.085277         0.912954   \n",
       "std       0.082472     0.149556     0.132715         0.132552   \n",
       "min       0.000000     0.490000     0.000000         0.000000   \n",
       "25%       0.000000     0.750000     0.000000         0.870000   \n",
       "50%       0.000000     0.930000     0.000000         0.970000   \n",
       "75%       0.070000     1.000000     0.140000         1.000000   \n",
       "max       0.320000     1.000000     0.500000         1.000000   \n",
       "\n",
       "       NightPassingRatio  OverSpeedRatio  \n",
       "count        1046.000000     1046.000000  \n",
       "mean            0.087094        0.054379  \n",
       "std             0.132578        0.137895  \n",
       "min             0.000000        0.000000  \n",
       "25%             0.000000        0.000000  \n",
       "50%             0.030000        0.000000  \n",
       "75%             0.130000        0.030000  \n",
       "max             1.000000        0.930000  "
      ]
     },
     "execution_count": 177,
     "metadata": {},
     "output_type": "execute_result"
    }
   ],
   "source": [
    "#X[cls.labels_ == 5] \n",
    "\n",
    "df_new[feature][cls.labels_ == 4].describe()"
   ]
  },
  {
   "cell_type": "code",
   "execution_count": 10,
   "metadata": {
    "scrolled": true
   },
   "outputs": [],
   "source": [
    "#df_new[cls.labels_ == 3]"
   ]
  },
  {
   "cell_type": "code",
   "execution_count": 190,
   "metadata": {},
   "outputs": [
    {
     "data": {
      "text/plain": [
       "array([[<matplotlib.axes._subplots.AxesSubplot object at 0x000000001AF18908>,\n",
       "        <matplotlib.axes._subplots.AxesSubplot object at 0x000000001AD41438>],\n",
       "       [<matplotlib.axes._subplots.AxesSubplot object at 0x000000001AF44DD8>,\n",
       "        <matplotlib.axes._subplots.AxesSubplot object at 0x000000001B01A588>],\n",
       "       [<matplotlib.axes._subplots.AxesSubplot object at 0x000000001B049CC0>,\n",
       "        <matplotlib.axes._subplots.AxesSubplot object at 0x000000001B10D470>]],\n",
       "      dtype=object)"
      ]
     },
     "execution_count": 190,
     "metadata": {},
     "output_type": "execute_result"
    },
    {
     "data": {
      "image/png": "[encoded data removed]",
      "text/plain": [
       "<Figure size 1440x1080 with 6 Axes>"
      ]
     },
     "metadata": {},
     "output_type": "display_data"
    }
   ],
   "source": [
    "df_new[feature][cls.labels_ == 4].hist(bins = 50, figsize = (20, 15))"
   ]
  },
  {
   "cell_type": "code",
   "execution_count": 141,
   "metadata": {},
   "outputs": [
    {
     "data": {
      "text/plain": [
       "array([[0.  , 1.  , 0.  , 1.  , 0.  , 0.02],\n",
       "       [0.89, 0.11, 0.  , 0.99, 0.01, 0.01],\n",
       "       [0.  , 0.  , 1.  , 1.  , 0.  , 0.  ],\n",
       "       ...,\n",
       "       [0.02, 0.98, 0.  , 1.  , 0.  , 0.  ],\n",
       "       [0.  , 0.58, 0.42, 1.  , 0.  , 0.17],\n",
       "       [0.87, 0.13, 0.  , 0.99, 0.01, 0.  ]])"
      ]
     },
     "execution_count": 141,
     "metadata": {},
     "output_type": "execute_result"
    }
   ],
   "source": [
    "X"
   ]
  },
  {
   "cell_type": "code",
   "execution_count": 139,
   "metadata": {},
   "outputs": [
    {
     "ename": "AttributeError",
     "evalue": "'KMeans' object has no attribute 'interia_'",
     "output_type": "error",
     "traceback": [
      "\u001b[1;31m---------------------------------------------------------------------------\u001b[0m",
      "\u001b[1;31mAttributeError\u001b[0m                            Traceback (most recent call last)",
      "\u001b[1;32m<ipython-input-139-ccdc6cc81455>\u001b[0m in \u001b[0;36m<module>\u001b[1;34m()\u001b[0m\n\u001b[0;32m     18\u001b[0m     \u001b[0mkmeans_model\u001b[0m \u001b[1;33m=\u001b[0m \u001b[0mKMeans\u001b[0m\u001b[1;33m(\u001b[0m\u001b[0mn_clusters\u001b[0m\u001b[1;33m=\u001b[0m\u001b[0mk\u001b[0m\u001b[1;33m,\u001b[0m \u001b[0mrandom_state\u001b[0m\u001b[1;33m=\u001b[0m\u001b[1;36m1\u001b[0m\u001b[1;33m)\u001b[0m\u001b[1;33m.\u001b[0m\u001b[0mfit\u001b[0m\u001b[1;33m(\u001b[0m\u001b[0mX_tmp\u001b[0m\u001b[1;33m)\u001b[0m\u001b[1;33m\u001b[0m\u001b[0m\n\u001b[0;32m     19\u001b[0m     \u001b[0mlabels\u001b[0m \u001b[1;33m=\u001b[0m \u001b[0mkmeans_model\u001b[0m\u001b[1;33m.\u001b[0m\u001b[0mlabels_\u001b[0m\u001b[1;33m\u001b[0m\u001b[0m\n\u001b[1;32m---> 20\u001b[1;33m     \u001b[0minteria\u001b[0m \u001b[1;33m=\u001b[0m \u001b[0mkmeans_model\u001b[0m\u001b[1;33m.\u001b[0m\u001b[0minteria_\u001b[0m\u001b[1;33m\u001b[0m\u001b[0m\n\u001b[0m\u001b[0;32m     21\u001b[0m     \u001b[1;32mprint\u001b[0m\u001b[1;33m(\u001b[0m\u001b[1;34m'K:'\u001b[0m\u001b[1;33m,\u001b[0m\u001b[0mk\u001b[0m\u001b[1;33m,\u001b[0m\u001b[1;34m'cost:'\u001b[0m\u001b[1;33m,\u001b[0m \u001b[0minteria\u001b[0m\u001b[1;33m)\u001b[0m\u001b[1;33m\u001b[0m\u001b[0m\n\u001b[0;32m     22\u001b[0m     \u001b[0mk_list\u001b[0m\u001b[1;33m.\u001b[0m\u001b[0mappend\u001b[0m\u001b[1;33m(\u001b[0m\u001b[0mk\u001b[0m\u001b[1;33m)\u001b[0m\u001b[1;33m\u001b[0m\u001b[0m\n",
      "\u001b[1;31mAttributeError\u001b[0m: 'KMeans' object has no attribute 'interia_'"
     ]
    }
   ],
   "source": [
    "import matplotlib.pyplot as plt\n",
    "import pandas as pd\n",
    "from sklearn.preprocessing import Imputer\n",
    "from sklearn.preprocessing import MinMaxScaler\n",
    "from sklearn.cluster import KMeans\n",
    "\n",
    "feature = ['NorthRatio', 'MidRatio', 'SouthRatio', 'DayPassingRatio', 'NightPassingRatio', 'OverSpeedRatio']\n",
    "\n",
    "im = Imputer(missing_values='NaN', strategy='mean')\n",
    "df_new[feature] = im.fit_transform(df_new[feature])\n",
    "\n",
    "scaler = MinMaxScaler()\n",
    "X_tmp = scaler.fit_transform(df_new[feature])\n",
    "\n",
    "k_list = []\n",
    "cost = []\n",
    "for k in range(1, 11):\n",
    "    kmeans_model = KMeans(n_clusters=k, random_state=1).fit(X_tmp)\n",
    "    labels = kmeans_model.labels_\n",
    "    interia = kmeans_model.interia_\n",
    "    print('K:',k,'cost:', interia)\n",
    "    k_list.append(k)\n",
    "    cost.append(interia)\n",
    "    \n",
    "\n",
    "plt.plot(k_list, cost, 'ro')\n",
    "plt.show()\n",
    "\n",
    "# k 取三\n",
    "\n",
    "kmeans_model = KMeans(n_cluster = 3, random_state=1).fit(X_tmp)\n",
    "labels = kmeans_model.labels_\n",
    "\n",
    "df_new[feature][labels == 0].describe()\n",
    "df_new[feature][labels == 1].describe()\n",
    "df_new[feature][labels == 2].describe()"
   ]
  },
  {
   "cell_type": "markdown",
   "metadata": {},
   "source": [
    "## Examples"
   ]
  },
  {
   "cell_type": "code",
   "execution_count": null,
   "metadata": {
    "collapsed": true
   },
   "outputs": [],
   "source": [
    "1import matplotlib.pyplot as plt\n",
    "import pandas as pd\n",
    "from sklearn.preprocessing import Imputer\n",
    "from sklearn.preprocessing import MinMaxScaler\n",
    "from sklearn.cluster import KMeans\n",
    "\n",
    "data = pd.read_csv('train.csv')\n",
    "print(data.columns)\n",
    "\n",
    "feature = ['Pclass', 'Age', 'SibSp', 'Parch', 'Fare']\n",
    "\n",
    "im = Imputer(missing_values='NaN', strategy='mean')\n",
    "data[feature] = im.fit_transform(data[feature])\n",
    "\n",
    "scaler = MinMaxScaler()\n",
    "X_tmp = scaler.fit_transform(data[feature])\n",
    "\n",
    "k_list = []\n",
    "cost = []\n",
    "for k in range(1, 11):\n",
    "    kmeans_model = KMeans(n_clusters=k, random_state=1).fit(X_tmp)\n",
    "    labels = kmeans_model.labels_\n",
    "    interia = kmeans_model.interia_\n",
    "    print('K:',k,'cost:', interia)\n",
    "    k_list.append(k)\n",
    "    cost.append(interia)\n",
    "    \n",
    "\n",
    "plt.plot(k_list, cost, 'ro')\n",
    "plt.show()\n",
    "\n",
    "# k 取三\n",
    "\n",
    "kmeans_model = KMeans(n_cluster = 3, random_state=1).fit(X_tmp)\n",
    "labels = kmeans_model.labels_\n",
    "\n",
    "data[feature][labels == 0].describe()\n",
    "data[feature][labels == 1].describe()\n",
    "data[feature][labels == 2].describe()"
   ]
  }
 ],
 "metadata": {
  "kernelspec": {
   "display_name": "Python 2",
   "language": "python",
   "name": "python2"
  },
  "language_info": {
   "codemirror_mode": {
    "name": "ipython",
    "version": 2
   },
   "file_extension": ".py",
   "mimetype": "text/x-python",
   "name": "python",
   "nbconvert_exporter": "python",
   "pygments_lexer": "ipython2",
   "version": "2.7.14"
  }
 },
 "nbformat": 4,
 "nbformat_minor": 2
}
