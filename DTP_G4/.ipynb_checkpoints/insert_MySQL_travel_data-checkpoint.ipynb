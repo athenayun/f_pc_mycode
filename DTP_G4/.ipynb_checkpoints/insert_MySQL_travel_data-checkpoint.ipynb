{
 "cells": [
  {
   "cell_type": "code",
   "execution_count": 16,
   "metadata": {},
   "outputs": [],
   "source": [
    "import peewee\n",
    "import pymysql\n",
    "\n",
    "db = peewee.MySQLDatabase('db_test',\n",
    "                          user='root',\n",
    "                          host='localhost',\n",
    "                          password='root5438',\n",
    "                          port=3306)"
   ]
  },
  {
   "cell_type": "code",
   "execution_count": 18,
   "metadata": {
    "scrolled": true
   },
   "outputs": [],
   "source": [
    "#db.get_columns('travel_yilan')"
   ]
  },
  {
   "cell_type": "code",
   "execution_count": 19,
   "metadata": {},
   "outputs": [],
   "source": [
    "class travel_yilan(peewee.Model):\n",
    "    \n",
    "    VEHICLE_ID = peewee.IntegerField()\n",
    "    D1_O_Time = peewee.CharField()\n",
    "    D1_O = peewee.CharField()\n",
    "    D1_D_Time = peewee.CharField()\n",
    "    D1_D = peewee.CharField()\n",
    "    D2_O_Time = peewee.CharField()\n",
    "    D2_O = peewee.CharField()\n",
    "    D2_D_Time = peewee.CharField()\n",
    "    D2_D = peewee.CharField()\n",
    "    D3_O_Time = peewee.CharField()\n",
    "    D3_O = peewee.CharField()\n",
    "    D3_D_Time = peewee.CharField()\n",
    "    D3_D = peewee.CharField()\n",
    "    D4_O_Time = peewee.CharField()\n",
    "    D4_O = peewee.CharField()\n",
    "    D4_D_Time = peewee.CharField()\n",
    "    D4_D = peewee.CharField()\n",
    "    \n",
    "    \n",
    "    \n",
    "    class Meta:\n",
    "        database = db"
   ]
  },
  {
   "cell_type": "code",
   "execution_count": 21,
   "metadata": {
    "scrolled": true
   },
   "outputs": [
    {
     "name": "stdout",
     "output_type": "stream",
     "text": [
      "(0, '')\n"
     ]
    }
   ],
   "source": [
    "try :\n",
    "    \n",
    "\n",
    "    table_dict = ({'VEHICLE_ID': value_lists[i][1],\n",
    "                   'D1_O_Time': value_lists[i][2],\n",
    "                   'D1_O': value_lists[i][3],\n",
    "                   'D1_D_Time': value_lists[i][4],\n",
    "                   'D1_D': value_lists[i][5],\n",
    "                   'D2_O_Time': value_lists[i][6],\n",
    "                   'D2_O': value_lists[i][7],\n",
    "                   'D2_D_Time': value_lists[i][8],\n",
    "                   'D2_D': value_lists[i][9],\n",
    "                   'D3_O_Time': value_lists[i][10],\n",
    "                   'D3_O': value_lists[i][11],\n",
    "                   'D3_D_Time': value_lists[i][12],\n",
    "                   'D3_D': value_lists[i][13],\n",
    "                   'D4_O_Time': value_lists[i][14],\n",
    "                   'D4_O': value_lists[i][15],\n",
    "                   'D4_D_Time': value_lists[i][16],\n",
    "                   'D4_D': value_lists[i][17]\n",
    "\n",
    "                  } for i in range(len(value_lists)))\n",
    "\n",
    "    with db.atomic():\n",
    "        travel_yilan.insert_many(table_dict).execute()\n",
    "        \n",
    "except Exception as e :\n",
    "    print e\n",
    "    \n",
    "    "
   ]
  },
  {
   "cell_type": "code",
   "execution_count": 4,
   "metadata": {},
   "outputs": [],
   "source": [
    "import pandas as pd"
   ]
  },
  {
   "cell_type": "code",
   "execution_count": 5,
   "metadata": {},
   "outputs": [],
   "source": [
    "df = pd.read_csv('C://Users//Administrator//Documents//code//data//DTP_D4//20170811_20170814_TravelData_csv.csv', na_filter= False)"
   ]
  },
  {
   "cell_type": "code",
   "execution_count": 6,
   "metadata": {},
   "outputs": [],
   "source": [
    "df.columns = ['index', 'VEHICLE_ID', 'D1_O_Time', 'D1_O', 'D1_D_Time', 'D1_D', 'D2_O_Time', 'D2_O', 'D2_D_Time', 'D2_D', 'D3_O_Time', 'D3_O', 'D3_D_Time','D3_D', 'D4_O_Time', 'D4_O', 'D4_D_Time', 'D4_D']"
   ]
  },
  {
   "cell_type": "code",
   "execution_count": 17,
   "metadata": {},
   "outputs": [],
   "source": [
    "#df"
   ]
  },
  {
   "cell_type": "code",
   "execution_count": 7,
   "metadata": {},
   "outputs": [],
   "source": [
    "rows = []\n",
    "for i in df.iterrows() :\n",
    "    one_row = list(i)\n",
    "    listed_row = list(one_row[1])\n",
    "    \n",
    "    rows.append(listed_row)"
   ]
  },
  {
   "cell_type": "code",
   "execution_count": 8,
   "metadata": {},
   "outputs": [],
   "source": [
    "value_lists = rows "
   ]
  },
  {
   "cell_type": "code",
   "execution_count": 9,
   "metadata": {},
   "outputs": [
    {
     "data": {
      "text/plain": [
       "long"
      ]
     },
     "execution_count": 9,
     "metadata": {},
     "output_type": "execute_result"
    }
   ],
   "source": [
    "type(value_lists[1][1])"
   ]
  },
  {
   "cell_type": "code",
   "execution_count": null,
   "metadata": {},
   "outputs": [],
   "source": []
  }
 ],
 "metadata": {
  "kernelspec": {
   "display_name": "Python 2",
   "language": "python",
   "name": "python2"
  },
  "language_info": {
   "codemirror_mode": {
    "name": "ipython",
    "version": 2
   },
   "file_extension": ".py",
   "mimetype": "text/x-python",
   "name": "python",
   "nbconvert_exporter": "python",
   "pygments_lexer": "ipython2",
   "version": "2.7.14"
  }
 },
 "nbformat": 4,
 "nbformat_minor": 2
}
