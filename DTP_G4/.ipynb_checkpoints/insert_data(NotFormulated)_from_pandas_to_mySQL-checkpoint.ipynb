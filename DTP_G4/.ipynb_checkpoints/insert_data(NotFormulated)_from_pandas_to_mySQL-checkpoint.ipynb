{
 "cells": [
  {
   "cell_type": "markdown",
   "metadata": {},
   "source": [
    "## get connected and insert data"
   ]
  },
  {
   "cell_type": "code",
   "execution_count": 44,
   "metadata": {},
   "outputs": [],
   "source": [
    "import peewee\n",
    "import pymysql\n",
    "\n",
    "db = peewee.MySQLDatabase('db_test',\n",
    "                          user='root',\n",
    "                          host='localhost',\n",
    "                          password='root5438',\n",
    "                          port=3306)"
   ]
  },
  {
   "cell_type": "code",
   "execution_count": null,
   "metadata": {},
   "outputs": [],
   "source": [
    "db.get_columns('group4data_trial_6')"
   ]
  },
  {
   "cell_type": "code",
   "execution_count": 45,
   "metadata": {},
   "outputs": [],
   "source": [
    "class group4data_trial_complete(peewee.Model):\n",
    "    VEHICLE_ID = peewee.IntegerField()\n",
    "    DetectedCarCategory = peewee.CharField()\n",
    "    IdentityType= peewee.CharField()\n",
    "    CarBrand = peewee.CharField()\n",
    "    RegisteredCarCategory = peewee.CharField()\n",
    "    CarFactorized_YM = peewee.CharField()\n",
    "    OwnerGender = peewee.TextField()\n",
    "    CarCounty = peewee.TextField()\n",
    "    TotalKM2017 = peewee.FloatField()\n",
    "    TotalDay2017 = peewee.FloatField()\n",
    "    AverageDistance = peewee.FloatField()\n",
    "    DelayedPayBillTimes = peewee.FloatField()\n",
    "    WeekdayRatio = peewee.FloatField()\n",
    "    WeekendRatio = peewee.FloatField()\n",
    "    NorthRatio = peewee.FloatField()\n",
    "    MidRatio = peewee.FloatField()\n",
    "    SouthRatio = peewee.FloatField()\n",
    "    DayPassingRatio = peewee.FloatField()\n",
    "    NightPassingRatio = peewee.FloatField()\n",
    "    AverageSpeed = peewee.FloatField()\n",
    "    OverSpeedRatio = peewee.FloatField()\n",
    "    bigger350KM = peewee.FloatField()\n",
    "    ACL_days = peewee.FloatField()\n",
    "    CarBrand_Ultimate = peewee.CharField()\n",
    "    \n",
    "    class Meta:\n",
    "        database = db"
   ]
  },
  {
   "cell_type": "code",
   "execution_count": 49,
   "metadata": {},
   "outputs": [],
   "source": [
    "table_dict = ({'VEHICLE_ID': value_lists[i][0],\n",
    "               'DetectedCarCategory': value_lists[i][1],\n",
    "               'IdentityType': value_lists[i][2],\n",
    "               'CarBrand': value_lists[i][3],\n",
    "               'RegisteredCarCategory': value_lists[i][4],\n",
    "               'CarFactorized_YM': value_lists[i][5],\n",
    "               'OwnerGender': value_lists[i][6],\n",
    "               'CarCounty': value_lists[i][7],\n",
    "               'TotalKM2017': value_lists[i][8],\n",
    "               'TotalDay2017': value_lists[i][9],\n",
    "               'AverageDistance': value_lists[i][10],\n",
    "               'DelayedPayBillTimes': value_lists[i][11],\n",
    "               'WeekdayRatio': value_lists[i][12],\n",
    "               'WeekendRatio': value_lists[i][13],\n",
    "               'NorthRatio': value_lists[i][14],\n",
    "               'MidRatio': value_lists[i][15],\n",
    "               'SouthRatio': value_lists[i][16],\n",
    "               'DayPassingRatio': value_lists[i][17],\n",
    "               'NightPassingRatio': value_lists[i][18],\n",
    "               'AverageSpeed': value_lists[i][19],\n",
    "               'OverSpeedRatio': value_lists[i][20],\n",
    "               'bigger350KM': value_lists[i][21],\n",
    "               'ACL_days': value_lists[i][22],\n",
    "               'CarBrand_Ultimate': value_lists[i][23]} for i in range(len(value_lists)))\n",
    "\n",
    "with db.atomic():\n",
    "    group4data_trial_complete.insert_many(table_dict).execute()"
   ]
  },
  {
   "cell_type": "markdown",
   "metadata": {},
   "source": [
    "## processing the data"
   ]
  },
  {
   "cell_type": "code",
   "execution_count": 46,
   "metadata": {},
   "outputs": [],
   "source": [
    "import pandas as pd\n",
    "df = pd.read_csv('C://Users//Administrator//Documents//code//data//DTP_D4//altered_g4data_1.csv', na_filter=True, encoding = 'utf-8')"
   ]
  },
  {
   "cell_type": "code",
   "execution_count": 47,
   "metadata": {},
   "outputs": [],
   "source": [
    "rows = []\n",
    "for i in df.iterrows() :\n",
    "    one_row = list(i)\n",
    "    listed_row = list(one_row[1])\n",
    "    \n",
    "    rows.append(listed_row)"
   ]
  },
  {
   "cell_type": "code",
   "execution_count": 48,
   "metadata": {},
   "outputs": [],
   "source": [
    "value_lists = rows "
   ]
  },
  {
   "cell_type": "code",
   "execution_count": 22,
   "metadata": {},
   "outputs": [],
   "source": [
    "#value_lists"
   ]
  },
  {
   "cell_type": "code",
   "execution_count": null,
   "metadata": {},
   "outputs": [],
   "source": []
  }
 ],
 "metadata": {
  "kernelspec": {
   "display_name": "Python 2",
   "language": "python",
   "name": "python2"
  },
  "language_info": {
   "codemirror_mode": {
    "name": "ipython",
    "version": 2
   },
   "file_extension": ".py",
   "mimetype": "text/x-python",
   "name": "python",
   "nbconvert_exporter": "python",
   "pygments_lexer": "ipython2",
   "version": "2.7.14"
  }
 },
 "nbformat": 4,
 "nbformat_minor": 2
}
