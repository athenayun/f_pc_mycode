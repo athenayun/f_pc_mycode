{
 "cells": [
  {
   "cell_type": "code",
   "execution_count": 3,
   "metadata": {},
   "outputs": [
    {
     "name": "stdout",
     "output_type": "stream",
     "text": [
      "Collecting matplotlib\n",
      "  Downloading matplotlib-2.2.2-cp27-cp27m-win_amd64.whl (8.4MB)\n",
      "Collecting backports.functools-lru-cache (from matplotlib)\n",
      "  Downloading backports.functools_lru_cache-1.5-py2.py3-none-any.whl\n",
      "Requirement already satisfied: six>=1.10 in c:\\programdata\\anaconda3\\envs\\athena_fetcpc\\lib\\site-packages (from matplotlib)\n",
      "Requirement already satisfied: pytz in c:\\programdata\\anaconda3\\envs\\athena_fetcpc\\lib\\site-packages (from matplotlib)\n",
      "Collecting cycler>=0.10 (from matplotlib)\n",
      "  Downloading cycler-0.10.0-py2.py3-none-any.whl\n",
      "Collecting kiwisolver>=1.0.1 (from matplotlib)\n",
      "  Downloading kiwisolver-1.0.1-cp27-none-win_amd64.whl (64kB)\n",
      "Requirement already satisfied: python-dateutil>=2.1 in c:\\programdata\\anaconda3\\envs\\athena_fetcpc\\lib\\site-packages (from matplotlib)\n",
      "Collecting pyparsing!=2.0.4,!=2.1.2,!=2.1.6,>=2.0.1 (from matplotlib)\n",
      "  Downloading pyparsing-2.2.0-py2.py3-none-any.whl (56kB)\n",
      "Requirement already satisfied: numpy>=1.7.1 in c:\\programdata\\anaconda3\\envs\\athena_fetcpc\\lib\\site-packages (from matplotlib)\n",
      "Requirement already satisfied: setuptools in c:\\programdata\\anaconda3\\envs\\athena_fetcpc\\lib\\site-packages (from kiwisolver>=1.0.1->matplotlib)\n",
      "Installing collected packages: backports.functools-lru-cache, cycler, kiwisolver, pyparsing, matplotlib\n",
      "Successfully installed backports.functools-lru-cache-1.5 cycler-0.10.0 kiwisolver-1.0.1 matplotlib-2.2.2 pyparsing-2.2.0\n"
     ]
    },
    {
     "name": "stderr",
     "output_type": "stream",
     "text": [
      "  Cache entry deserialization failed, entry ignored\n",
      "Cache entry deserialization failed, entry ignored\n"
     ]
    }
   ],
   "source": [
    "!pip install matplotlib\n",
    "#!python -m pip install --upgrade pip"
   ]
  },
  {
   "cell_type": "code",
   "execution_count": 4,
   "metadata": {},
   "outputs": [],
   "source": [
    "import numpy as np\n",
    "import matplotlib.pyplot as plt"
   ]
  },
  {
   "cell_type": "code",
   "execution_count": null,
   "metadata": {
    "collapsed": true
   },
   "outputs": [],
   "source": []
  }
 ],
 "metadata": {
  "kernelspec": {
   "display_name": "Python 2",
   "language": "python",
   "name": "python2"
  },
  "language_info": {
   "codemirror_mode": {
    "name": "ipython",
    "version": 2
   },
   "file_extension": ".py",
   "mimetype": "text/x-python",
   "name": "python",
   "nbconvert_exporter": "python",
   "pygments_lexer": "ipython2",
   "version": "2.7.14"
  }
 },
 "nbformat": 4,
 "nbformat_minor": 2
}
