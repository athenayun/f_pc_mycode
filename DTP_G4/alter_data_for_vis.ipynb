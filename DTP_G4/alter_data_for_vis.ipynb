{
 "cells": [
  {
   "cell_type": "code",
   "execution_count": 45,
   "metadata": {},
   "outputs": [],
   "source": [
    "import pandas as pd\n",
    "df = pd.read_csv('C://Users//Administrator//Documents//code//data//DTP_D4//altered_g4data_1.csv', na_filter=False, encoding = 'utf-8')"
   ]
  },
  {
   "cell_type": "code",
   "execution_count": 1,
   "metadata": {
    "scrolled": true
   },
   "outputs": [],
   "source": [
    "#df"
   ]
  },
  {
   "cell_type": "code",
   "execution_count": 2,
   "metadata": {
    "scrolled": true
   },
   "outputs": [],
   "source": [
    "#df['CarFactorized_YM']"
   ]
  },
  {
   "cell_type": "code",
   "execution_count": 49,
   "metadata": {
    "scrolled": true
   },
   "outputs": [],
   "source": [
    "import numpy as np\n",
    "\n",
    "new_col_y = []\n",
    "new_col_m = []\n",
    "\n",
    "\n",
    "\n",
    "for i in df['CarFactorized_YM'] :\n",
    "    \n",
    "    if i =='' :\n",
    "        i = \"000000\"\n",
    "    \n",
    "    ii = str(i).split('.')[0][:4]\n",
    "    #print(ii)\n",
    "    new_col_y.append(ii)\n",
    "    try :\n",
    "        jj = str(i).split('.')[0][4] + str(i).split('.')[0][5]\n",
    "    except :\n",
    "        print(type(i))\n",
    "    new_col_m.append(jj)\n",
    "    #print(jj)\n",
    "nn_df = df.assign(CarProduced_Year=new_col_y)\n",
    "nn_df = df.assign(CarProduced_Month=new_col_m)"
   ]
  },
  {
   "cell_type": "code",
   "execution_count": 51,
   "metadata": {},
   "outputs": [],
   "source": [
    "nn_df = df.assign(CarProduced_Year=new_col_y)"
   ]
  },
  {
   "cell_type": "code",
   "execution_count": 58,
   "metadata": {},
   "outputs": [],
   "source": [
    "columns = ['VEHICLE_ID', 'DetectedCarCategory', 'IdentityType', 'CarBrand', 'RegisteredCarCategory' , 'CarFactorized_YM', 'OwnerGender', 'CarCounty', 'TotalKM2017', 'TotalDay2017', 'AverageDistance', 'DelayedPayBillTimes', 'WeekdayRatio', 'WeekendRatio', 'NorthRatio', 'MidRatio', 'SouthRatio', 'DayPassingRatio', 'NightPassingRatio', 'AverageSpeed', 'OverSpeedRatio', 'bigger350KM', 'ACL_days', 'CarBrand_Ultimate', 'CarProduced_Year', 'CarProduced_Month']\n",
    "nnndf.to_csv('C://Users//Administrator//Documents//code//data//DTP_D4//altered_data_1.csv',columns = columns , index=False , header = True,sep=',',encoding='utf-8')"
   ]
  },
  {
   "cell_type": "code",
   "execution_count": 54,
   "metadata": {},
   "outputs": [],
   "source": [
    "import pandas as pd\n",
    "df2 = pd.read_csv('C://Users//Administrator//Documents//code//data//DTP_D4/altered_data_1.csv', na_filter=False, encoding = 'utf-8')"
   ]
  },
  {
   "cell_type": "code",
   "execution_count": 56,
   "metadata": {
    "scrolled": true
   },
   "outputs": [],
   "source": [
    "nnndf = df2.assign(CarProduced_Month=new_col_m)"
   ]
  },
  {
   "cell_type": "code",
   "execution_count": 3,
   "metadata": {
    "scrolled": true
   },
   "outputs": [],
   "source": [
    "#nnndf"
   ]
  },
  {
   "cell_type": "code",
   "execution_count": null,
   "metadata": {},
   "outputs": [],
   "source": []
  }
 ],
 "metadata": {
  "kernelspec": {
   "display_name": "Python 2",
   "language": "python",
   "name": "python2"
  },
  "language_info": {
   "codemirror_mode": {
    "name": "ipython",
    "version": 2
   },
   "file_extension": ".py",
   "mimetype": "text/x-python",
   "name": "python",
   "nbconvert_exporter": "python",
   "pygments_lexer": "ipython2",
   "version": "2.7.14"
  }
 },
 "nbformat": 4,
 "nbformat_minor": 2
}
