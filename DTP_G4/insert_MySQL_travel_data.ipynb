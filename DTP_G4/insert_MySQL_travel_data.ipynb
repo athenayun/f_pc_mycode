{
 "cells": [
  {
   "cell_type": "code",
   "execution_count": 14,
   "metadata": {},
   "outputs": [],
   "source": [
    "import peewee\n",
    "import pymysql\n",
    "\n",
    "db = peewee.MySQLDatabase('db_test',\n",
    "                          user='root',\n",
    "                          host='localhost',\n",
    "                          password='root5438',\n",
    "                          port=3306)"
   ]
  },
  {
   "cell_type": "code",
   "execution_count": 15,
   "metadata": {
    "scrolled": true
   },
   "outputs": [
    {
     "data": {
      "text/plain": [
       "[ColumnMetadata(name=u'VEHICLE_ID', data_type=u'varchar', null=True, primary_key=False, table='travel_yilan'),\n",
       " ColumnMetadata(name=u'D1_O_Time', data_type=u'varchar', null=True, primary_key=False, table='travel_yilan'),\n",
       " ColumnMetadata(name=u'D1_O', data_type=u'varchar', null=True, primary_key=False, table='travel_yilan'),\n",
       " ColumnMetadata(name=u'D1_D_time', data_type=u'varchar', null=True, primary_key=False, table='travel_yilan'),\n",
       " ColumnMetadata(name=u'D1_D', data_type=u'varchar', null=True, primary_key=False, table='travel_yilan'),\n",
       " ColumnMetadata(name=u'D2_O_Time', data_type=u'varchar', null=True, primary_key=False, table='travel_yilan'),\n",
       " ColumnMetadata(name=u'D2_O', data_type=u'varchar', null=True, primary_key=False, table='travel_yilan'),\n",
       " ColumnMetadata(name=u'D2_D_Time', data_type=u'varchar', null=True, primary_key=False, table='travel_yilan'),\n",
       " ColumnMetadata(name=u'D2_D', data_type=u'varchar', null=True, primary_key=False, table='travel_yilan'),\n",
       " ColumnMetadata(name=u'D3_O_Time', data_type=u'varchar', null=True, primary_key=False, table='travel_yilan'),\n",
       " ColumnMetadata(name=u'D3_O', data_type=u'varchar', null=True, primary_key=False, table='travel_yilan'),\n",
       " ColumnMetadata(name=u'D3_D_Time', data_type=u'varchar', null=True, primary_key=False, table='travel_yilan'),\n",
       " ColumnMetadata(name=u'D3_D', data_type=u'varchar', null=True, primary_key=False, table='travel_yilan'),\n",
       " ColumnMetadata(name=u'D4_O_Time', data_type=u'varchar', null=True, primary_key=False, table='travel_yilan'),\n",
       " ColumnMetadata(name=u'D4_O', data_type=u'varchar', null=True, primary_key=False, table='travel_yilan'),\n",
       " ColumnMetadata(name=u'D4_D_Time', data_type=u'varchar', null=True, primary_key=False, table='travel_yilan'),\n",
       " ColumnMetadata(name=u'D4_D', data_type=u'varchar', null=True, primary_key=False, table='travel_yilan')]"
      ]
     },
     "execution_count": 15,
     "metadata": {},
     "output_type": "execute_result"
    }
   ],
   "source": [
    "db.get_columns('travel_yilan')"
   ]
  },
  {
   "cell_type": "code",
   "execution_count": 24,
   "metadata": {},
   "outputs": [],
   "source": [
    "class travel_yilan(peewee.Model):\n",
    "    \n",
    "    VEHICLE_ID = peewee.IntegerField()\n",
    "    D1_O_Time = peewee.CharField()\n",
    "    D1_O = peewee.CharField()\n",
    "    D1_D_Time = peewee.CharField()\n",
    "    D1_D = peewee.CharField()\n",
    "    D2_O_Time = peewee.CharField()\n",
    "    D2_O = peewee.CharField()\n",
    "    D2_D_Time = peewee.CharField()\n",
    "    D2_D = peewee.CharField()\n",
    "    D3_O_Time = peewee.CharField()\n",
    "    D3_O = peewee.CharField()\n",
    "    D3_D_Time = peewee.CharField()\n",
    "    D3_D = peewee.CharField()\n",
    "    D4_O_Time = peewee.CharField()\n",
    "    D4_O = peewee.CharField()\n",
    "    D4_D_Time = peewee.CharField()\n",
    "    D4_D = peewee.CharField()\n",
    "    \n",
    "    \n",
    "    \n",
    "    class Meta:\n",
    "        database = db"
   ]
  },
  {
   "cell_type": "code",
   "execution_count": 25,
   "metadata": {
    "scrolled": true
   },
   "outputs": [
    {
     "ename": "InterfaceError",
     "evalue": "(0, '')",
     "output_type": "error",
     "traceback": [
      "\u001b[1;31m---------------------------------------------------------------------------\u001b[0m",
      "\u001b[1;31mInterfaceError\u001b[0m                            Traceback (most recent call last)",
      "\u001b[1;32m<ipython-input-25-4e5134297459>\u001b[0m in \u001b[0;36m<module>\u001b[1;34m()\u001b[0m\n\u001b[0;32m     20\u001b[0m \u001b[1;33m\u001b[0m\u001b[0m\n\u001b[0;32m     21\u001b[0m \u001b[1;32mwith\u001b[0m \u001b[0mdb\u001b[0m\u001b[1;33m.\u001b[0m\u001b[0matomic\u001b[0m\u001b[1;33m(\u001b[0m\u001b[1;33m)\u001b[0m\u001b[1;33m:\u001b[0m\u001b[1;33m\u001b[0m\u001b[0m\n\u001b[1;32m---> 22\u001b[1;33m     \u001b[0mtravel_yilan\u001b[0m\u001b[1;33m.\u001b[0m\u001b[0minsert_many\u001b[0m\u001b[1;33m(\u001b[0m\u001b[0mtable_dict\u001b[0m\u001b[1;33m)\u001b[0m\u001b[1;33m.\u001b[0m\u001b[0mexecute\u001b[0m\u001b[1;33m(\u001b[0m\u001b[1;33m)\u001b[0m\u001b[1;33m\u001b[0m\u001b[0m\n\u001b[0m",
      "\u001b[1;32mC:\\ProgramData\\Anaconda3\\envs\\athena_fetcpc\\lib\\site-packages\\peewee.pyc\u001b[0m in \u001b[0;36m__exit__\u001b[1;34m(self, exc_type, exc_val, exc_tb)\u001b[0m\n\u001b[0;32m   3297\u001b[0m \u001b[1;33m\u001b[0m\u001b[0m\n\u001b[0;32m   3298\u001b[0m     \u001b[1;32mdef\u001b[0m \u001b[0m__exit__\u001b[0m\u001b[1;33m(\u001b[0m\u001b[0mself\u001b[0m\u001b[1;33m,\u001b[0m \u001b[0mexc_type\u001b[0m\u001b[1;33m,\u001b[0m \u001b[0mexc_val\u001b[0m\u001b[1;33m,\u001b[0m \u001b[0mexc_tb\u001b[0m\u001b[1;33m)\u001b[0m\u001b[1;33m:\u001b[0m\u001b[1;33m\u001b[0m\u001b[0m\n\u001b[1;32m-> 3299\u001b[1;33m         \u001b[1;32mreturn\u001b[0m \u001b[0mself\u001b[0m\u001b[1;33m.\u001b[0m\u001b[0m_helper\u001b[0m\u001b[1;33m.\u001b[0m\u001b[0m__exit__\u001b[0m\u001b[1;33m(\u001b[0m\u001b[0mexc_type\u001b[0m\u001b[1;33m,\u001b[0m \u001b[0mexc_val\u001b[0m\u001b[1;33m,\u001b[0m \u001b[0mexc_tb\u001b[0m\u001b[1;33m)\u001b[0m\u001b[1;33m\u001b[0m\u001b[0m\n\u001b[0m\u001b[0;32m   3300\u001b[0m \u001b[1;33m\u001b[0m\u001b[0m\n\u001b[0;32m   3301\u001b[0m \u001b[1;33m\u001b[0m\u001b[0m\n",
      "\u001b[1;32mC:\\ProgramData\\Anaconda3\\envs\\athena_fetcpc\\lib\\site-packages\\peewee.pyc\u001b[0m in \u001b[0;36m__exit__\u001b[1;34m(self, exc_type, exc_val, exc_tb)\u001b[0m\n\u001b[0;32m   3330\u001b[0m         \u001b[1;32mtry\u001b[0m\u001b[1;33m:\u001b[0m\u001b[1;33m\u001b[0m\u001b[0m\n\u001b[0;32m   3331\u001b[0m             \u001b[1;32mif\u001b[0m \u001b[0mexc_type\u001b[0m\u001b[1;33m:\u001b[0m\u001b[1;33m\u001b[0m\u001b[0m\n\u001b[1;32m-> 3332\u001b[1;33m                 \u001b[0mself\u001b[0m\u001b[1;33m.\u001b[0m\u001b[0mrollback\u001b[0m\u001b[1;33m(\u001b[0m\u001b[0mFalse\u001b[0m\u001b[1;33m)\u001b[0m\u001b[1;33m\u001b[0m\u001b[0m\n\u001b[0m\u001b[0;32m   3333\u001b[0m             \u001b[1;32melif\u001b[0m \u001b[0mself\u001b[0m\u001b[1;33m.\u001b[0m\u001b[0mdb\u001b[0m\u001b[1;33m.\u001b[0m\u001b[0mtransaction_depth\u001b[0m\u001b[1;33m(\u001b[0m\u001b[1;33m)\u001b[0m \u001b[1;33m==\u001b[0m \u001b[1;36m1\u001b[0m\u001b[1;33m:\u001b[0m\u001b[1;33m\u001b[0m\u001b[0m\n\u001b[0;32m   3334\u001b[0m                 \u001b[1;32mtry\u001b[0m\u001b[1;33m:\u001b[0m\u001b[1;33m\u001b[0m\u001b[0m\n",
      "\u001b[1;32mC:\\ProgramData\\Anaconda3\\envs\\athena_fetcpc\\lib\\site-packages\\peewee.pyc\u001b[0m in \u001b[0;36mrollback\u001b[1;34m(self, begin)\u001b[0m\n\u001b[0;32m   3317\u001b[0m \u001b[1;33m\u001b[0m\u001b[0m\n\u001b[0;32m   3318\u001b[0m     \u001b[1;32mdef\u001b[0m \u001b[0mrollback\u001b[0m\u001b[1;33m(\u001b[0m\u001b[0mself\u001b[0m\u001b[1;33m,\u001b[0m \u001b[0mbegin\u001b[0m\u001b[1;33m=\u001b[0m\u001b[0mTrue\u001b[0m\u001b[1;33m)\u001b[0m\u001b[1;33m:\u001b[0m\u001b[1;33m\u001b[0m\u001b[0m\n\u001b[1;32m-> 3319\u001b[1;33m         \u001b[0mself\u001b[0m\u001b[1;33m.\u001b[0m\u001b[0mdb\u001b[0m\u001b[1;33m.\u001b[0m\u001b[0mrollback\u001b[0m\u001b[1;33m(\u001b[0m\u001b[1;33m)\u001b[0m\u001b[1;33m\u001b[0m\u001b[0m\n\u001b[0m\u001b[0;32m   3320\u001b[0m         \u001b[1;32mif\u001b[0m \u001b[0mbegin\u001b[0m\u001b[1;33m:\u001b[0m\u001b[1;33m\u001b[0m\u001b[0m\n\u001b[0;32m   3321\u001b[0m             \u001b[0mself\u001b[0m\u001b[1;33m.\u001b[0m\u001b[0m_begin\u001b[0m\u001b[1;33m(\u001b[0m\u001b[1;33m)\u001b[0m\u001b[1;33m\u001b[0m\u001b[0m\n",
      "\u001b[1;32mC:\\ProgramData\\Anaconda3\\envs\\athena_fetcpc\\lib\\site-packages\\peewee.pyc\u001b[0m in \u001b[0;36mrollback\u001b[1;34m(self)\u001b[0m\n\u001b[0;32m   2600\u001b[0m \u001b[1;33m\u001b[0m\u001b[0m\n\u001b[0;32m   2601\u001b[0m     \u001b[1;32mdef\u001b[0m \u001b[0mrollback\u001b[0m\u001b[1;33m(\u001b[0m\u001b[0mself\u001b[0m\u001b[1;33m)\u001b[0m\u001b[1;33m:\u001b[0m\u001b[1;33m\u001b[0m\u001b[0m\n\u001b[1;32m-> 2602\u001b[1;33m         \u001b[1;32mreturn\u001b[0m \u001b[0mself\u001b[0m\u001b[1;33m.\u001b[0m\u001b[0m_state\u001b[0m\u001b[1;33m.\u001b[0m\u001b[0mconn\u001b[0m\u001b[1;33m.\u001b[0m\u001b[0mrollback\u001b[0m\u001b[1;33m(\u001b[0m\u001b[1;33m)\u001b[0m\u001b[1;33m\u001b[0m\u001b[0m\n\u001b[0m\u001b[0;32m   2603\u001b[0m \u001b[1;33m\u001b[0m\u001b[0m\n\u001b[0;32m   2604\u001b[0m     \u001b[1;32mdef\u001b[0m \u001b[0mbatch_commit\u001b[0m\u001b[1;33m(\u001b[0m\u001b[0mself\u001b[0m\u001b[1;33m,\u001b[0m \u001b[0mit\u001b[0m\u001b[1;33m,\u001b[0m \u001b[0mn\u001b[0m\u001b[1;33m)\u001b[0m\u001b[1;33m:\u001b[0m\u001b[1;33m\u001b[0m\u001b[0m\n",
      "\u001b[1;32mC:\\ProgramData\\Anaconda3\\envs\\athena_fetcpc\\lib\\site-packages\\pymysql\\connections.pyc\u001b[0m in \u001b[0;36mrollback\u001b[1;34m(self)\u001b[0m\n\u001b[0;32m    783\u001b[0m     \u001b[1;32mdef\u001b[0m \u001b[0mrollback\u001b[0m\u001b[1;33m(\u001b[0m\u001b[0mself\u001b[0m\u001b[1;33m)\u001b[0m\u001b[1;33m:\u001b[0m\u001b[1;33m\u001b[0m\u001b[0m\n\u001b[0;32m    784\u001b[0m         \u001b[1;34m\"\"\"Roll back the current transaction\"\"\"\u001b[0m\u001b[1;33m\u001b[0m\u001b[0m\n\u001b[1;32m--> 785\u001b[1;33m         \u001b[0mself\u001b[0m\u001b[1;33m.\u001b[0m\u001b[0m_execute_command\u001b[0m\u001b[1;33m(\u001b[0m\u001b[0mCOMMAND\u001b[0m\u001b[1;33m.\u001b[0m\u001b[0mCOM_QUERY\u001b[0m\u001b[1;33m,\u001b[0m \u001b[1;34m\"ROLLBACK\"\u001b[0m\u001b[1;33m)\u001b[0m\u001b[1;33m\u001b[0m\u001b[0m\n\u001b[0m\u001b[0;32m    786\u001b[0m         \u001b[0mself\u001b[0m\u001b[1;33m.\u001b[0m\u001b[0m_read_ok_packet\u001b[0m\u001b[1;33m(\u001b[0m\u001b[1;33m)\u001b[0m\u001b[1;33m\u001b[0m\u001b[0m\n\u001b[0;32m    787\u001b[0m \u001b[1;33m\u001b[0m\u001b[0m\n",
      "\u001b[1;32mC:\\ProgramData\\Anaconda3\\envs\\athena_fetcpc\\lib\\site-packages\\pymysql\\connections.pyc\u001b[0m in \u001b[0;36m_execute_command\u001b[1;34m(self, command, sql)\u001b[0m\n\u001b[0;32m   1073\u001b[0m     \u001b[1;32mdef\u001b[0m \u001b[0m_execute_command\u001b[0m\u001b[1;33m(\u001b[0m\u001b[0mself\u001b[0m\u001b[1;33m,\u001b[0m \u001b[0mcommand\u001b[0m\u001b[1;33m,\u001b[0m \u001b[0msql\u001b[0m\u001b[1;33m)\u001b[0m\u001b[1;33m:\u001b[0m\u001b[1;33m\u001b[0m\u001b[0m\n\u001b[0;32m   1074\u001b[0m         \u001b[1;32mif\u001b[0m \u001b[1;32mnot\u001b[0m \u001b[0mself\u001b[0m\u001b[1;33m.\u001b[0m\u001b[0m_sock\u001b[0m\u001b[1;33m:\u001b[0m\u001b[1;33m\u001b[0m\u001b[0m\n\u001b[1;32m-> 1075\u001b[1;33m             \u001b[1;32mraise\u001b[0m \u001b[0merr\u001b[0m\u001b[1;33m.\u001b[0m\u001b[0mInterfaceError\u001b[0m\u001b[1;33m(\u001b[0m\u001b[1;34m\"(0, '')\"\u001b[0m\u001b[1;33m)\u001b[0m\u001b[1;33m\u001b[0m\u001b[0m\n\u001b[0m\u001b[0;32m   1076\u001b[0m \u001b[1;33m\u001b[0m\u001b[0m\n\u001b[0;32m   1077\u001b[0m         \u001b[1;31m# If the last query was unbuffered, make sure it finishes before\u001b[0m\u001b[1;33m\u001b[0m\u001b[1;33m\u001b[0m\u001b[0m\n",
      "\u001b[1;31mInterfaceError\u001b[0m: (0, '')"
     ]
    }
   ],
   "source": [
    "table_dict = ({'VEHICLE_ID': value_lists[i][1],\n",
    "               'D1_O_Time': value_lists[i][2],\n",
    "               'D1_O': value_lists[i][3],\n",
    "               'D1_D_Time': value_lists[i][4],\n",
    "               'D1_D': value_lists[i][5],\n",
    "               'D2_O_Time': value_lists[i][6],\n",
    "               'D2_O': value_lists[i][7],\n",
    "               'D2_D_Time': value_lists[i][8],\n",
    "               'D2_D': value_lists[i][9],\n",
    "               'D3_O_Time': value_lists[i][10],\n",
    "               'D3_O': value_lists[i][11],\n",
    "               'D3_D_Time': value_lists[i][12],\n",
    "               'D3_D': value_lists[i][13],\n",
    "               'D4_O_Time': value_lists[i][14],\n",
    "               'D4_O': value_lists[i][15],\n",
    "               'D4_D_Time': value_lists[i][16],\n",
    "               'D4_D': value_lists[i][17]\n",
    "                           \n",
    "              } for i in range(len(value_lists)))\n",
    "\n",
    "with db.atomic():\n",
    "    travel_yilan.insert_many(table_dict).execute()"
   ]
  },
  {
   "cell_type": "code",
   "execution_count": 3,
   "metadata": {},
   "outputs": [],
   "source": [
    "import pandas as pd"
   ]
  },
  {
   "cell_type": "code",
   "execution_count": 4,
   "metadata": {},
   "outputs": [],
   "source": [
    "df = pd.read_csv('C://Users//Administrator//Documents//code//data//DTP_D4//20170811_20170814_TravelData_csv.csv', na_filter= False)"
   ]
  },
  {
   "cell_type": "code",
   "execution_count": 5,
   "metadata": {},
   "outputs": [],
   "source": [
    "df.columns = ['index', 'VEHICLE_ID', 'D1_O_Time', 'D1_O', 'D1_D_Time', 'D1_D', 'D2_O_Time', 'D2_O', 'D2_D_Time', 'D2_D', 'D3_O_Time', 'D3_O', 'D3_D_Time','D3_D', 'D4_O_Time', 'D4_O', 'D4_D_Time', 'D4_D']"
   ]
  },
  {
   "cell_type": "code",
   "execution_count": 17,
   "metadata": {},
   "outputs": [],
   "source": [
    "#df"
   ]
  },
  {
   "cell_type": "code",
   "execution_count": 6,
   "metadata": {},
   "outputs": [],
   "source": [
    "rows = []\n",
    "for i in df.iterrows() :\n",
    "    one_row = list(i)\n",
    "    listed_row = list(one_row[1])\n",
    "    \n",
    "    rows.append(listed_row)"
   ]
  },
  {
   "cell_type": "code",
   "execution_count": 7,
   "metadata": {},
   "outputs": [],
   "source": [
    "value_lists = rows "
   ]
  },
  {
   "cell_type": "code",
   "execution_count": 26,
   "metadata": {},
   "outputs": [
    {
     "data": {
      "text/plain": [
       "long"
      ]
     },
     "execution_count": 26,
     "metadata": {},
     "output_type": "execute_result"
    }
   ],
   "source": [
    "type(value_lists[1][1])"
   ]
  },
  {
   "cell_type": "code",
   "execution_count": null,
   "metadata": {},
   "outputs": [],
   "source": []
  }
 ],
 "metadata": {
  "kernelspec": {
   "display_name": "Python 2",
   "language": "python",
   "name": "python2"
  },
  "language_info": {
   "codemirror_mode": {
    "name": "ipython",
    "version": 2
   },
   "file_extension": ".py",
   "mimetype": "text/x-python",
   "name": "python",
   "nbconvert_exporter": "python",
   "pygments_lexer": "ipython2",
   "version": "2.7.14"
  }
 },
 "nbformat": 4,
 "nbformat_minor": 2
}
