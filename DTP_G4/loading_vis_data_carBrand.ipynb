{
 "cells": [
  {
   "cell_type": "markdown",
   "metadata": {},
   "source": [
    "### Loading Data"
   ]
  },
  {
   "cell_type": "code",
   "execution_count": 1,
   "metadata": {},
   "outputs": [],
   "source": [
    "import pandas as pd"
   ]
  },
  {
   "cell_type": "code",
   "execution_count": 16,
   "metadata": {},
   "outputs": [],
   "source": [
    "df = pd.read_csv('C://Users//Administrator//Documents//code//data//DTP_D4//CarBrand_data//NISSAN.csv', na_filter=False, encoding = 'utf-8', low_memory=False)"
   ]
  },
  {
   "cell_type": "code",
   "execution_count": 1,
   "metadata": {
    "scrolled": true
   },
   "outputs": [],
   "source": [
    "#df.head()"
   ]
  },
  {
   "cell_type": "markdown",
   "metadata": {},
   "source": [
    "###  Connect to SQL"
   ]
  },
  {
   "cell_type": "code",
   "execution_count": 59,
   "metadata": {},
   "outputs": [],
   "source": [
    "import peewee\n",
    "import pymysql\n",
    "\n",
    "db = peewee.MySQLDatabase('db_test',\n",
    "                          user='root',\n",
    "                          host='localhost',\n",
    "                          password='root5438',\n",
    "                          port=3306)"
   ]
  },
  {
   "cell_type": "code",
   "execution_count": null,
   "metadata": {},
   "outputs": [],
   "source": [
    "import pymysql.cursors\n",
    "import codecs\n",
    "\n",
    "try :\n",
    "    with db.cursor() as cursor:\n",
    "            # Read a single record\n",
    "            sql = \"SELECT * FROM group4data_trial_2 \"\n",
    "            cursor.execute(sql)\n",
    "            result = cursor.fetchall()\n",
    "            print(result)\n",
    "finally:\n",
    "    db.close()"
   ]
  },
  {
   "cell_type": "code",
   "execution_count": null,
   "metadata": {},
   "outputs": [],
   "source": [
    "class brand_mazda(peewee.Model):\n",
    "    VEHICLE_ID = peewee.IntegerField()\n",
    "    Brand = peewee.CharField()\n",
    "    MVDIS_BRAND = peewee.CharField()\n",
    "    MVDIS_MANUFACTURE_YM = peewee.CharField()\n",
    "    Manu_YYYY = peewee.CharField()\n",
    "    Manu_MM = peewee.CharField()\n",
    "    agesY_by_month = peewee.FloatField()\n",
    "    rest_month = peewee.FloatField()\n",
    "    total_month = peewee.FloatField()\n",
    "    \n",
    "   \n",
    "    \n",
    "    class Meta:\n",
    "        database = db"
   ]
  },
  {
   "cell_type": "code",
   "execution_count": null,
   "metadata": {
    "scrolled": true
   },
   "outputs": [],
   "source": [
    "while True :\n",
    "\n",
    "    try :\n",
    "\n",
    "\n",
    "        table_dict = ({'VEHICLE_ID': value_lists[i][0],\n",
    "                       'Brand': value_lists[i][1],\n",
    "                       'MVDIS_BRAND': value_lists[i][2],\n",
    "                       'MVDIS_MANUFACTURE_YM': value_lists[i][3],\n",
    "                       'Manu_YYYY': value_lists[i][4],\n",
    "                       'Manu_MM': value_lists[i][5],\n",
    "                       'agesY_by_month': value_lists[i][6],\n",
    "                       'rest_month': value_lists[i][7],\n",
    "                       'total_month': value_lists[i][8]                            \n",
    "                      } for i in range(len(value_lists)))\n",
    "\n",
    "        with db.atomic():\n",
    "            brand_mazda.insert_many(table_dict).execute()\n",
    "\n",
    "    except : \n",
    "        continue"
   ]
  },
  {
   "cell_type": "markdown",
   "metadata": {},
   "source": [
    "###  Process Data - using Python"
   ]
  },
  {
   "cell_type": "markdown",
   "metadata": {},
   "source": [
    "#### iterrows() in pandas performs slowly, not a good choice"
   ]
  },
  {
   "cell_type": "code",
   "execution_count": 7,
   "metadata": {
    "scrolled": true
   },
   "outputs": [
    {
     "ename": "NameError",
     "evalue": "name 'df' is not defined",
     "output_type": "error",
     "traceback": [
      "\u001b[1;31m---------------------------------------------------------------------------\u001b[0m",
      "\u001b[1;31mNameError\u001b[0m                                 Traceback (most recent call last)",
      "\u001b[1;32m<ipython-input-7-a85a890a84ff>\u001b[0m in \u001b[0;36m<module>\u001b[1;34m()\u001b[0m\n\u001b[0;32m      2\u001b[0m \u001b[1;31m#df['Manu_MM']\u001b[0m\u001b[1;33m\u001b[0m\u001b[1;33m\u001b[0m\u001b[0m\n\u001b[0;32m      3\u001b[0m \u001b[1;33m\u001b[0m\u001b[0m\n\u001b[1;32m----> 4\u001b[1;33m \u001b[1;32mfor\u001b[0m \u001b[0meach_row\u001b[0m \u001b[1;32min\u001b[0m \u001b[0mdf\u001b[0m\u001b[1;33m.\u001b[0m\u001b[0miterrows\u001b[0m\u001b[1;33m(\u001b[0m\u001b[1;33m)\u001b[0m\u001b[1;33m:\u001b[0m\u001b[1;33m\u001b[0m\u001b[0m\n\u001b[0m\u001b[0;32m      5\u001b[0m     \u001b[0mrecords\u001b[0m \u001b[1;33m=\u001b[0m \u001b[0mlist\u001b[0m\u001b[1;33m(\u001b[0m\u001b[0mlist\u001b[0m\u001b[1;33m(\u001b[0m\u001b[0meach_row\u001b[0m\u001b[1;33m)\u001b[0m\u001b[1;33m[\u001b[0m\u001b[1;36m1\u001b[0m\u001b[1;33m]\u001b[0m\u001b[1;33m)\u001b[0m\u001b[1;33m\u001b[0m\u001b[0m\n\u001b[0;32m      6\u001b[0m     \u001b[1;31m#print(records)\u001b[0m\u001b[1;33m\u001b[0m\u001b[1;33m\u001b[0m\u001b[0m\n",
      "\u001b[1;31mNameError\u001b[0m: name 'df' is not defined"
     ]
    }
   ],
   "source": [
    "#df['Manu_YYYY']\n",
    "#df['Manu_MM']\n",
    "\n",
    "for each_row in df.iterrows():\n",
    "    records = list(list(each_row)[1])\n",
    "    #print(records)\n",
    "    \n",
    "    try :\n",
    "        ages_by_month = ((2018 - float(records[4]) )*12 - float(records[5]) + 3)//12\n",
    "        #print(ages_by_month)\n",
    "        rest_month =   ((2018 - float(records[4]) )*12 - float(records[5]) + 3) % 12\n",
    "        #print(rest_month)\n",
    "        total_month = ((2018 - float(records[4]) )*12 - float(records[5]) + 3)\n",
    "        #print(total_month)\n",
    "        records.append(ages_by_month)\n",
    "        records.append(rest_month)\n",
    "        records.append(total_month)\n",
    "    except :\n",
    "        #print(records)\n",
    "        continue\n",
    "    \n",
    "    df['agesY_by_month'] = records[6]\n",
    "    df['rest_month'] = records[7]\n",
    "    df['total_month'] = records[8]"
   ]
  },
  {
   "cell_type": "markdown",
   "metadata": {},
   "source": [
    "#### try using df.apply() with function, check if it's faster "
   ]
  },
  {
   "cell_type": "code",
   "execution_count": 5,
   "metadata": {},
   "outputs": [],
   "source": [
    "def calculate_ages_by_month(df_row):\n",
    "    \n",
    "    if df_row[4] == 'NULL' and df_row[5] == 'NULL' :\n",
    "        print(df_row)\n",
    "        return 0\n",
    "    elif df_row[5] == '' :\n",
    "        ages_by_month = (2018 - float(df_row[4]) )\n",
    "        return ages_by_month\n",
    "        \n",
    "    else :\n",
    "         \n",
    "        ages_by_month = ((2018 - float(df_row[4]) )*12 - float(df_row[5]) + 3)//12\n",
    "        return ages_by_month \n",
    "    \n",
    "   \n",
    "        "
   ]
  },
  {
   "cell_type": "code",
   "execution_count": 6,
   "metadata": {},
   "outputs": [],
   "source": [
    "def calculate_rest_month(df_row):\n",
    "    \n",
    "    if df_row[4] == 'NULL' and df_row[5] == 'NULL' :\n",
    "        print(df_row)\n",
    "        return 0\n",
    "    elif df_row[5] == '' :\n",
    "        rest_month = (2018 - float(df_row[4]) )//12\n",
    "        return rest_month\n",
    "        \n",
    "    else :\n",
    "        rest_month = ((2018 - float(df_row[4]) )*12 - float(df_row[5]) + 3) % 12\n",
    "        return rest_month "
   ]
  },
  {
   "cell_type": "code",
   "execution_count": 7,
   "metadata": {},
   "outputs": [],
   "source": [
    "def calculate_total_month(df_row):\n",
    "    \n",
    "    if df_row[4] == 'NULL' and df_row[5] == 'NULL' :\n",
    "        print(df_row)\n",
    "        return 0\n",
    "    elif df_row[5] == '' :\n",
    "        total_month = (2018 - float(df_row[4]) )*12 + 3\n",
    "        return total_month\n",
    "        \n",
    "    else :\n",
    "        total_month = ((2018 - float(df_row[4]) )*12 - float(df_row[5]) + 3)\n",
    "        return total_month"
   ]
  },
  {
   "cell_type": "code",
   "execution_count": 6,
   "metadata": {
    "scrolled": true
   },
   "outputs": [],
   "source": [
    "#df['ages_by_month'] = df.apply(calculate_ages_by_month, axis = 1)"
   ]
  },
  {
   "cell_type": "code",
   "execution_count": 5,
   "metadata": {
    "scrolled": true
   },
   "outputs": [],
   "source": [
    "#df['rest_month'] = df.apply(calculate_rest_month, axis = 1)"
   ]
  },
  {
   "cell_type": "code",
   "execution_count": 4,
   "metadata": {
    "scrolled": true
   },
   "outputs": [],
   "source": [
    "#df['total_month'] = df.apply(calculate_total_month, axis = 1)"
   ]
  },
  {
   "cell_type": "code",
   "execution_count": 3,
   "metadata": {
    "scrolled": true
   },
   "outputs": [],
   "source": [
    "#df"
   ]
  },
  {
   "cell_type": "code",
   "execution_count": 15,
   "metadata": {},
   "outputs": [],
   "source": [
    "columns = ['VEHICLE_ID', 'Brand', 'MVDIS_BRAND', 'MVDIS_MANUFACTURE_YM', 'Manu_YYYY', 'Manu_MM', 'ages_by_month', 'rest_month', 'total_month']\n",
    "df.to_csv('C://Users//Administrator//Documents//code//data//DTP_D4//CarBrand_data//with_ages//MITSUBISHI_ages.csv', columns = columns , index=False , header = True,sep=',',encoding='utf-8')\n"
   ]
  },
  {
   "cell_type": "code",
   "execution_count": 78,
   "metadata": {},
   "outputs": [],
   "source": [
    "value_lists = rows"
   ]
  },
  {
   "cell_type": "code",
   "execution_count": 13,
   "metadata": {
    "scrolled": true
   },
   "outputs": [],
   "source": [
    "rows = []\n",
    "for i in df.iterrows() :\n",
    "    one_row = list(i)\n",
    "    listed_row = list(one_row[1])\n",
    "    \n",
    "    rows.append(listed_row)"
   ]
  },
  {
   "cell_type": "code",
   "execution_count": 2,
   "metadata": {},
   "outputs": [],
   "source": [
    "#value_lists"
   ]
  },
  {
   "cell_type": "code",
   "execution_count": null,
   "metadata": {},
   "outputs": [],
   "source": []
  }
 ],
 "metadata": {
  "kernelspec": {
   "display_name": "Python 2",
   "language": "python",
   "name": "python2"
  },
  "language_info": {
   "codemirror_mode": {
    "name": "ipython",
    "version": 2
   },
   "file_extension": ".py",
   "mimetype": "text/x-python",
   "name": "python",
   "nbconvert_exporter": "python",
   "pygments_lexer": "ipython2",
   "version": "2.7.14"
  }
 },
 "nbformat": 4,
 "nbformat_minor": 2
}
