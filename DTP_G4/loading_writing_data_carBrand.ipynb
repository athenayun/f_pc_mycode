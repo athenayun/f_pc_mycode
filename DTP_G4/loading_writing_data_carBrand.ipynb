{
 "cells": [
  {
   "cell_type": "markdown",
   "metadata": {},
   "source": [
    "### loading data"
   ]
  },
  {
   "cell_type": "code",
   "execution_count": 1,
   "metadata": {},
   "outputs": [],
   "source": [
    "import pandas as pd"
   ]
  },
  {
   "cell_type": "code",
   "execution_count": 20,
   "metadata": {},
   "outputs": [],
   "source": [
    "df = pd.read_csv('C://Users//Administrator//Documents//code//data//DTP_D4//CarBrand_data//NAZJE.csv', na_filter=False, encoding = 'utf-8', low_memory=False)"
   ]
  },
  {
   "cell_type": "code",
   "execution_count": 1,
   "metadata": {},
   "outputs": [],
   "source": [
    "#df.head()"
   ]
  },
  {
   "cell_type": "markdown",
   "metadata": {},
   "source": [
    "### define fuction"
   ]
  },
  {
   "cell_type": "code",
   "execution_count": 4,
   "metadata": {},
   "outputs": [],
   "source": [
    "def calculate_ages_by_month(df_row):\n",
    "    \n",
    "    if df_row[4] == 'NULL' and df_row[5] == 'NULL' :\n",
    "        print(df_row)\n",
    "        return 0\n",
    "    elif df_row[5] == '' :\n",
    "        ages_by_month = (2018 - float(df_row[4]) )\n",
    "        return ages_by_month\n",
    "        \n",
    "    else :\n",
    "         \n",
    "        ages_by_month = ((2018 - float(df_row[4]) )*12 - float(df_row[5]) + 3)//12\n",
    "        return ages_by_month \n",
    "    "
   ]
  },
  {
   "cell_type": "code",
   "execution_count": 5,
   "metadata": {},
   "outputs": [],
   "source": [
    "def calculate_rest_month(df_row):\n",
    "    \n",
    "    if df_row[4] == 'NULL' and df_row[5] == 'NULL' :\n",
    "        print(df_row)\n",
    "        return 0\n",
    "    elif df_row[5] == '' :\n",
    "        rest_month = (2018 - float(df_row[4]) )//12\n",
    "        return rest_month\n",
    "        \n",
    "    else :\n",
    "        rest_month = ((2018 - float(df_row[4]) )*12 - float(df_row[5]) + 3) % 12\n",
    "        return rest_month "
   ]
  },
  {
   "cell_type": "code",
   "execution_count": 6,
   "metadata": {},
   "outputs": [],
   "source": [
    "def calculate_total_month(df_row):\n",
    "    \n",
    "    if df_row[4] == 'NULL' and df_row[5] == 'NULL' :\n",
    "        print(df_row)\n",
    "        return 0\n",
    "    elif df_row[5] == '' :\n",
    "        total_month = (2018 - float(df_row[4]) )*12 + 3\n",
    "        return total_month\n",
    "        \n",
    "    else :\n",
    "        total_month = ((2018 - float(df_row[4]) )*12 - float(df_row[5]) + 3)\n",
    "        return total_month"
   ]
  },
  {
   "cell_type": "markdown",
   "metadata": {},
   "source": [
    "### start processing data"
   ]
  },
  {
   "cell_type": "code",
   "execution_count": 22,
   "metadata": {
    "scrolled": true
   },
   "outputs": [],
   "source": [
    "df['ages_by_month'] = df.apply(calculate_ages_by_month, axis = 1)"
   ]
  },
  {
   "cell_type": "code",
   "execution_count": 23,
   "metadata": {
    "scrolled": true
   },
   "outputs": [],
   "source": [
    "df['rest_month'] = df.apply(calculate_rest_month, axis = 1)"
   ]
  },
  {
   "cell_type": "code",
   "execution_count": 24,
   "metadata": {
    "scrolled": true
   },
   "outputs": [],
   "source": [
    "df['total_month'] = df.apply(calculate_total_month, axis = 1)"
   ]
  },
  {
   "cell_type": "markdown",
   "metadata": {},
   "source": [
    "##### result"
   ]
  },
  {
   "cell_type": "code",
   "execution_count": 2,
   "metadata": {
    "scrolled": true
   },
   "outputs": [],
   "source": [
    "#df"
   ]
  },
  {
   "cell_type": "markdown",
   "metadata": {},
   "source": [
    "#### to_csv()"
   ]
  },
  {
   "cell_type": "code",
   "execution_count": 26,
   "metadata": {},
   "outputs": [],
   "source": [
    "columns = ['VEHICLE_ID', 'Brand', 'MVDIS_BRAND', 'MVDIS_MANUFACTURE_YM', 'Manu_YYYY', 'Manu_MM', 'ages_by_month', 'rest_month', 'total_month']\n",
    "df.to_csv('C://Users//Administrator//Documents//code//data//DTP_D4//CarBrand_data//with_ages//NAZJE_ages.csv', columns = columns , index=False , header = True,sep=',',encoding='utf-8')\n"
   ]
  },
  {
   "cell_type": "code",
   "execution_count": null,
   "metadata": {},
   "outputs": [],
   "source": []
  }
 ],
 "metadata": {
  "kernelspec": {
   "display_name": "Python 2",
   "language": "python",
   "name": "python2"
  },
  "language_info": {
   "codemirror_mode": {
    "name": "ipython",
    "version": 2
   },
   "file_extension": ".py",
   "mimetype": "text/x-python",
   "name": "python",
   "nbconvert_exporter": "python",
   "pygments_lexer": "ipython2",
   "version": "2.7.14"
  }
 },
 "nbformat": 4,
 "nbformat_minor": 2
}
