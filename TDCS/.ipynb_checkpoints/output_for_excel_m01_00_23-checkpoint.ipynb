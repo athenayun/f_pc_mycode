{
 "cells": [
  {
   "cell_type": "markdown",
   "metadata": {},
   "source": [
    "#### get connected and run SQL ( took a long time , about one day and a half )"
   ]
  },
  {
   "cell_type": "code",
   "execution_count": 2,
   "metadata": {},
   "outputs": [],
   "source": [
    "import peewee\n",
    "import pymysql\n",
    "\n",
    "db = peewee.MySQLDatabase('db_test',\n",
    "                          user='root',\n",
    "                          host='localhost',\n",
    "                          password='root5438',\n",
    "                          port=3306)"
   ]
  },
  {
   "cell_type": "code",
   "execution_count": 3,
   "metadata": {},
   "outputs": [],
   "source": [
    "import pymysql.cursors\n",
    "import codecs\n",
    "\n",
    "try :\n",
    "    with db.cursor() as cursor:\n",
    "            # Read a single record\n",
    "            sql =   \"\"\"\n",
    "                    select UniqueSequence\n",
    "                    FROM db_tdcs.m01_all_total\n",
    "                    group by UniqueSequence;\n",
    "                    \n",
    "                    \"\"\"\n",
    "            cursor.execute(sql)\n",
    "            result_total = cursor.fetchall()\n",
    "            #print(result_statistic)\n",
    "finally:\n",
    "    db.close()"
   ]
  },
  {
   "cell_type": "code",
   "execution_count": 7,
   "metadata": {},
   "outputs": [
    {
     "data": {
      "text/plain": [
       "1742846"
      ]
     },
     "execution_count": 7,
     "metadata": {},
     "output_type": "execute_result"
    }
   ],
   "source": [
    "len(list(result_total))"
   ]
  },
  {
   "cell_type": "markdown",
   "metadata": {},
   "source": [
    "#### save into file"
   ]
  },
  {
   "cell_type": "code",
   "execution_count": 12,
   "metadata": {},
   "outputs": [],
   "source": [
    "cars = []\n",
    "for i in list(result_total):\n",
    "    cars.append(list(i)[0])\n",
    "    #print list(i)[0]"
   ]
  },
  {
   "cell_type": "code",
   "execution_count": 21,
   "metadata": {},
   "outputs": [],
   "source": [
    "import codecs\n",
    "with codecs.open('C://Users//Administrator//Documents//code//data//data_TDCS//m01_cars_list.txt', 'w') as f :\n",
    "    f.write(\"%s\"%cars)"
   ]
  },
  {
   "cell_type": "markdown",
   "metadata": {},
   "source": [
    "#### package ast : Abstract Syntax Trees\n",
    "The ast module helps Python applications to process trees of the Python abstract syntax grammar. The abstract syntax itself might change with each Python release; this module helps to find out programmatically what the current grammar looks like.\n",
    "##### ast.literal_eval()\n",
    "I turn string read from file (its type is string, but its plattern is a list) into a list, using the above packages' method"
   ]
  },
  {
   "cell_type": "code",
   "execution_count": 34,
   "metadata": {},
   "outputs": [
    {
     "name": "stdout",
     "output_type": "stream",
     "text": [
      "<type 'list'>\n"
     ]
    }
   ],
   "source": [
    "import json\n",
    "import ast\n",
    "with codecs.open('C://Users//Administrator//Documents//code//data//data_TDCS//m01_cars_list.txt', 'r')as f :\n",
    "    test_file = f.read().encode('utf-8')\n",
    "    #test_list = json.loads(test_file)\n",
    "    test_list = ast.literal_eval(test_file)\n",
    "    print type(test_list)#[0]"
   ]
  },
  {
   "cell_type": "code",
   "execution_count": 37,
   "metadata": {},
   "outputs": [
    {
     "data": {
      "text/plain": [
       "'00038a19e05a9e62d14d10dedd6a2efa'"
      ]
     },
     "execution_count": 37,
     "metadata": {},
     "output_type": "execute_result"
    }
   ],
   "source": [
    "test_list[100].encode('utf-8')"
   ]
  },
  {
   "cell_type": "code",
   "execution_count": 15,
   "metadata": {},
   "outputs": [
    {
     "data": {
      "text/plain": [
       "unicode"
      ]
     },
     "execution_count": 15,
     "metadata": {},
     "output_type": "execute_result"
    }
   ],
   "source": [
    "type(cars[1])"
   ]
  },
  {
   "cell_type": "code",
   "execution_count": 38,
   "metadata": {},
   "outputs": [],
   "source": [
    "cars_list = test_list "
   ]
  },
  {
   "cell_type": "markdown",
   "metadata": {},
   "source": [
    "##### next SQL (perhaps it will take plenty of time too...)"
   ]
  },
  {
   "cell_type": "code",
   "execution_count": null,
   "metadata": {},
   "outputs": [],
   "source": [
    "import pymysql.cursors\n",
    "import codecs\n",
    "\n",
    "cars_dict = {}\n",
    "\n",
    "for car_num in range(len(cars_list)) :\n",
    "    \n",
    "\n",
    "    try :\n",
    "        with db.cursor() as cursor:\n",
    "                # Read a single record\n",
    "                sql =   \"\"\"\n",
    "                        select *\n",
    "                        FROM db_tdcs.m01_all_total\n",
    "                        where UniqueSequence = \"{0}\"\n",
    "                        order by Date_Time;\n",
    "\n",
    "                        \"\"\".format(cars_list[car_num])\n",
    "                cursor.execute(sql)\n",
    "                cars_dict[\"result_{0}\".format(car_num)] = cursor.fetchall()\n",
    "                #print(result_statistic)\n",
    "    finally:\n",
    "        db.close()"
   ]
  }
 ],
 "metadata": {
  "kernelspec": {
   "display_name": "Python 2",
   "language": "python",
   "name": "python2"
  },
  "language_info": {
   "codemirror_mode": {
    "name": "ipython",
    "version": 2
   },
   "file_extension": ".py",
   "mimetype": "text/x-python",
   "name": "python",
   "nbconvert_exporter": "python",
   "pygments_lexer": "ipython2",
   "version": "2.7.14"
  }
 },
 "nbformat": 4,
 "nbformat_minor": 2
}
