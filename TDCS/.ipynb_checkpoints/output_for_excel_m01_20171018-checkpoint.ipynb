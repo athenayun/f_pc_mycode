{
 "cells": [
  {
   "cell_type": "code",
   "execution_count": 1,
   "metadata": {},
   "outputs": [],
   "source": [
    "import peewee\n",
    "import pymysql\n",
    "\n",
    "db = peewee.MySQLDatabase('db_tdcs',\n",
    "                          user='root',\n",
    "                          host='localhost',\n",
    "                          password='root5438',\n",
    "                          port=3306)"
   ]
  },
  {
   "cell_type": "code",
   "execution_count": 3,
   "metadata": {},
   "outputs": [],
   "source": [
    "import pymysql.cursors\n",
    "import codecs\n",
    "\n",
    "try :\n",
    "    with db.cursor() as cursor:\n",
    "            # Read a single record\n",
    "            sql =   \"\"\"\n",
    "                    select UniqueSequence\n",
    "                    FROM db_tdcs.m01_20171018_all_total\n",
    "                    group by UniqueSequence;\n",
    "                    \n",
    "                    \"\"\"\n",
    "            cursor.execute(sql)\n",
    "            result_total = cursor.fetchall()\n",
    "            #print(result_statistic)\n",
    "finally:\n",
    "    db.close()"
   ]
  },
  {
   "cell_type": "code",
   "execution_count": 4,
   "metadata": {},
   "outputs": [
    {
     "data": {
      "text/plain": [
       "1724623"
      ]
     },
     "execution_count": 4,
     "metadata": {},
     "output_type": "execute_result"
    }
   ],
   "source": [
    "len(list(result_total))"
   ]
  },
  {
   "cell_type": "code",
   "execution_count": 10,
   "metadata": {},
   "outputs": [],
   "source": [
    "#result_total"
   ]
  },
  {
   "cell_type": "code",
   "execution_count": 6,
   "metadata": {},
   "outputs": [],
   "source": [
    "cars = []\n",
    "for i in list(result_total):\n",
    "    cars.append(list(i)[0])\n",
    "    #print list(i)[0]"
   ]
  },
  {
   "cell_type": "code",
   "execution_count": 9,
   "metadata": {},
   "outputs": [],
   "source": [
    "#cars"
   ]
  },
  {
   "cell_type": "code",
   "execution_count": 8,
   "metadata": {},
   "outputs": [],
   "source": [
    "import codecs\n",
    "with codecs.open('C://Users//Administrator//Documents//code//data//data_TDCS//m01_20181018_cars_list.txt', 'w') as f :\n",
    "    f.write(\"%s\"%cars)"
   ]
  },
  {
   "cell_type": "code",
   "execution_count": null,
   "metadata": {},
   "outputs": [],
   "source": []
  }
 ],
 "metadata": {
  "kernelspec": {
   "display_name": "Python 2",
   "language": "python",
   "name": "python2"
  },
  "language_info": {
   "codemirror_mode": {
    "name": "ipython",
    "version": 2
   },
   "file_extension": ".py",
   "mimetype": "text/x-python",
   "name": "python",
   "nbconvert_exporter": "python",
   "pygments_lexer": "ipython2",
   "version": "2.7.14"
  }
 },
 "nbformat": 4,
 "nbformat_minor": 2
}
