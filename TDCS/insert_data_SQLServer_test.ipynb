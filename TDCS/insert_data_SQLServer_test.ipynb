{
 "cells": [
  {
   "cell_type": "markdown",
   "metadata": {},
   "source": [
    "###  Get connection to sql server"
   ]
  },
  {
   "cell_type": "code",
   "execution_count": 1,
   "metadata": {},
   "outputs": [],
   "source": [
    "import pyodbc"
   ]
  },
  {
   "cell_type": "code",
   "execution_count": 2,
   "metadata": {},
   "outputs": [],
   "source": [
    "db = pyodbc.connect('DRIVER={SQL Server};SERVER=AthenaLee-PC;PORT=1433;DATABASE=athena_practice;UID=;PWD=')"
   ]
  },
  {
   "cell_type": "code",
   "execution_count": 3,
   "metadata": {},
   "outputs": [],
   "source": [
    "cursor = db.cursor()"
   ]
  },
  {
   "cell_type": "markdown",
   "metadata": {},
   "source": [
    "###  Get files from file system"
   ]
  },
  {
   "cell_type": "code",
   "execution_count": 12,
   "metadata": {},
   "outputs": [],
   "source": [
    "import pandas as pd\n",
    "file00 = 'C://Users//Administrator//Documents//TDCS_20171115_M01-M05//M01//20171115//00//TDCS_M01_20171115_000000_01.csv'\n",
    "df00 = pd.read_csv(file00)"
   ]
  },
  {
   "cell_type": "code",
   "execution_count": 16,
   "metadata": {
    "scrolled": true
   },
   "outputs": [],
   "source": [
    "#df00"
   ]
  },
  {
   "cell_type": "code",
   "execution_count": 15,
   "metadata": {},
   "outputs": [
    {
     "data": {
      "text/plain": [
       "(868, 6)"
      ]
     },
     "execution_count": 15,
     "metadata": {},
     "output_type": "execute_result"
    }
   ],
   "source": [
    "df00.shape"
   ]
  },
  {
   "cell_type": "code",
   "execution_count": 8,
   "metadata": {},
   "outputs": [
    {
     "name": "stdout",
     "output_type": "stream",
     "text": [
      "<open file 'C://Users//Administrator//Documents//TDCS_20171115_M01-M05//M01//20171115//00//TDCS_M01_20171115_000000_01.csv', mode 'r' at 0x000000000941E1E0>\n"
     ]
    }
   ],
   "source": [
    "#from backports import csv\n",
    "import io\n",
    "import codecs\n",
    "\n",
    "file00 = 'C://Users//Administrator//Documents//TDCS_20171115_M01-M05//M01//20171115//00//TDCS_M01_20171115_000000_01.csv'\n",
    "\n",
    "with codecs.open(file00, \"r\") as my_file:\n",
    "    print my_file"
   ]
  },
  {
   "cell_type": "code",
   "execution_count": 9,
   "metadata": {
    "scrolled": true
   },
   "outputs": [
    {
     "ename": "UnicodeDecodeError",
     "evalue": "'ascii' codec can't decode byte 0x81 in position 74: ordinal not in range(128)",
     "output_type": "error",
     "traceback": [
      "\u001b[1;31m---------------------------------------------------------------------------\u001b[0m",
      "\u001b[1;31mUnicodeDecodeError\u001b[0m                        Traceback (most recent call last)",
      "\u001b[1;32m<ipython-input-9-a122eabde207>\u001b[0m in \u001b[0;36m<module>\u001b[1;34m()\u001b[0m\n\u001b[0;32m      2\u001b[0m \u001b[0mSQL_statement\u001b[0m \u001b[1;33m=\u001b[0m \u001b[1;34m\"bcp m01_all in %s -w\"\u001b[0m\u001b[1;33m%\u001b[0m\u001b[1;33m(\u001b[0m\u001b[0mfile00\u001b[0m\u001b[1;33m)\u001b[0m\u001b[1;33m\u001b[0m\u001b[0m\n\u001b[0;32m      3\u001b[0m \u001b[1;33m\u001b[0m\u001b[0m\n\u001b[1;32m----> 4\u001b[1;33m \u001b[0mcursor\u001b[0m\u001b[1;33m.\u001b[0m\u001b[0mexecute\u001b[0m\u001b[1;33m(\u001b[0m\u001b[0mSQL_statement\u001b[0m\u001b[1;33m)\u001b[0m\u001b[1;33m\u001b[0m\u001b[0m\n\u001b[0m",
      "\u001b[1;31mUnicodeDecodeError\u001b[0m: 'ascii' codec can't decode byte 0x81 in position 74: ordinal not in range(128)"
     ]
    }
   ],
   "source": [
    "file00 = \"'C:\\Users\\Administrator\\Documents\\TDCS_20171115_M01-M05\\M01\\20171115\\00\\TDCS_M01_20171115_000000_01.csv'\"\n",
    "SQL_statement = \"bcp m01_all in %s -w\"%(file00)\n",
    "\n",
    "cursor.execute(SQL_statement)"
   ]
  },
  {
   "cell_type": "code",
   "execution_count": null,
   "metadata": {},
   "outputs": [],
   "source": [
    "import sys"
   ]
  },
  {
   "cell_type": "code",
   "execution_count": 18,
   "metadata": {},
   "outputs": [
    {
     "data": {
      "text/plain": [
       "'ascii'"
      ]
     },
     "execution_count": 18,
     "metadata": {},
     "output_type": "execute_result"
    }
   ],
   "source": [
    "sys.getdefaultencoding()"
   ]
  },
  {
   "cell_type": "code",
   "execution_count": 70,
   "metadata": {},
   "outputs": [],
   "source": [
    "sys.setdefaultencoding('utf8')"
   ]
  },
  {
   "cell_type": "markdown",
   "metadata": {},
   "source": [
    "#### print error : translate the error code hahaha"
   ]
  },
  {
   "cell_type": "code",
   "execution_count": 10,
   "metadata": {},
   "outputs": [],
   "source": [
    "_str = ('42000', u\"[42000] [Microsoft][ODBC SQL Server Driver][SQL Server]\\u63a5\\u8fd1 '.' \\u4e4b\\u8655\\u7684\\u8a9e\\u6cd5\\u4e0d\\u6b63\\u78ba\\u3002 (102) (SQLExecDirectW)\")\n",
    "_str2 = ('42000', u\"[42000] [Microsoft][ODBC SQL Server Driver][SQL Server]\\u63a5\\u8fd1\\u95dc\\u9375\\u5b57 'in' \\u4e4b\\u8655\\u7684\\u8a9e\\u6cd5\\u4e0d\\u6b63\\u78ba\\u3002 (156) (SQLExecDirectW)\")\n",
    "_str3 = ('42000', u\"[42000] [Microsoft][ODBC SQL Server Driver][SQL Server]\\u63a5\\u8fd1\\u95dc\\u9375\\u5b57 'IN' \\u4e4b\\u8655\\u7684\\u8a9e\\u6cd5\\u4e0d\\u6b63\\u78ba\\u3002 (156) (SQLExecDirectW)\")"
   ]
  },
  {
   "cell_type": "code",
   "execution_count": 24,
   "metadata": {},
   "outputs": [
    {
     "data": {
      "text/plain": [
       "tuple"
      ]
     },
     "execution_count": 24,
     "metadata": {},
     "output_type": "execute_result"
    }
   ],
   "source": [
    "type(_str3)"
   ]
  },
  {
   "cell_type": "code",
   "execution_count": 11,
   "metadata": {
    "scrolled": true
   },
   "outputs": [
    {
     "name": "stdout",
     "output_type": "stream",
     "text": [
      "42000\n",
      "[42000] [Microsoft][ODBC SQL Server Driver][SQL Server]接近關鍵字 'in' 之處的語法不正確。 (156) (SQLExecDirectW)\n"
     ]
    }
   ],
   "source": [
    "for one in _str2 :\n",
    "    print(one)"
   ]
  },
  {
   "cell_type": "code",
   "execution_count": 77,
   "metadata": {},
   "outputs": [
    {
     "data": {
      "text/plain": [
       "\"bcp m01_all IN 'C:\\\\Users\\\\Administrator\\\\Documents\\\\TDCS_20171115_M01-M05\\\\M01\\\\20171115\\\\00\\\\TDCS_M01_20171115_000000_01.csv' -w\""
      ]
     },
     "execution_count": 77,
     "metadata": {},
     "output_type": "execute_result"
    }
   ],
   "source": [
    "SQL_statement"
   ]
  },
  {
   "cell_type": "code",
   "execution_count": 22,
   "metadata": {},
   "outputs": [
    {
     "ename": "ProgrammingError",
     "evalue": "('42000', u\"[42000] [Microsoft][ODBC SQL Server Driver][SQL Server]\\u63a5\\u8fd1\\u95dc\\u9375\\u5b57 'IN' \\u4e4b\\u8655\\u7684\\u8a9e\\u6cd5\\u4e0d\\u6b63\\u78ba\\u3002 (156) (SQLExecDirectW)\")",
     "output_type": "error",
     "traceback": [
      "\u001b[1;31m---------------------------------------------------------------------------\u001b[0m",
      "\u001b[1;31mProgrammingError\u001b[0m                          Traceback (most recent call last)",
      "\u001b[1;32m<ipython-input-22-46798f428387>\u001b[0m in \u001b[0;36m<module>\u001b[1;34m()\u001b[0m\n\u001b[0;32m     17\u001b[0m     \u001b[0mSQL_statement\u001b[0m \u001b[1;33m=\u001b[0m \u001b[1;34m\"bcp m01_all IN %s -w\"\u001b[0m\u001b[1;33m%\u001b[0m\u001b[1;33m(\u001b[0m\u001b[0mfile_route\u001b[0m\u001b[1;33m)\u001b[0m\u001b[1;33m\u001b[0m\u001b[0m\n\u001b[0;32m     18\u001b[0m     \u001b[1;31m#print(SQL_statement)\u001b[0m\u001b[1;33m\u001b[0m\u001b[1;33m\u001b[0m\u001b[0m\n\u001b[1;32m---> 19\u001b[1;33m     \u001b[0mcursor\u001b[0m\u001b[1;33m.\u001b[0m\u001b[0mexecute\u001b[0m\u001b[1;33m(\u001b[0m\u001b[0mSQL_statement\u001b[0m\u001b[1;33m)\u001b[0m\u001b[1;33m\u001b[0m\u001b[0m\n\u001b[0m\u001b[0;32m     20\u001b[0m \u001b[1;33m\u001b[0m\u001b[0m\n\u001b[0;32m     21\u001b[0m \u001b[1;33m\u001b[0m\u001b[0m\n",
      "\u001b[1;31mProgrammingError\u001b[0m: ('42000', u\"[42000] [Microsoft][ODBC SQL Server Driver][SQL Server]\\u63a5\\u8fd1\\u95dc\\u9375\\u5b57 'IN' \\u4e4b\\u8655\\u7684\\u8a9e\\u6cd5\\u4e0d\\u6b63\\u78ba\\u3002 (156) (SQLExecDirectW)\")"
     ]
    }
   ],
   "source": [
    "import glob\n",
    "import pandas as pd\n",
    "\n",
    "files = glob.glob(\"C://Users//Administrator//Documents//TDCS_20171115_M01-M05//M01//20171115//00//*.csv\" )\n",
    "\n",
    "\n",
    "for file in files :\n",
    "    \n",
    "    \n",
    "    #print(file)\n",
    "    each_table = pd.read_csv(file, na_filter=False, encoding = 'utf-8', low_memory=False)\n",
    "    #each_table.columns = ['UniqueSequence', 'Gantry', 'Lane', 'Datetime', 'CarType', 'Direction']\n",
    "    #each_table.to_sql('dbo.m01_all', con=engine, schema='athena_practice')\n",
    "    \n",
    "    file_route = \"'%s'\"%str(file).replace('//', '\\\\')\n",
    "    #print(file_route)\n",
    "    SQL_statement = \"bcp m01_all IN %s -w\"%(file_route)\n",
    "    #print(SQL_statement)\n",
    "    cursor.execute(SQL_statement)\n",
    "    \n",
    "    \n"
   ]
  },
  {
   "cell_type": "code",
   "execution_count": 13,
   "metadata": {},
   "outputs": [
    {
     "name": "stdout",
     "output_type": "stream",
     "text": [
      "Collecting SQLAlchemy\n",
      "  Downloading https://files.pythonhosted.org/packages/c1/c8/392fcd2d01534bc871c65cb964e0b39d59feb777e51649e6eaf00f6377b5/SQLAlchemy-1.2.7.tar.gz (5.6MB)\n",
      "Building wheels for collected packages: SQLAlchemy\n",
      "  Running setup.py bdist_wheel for SQLAlchemy: started\n",
      "  Running setup.py bdist_wheel for SQLAlchemy: finished with status 'done'\n",
      "  Stored in directory: C:\\Users\\Administrator\\AppData\\Local\\pip\\Cache\\wheels\\89\\38\\e1\\e121d77c19eeeee42baabc2e623f08285267daedbf2fea9dd7\n",
      "Successfully built SQLAlchemy\n",
      "Installing collected packages: SQLAlchemy\n",
      "Successfully installed SQLAlchemy-1.2.7\n"
     ]
    },
    {
     "name": "stderr",
     "output_type": "stream",
     "text": [
      "You are using pip version 9.0.3, however version 10.0.1 is available.\n",
      "You should consider upgrading via the 'python -m pip install --upgrade pip' command.\n"
     ]
    }
   ],
   "source": [
    "!pip install SQLAlchemy"
   ]
  },
  {
   "cell_type": "code",
   "execution_count": 21,
   "metadata": {},
   "outputs": [
    {
     "ename": "NameError",
     "evalue": "name 'files' is not defined",
     "output_type": "error",
     "traceback": [
      "\u001b[1;31m---------------------------------------------------------------------------\u001b[0m",
      "\u001b[1;31mNameError\u001b[0m                                 Traceback (most recent call last)",
      "\u001b[1;32m<ipython-input-21-afbdb817facd>\u001b[0m in \u001b[0;36m<module>\u001b[1;34m()\u001b[0m\n\u001b[1;32m----> 1\u001b[1;33m \u001b[0mlen\u001b[0m\u001b[1;33m(\u001b[0m\u001b[0mfiles\u001b[0m\u001b[1;33m)\u001b[0m\u001b[1;33m\u001b[0m\u001b[0m\n\u001b[0m",
      "\u001b[1;31mNameError\u001b[0m: name 'files' is not defined"
     ]
    }
   ],
   "source": [
    "len(files)"
   ]
  },
  {
   "cell_type": "code",
   "execution_count": 19,
   "metadata": {},
   "outputs": [],
   "source": [
    "from sqlalchemy import create_engine"
   ]
  },
  {
   "cell_type": "code",
   "execution_count": 20,
   "metadata": {},
   "outputs": [],
   "source": [
    "engine = create_engine('mssql+pyodbc://:@AthenaLee-PC:1433/athena_practice')"
   ]
  },
  {
   "cell_type": "code",
   "execution_count": null,
   "metadata": {},
   "outputs": [],
   "source": []
  }
 ],
 "metadata": {
  "kernelspec": {
   "display_name": "Python 2",
   "language": "python",
   "name": "python2"
  },
  "language_info": {
   "codemirror_mode": {
    "name": "ipython",
    "version": 2
   },
   "file_extension": ".py",
   "mimetype": "text/x-python",
   "name": "python",
   "nbconvert_exporter": "python",
   "pygments_lexer": "ipython2",
   "version": "2.7.14"
  }
 },
 "nbformat": 4,
 "nbformat_minor": 2
}
