{
 "cells": [
  {
   "cell_type": "markdown",
   "metadata": {},
   "source": [
    "## get connected to MySQL"
   ]
  },
  {
   "cell_type": "code",
   "execution_count": 117,
   "metadata": {},
   "outputs": [],
   "source": [
    "import peewee\n",
    "import pymysql\n",
    "\n",
    "db = peewee.MySQLDatabase('db_test',\n",
    "                          user='root',\n",
    "                          host='localhost',\n",
    "                          password='root5438',\n",
    "                          port=3306)"
   ]
  },
  {
   "cell_type": "markdown",
   "metadata": {},
   "source": [
    "### Fetching car_id from m01_all ( 00 hours only )"
   ]
  },
  {
   "cell_type": "code",
   "execution_count": 2,
   "metadata": {},
   "outputs": [],
   "source": [
    "import pymysql.cursors\n",
    "import codecs\n",
    "\n",
    "try :\n",
    "    with db.cursor() as cursor:\n",
    "            # Read a single record\n",
    "            sql =   \"\"\"\n",
    "                    select UniqueSequence\n",
    "                    FROM db_tdcs.m01_all\n",
    "                    group by UniqueSequence;\n",
    "                    \n",
    "                    \"\"\"\n",
    "            cursor.execute(sql)\n",
    "            result = cursor.fetchall()\n",
    "            #print(result_statistic)\n",
    "finally:\n",
    "    db.close()"
   ]
  },
  {
   "cell_type": "markdown",
   "metadata": {},
   "source": [
    "###  Fetching car_id from m01_all_total ( 00-23 hours )"
   ]
  },
  {
   "cell_type": "code",
   "execution_count": null,
   "metadata": {},
   "outputs": [],
   "source": [
    "import pymysql.cursors\n",
    "import codecs\n",
    "\n",
    "try :\n",
    "    with db.cursor() as cursor:\n",
    "            # Read a single record\n",
    "            sql =   \"\"\"\n",
    "                    select UniqueSequence\n",
    "                    FROM db_tdcs.m01_all\n",
    "                    group by UniqueSequence;\n",
    "                    \n",
    "                    \"\"\"\n",
    "            cursor.execute(sql)\n",
    "            result = cursor.fetchall()\n",
    "            #print(result_statistic)\n",
    "finally:\n",
    "    db.close()"
   ]
  },
  {
   "cell_type": "code",
   "execution_count": 45,
   "metadata": {},
   "outputs": [],
   "source": [
    "#result"
   ]
  },
  {
   "cell_type": "code",
   "execution_count": 11,
   "metadata": {},
   "outputs": [
    {
     "data": {
      "text/plain": [
       "tuple"
      ]
     },
     "execution_count": 11,
     "metadata": {},
     "output_type": "execute_result"
    }
   ],
   "source": [
    "type(result)"
   ]
  },
  {
   "cell_type": "code",
   "execution_count": 5,
   "metadata": {},
   "outputs": [
    {
     "data": {
      "text/plain": [
       "39663"
      ]
     },
     "execution_count": 5,
     "metadata": {},
     "output_type": "execute_result"
    }
   ],
   "source": [
    "len(list(result))"
   ]
  },
  {
   "cell_type": "code",
   "execution_count": 8,
   "metadata": {},
   "outputs": [],
   "source": [
    "cars = []\n",
    "\n",
    "for car in list(result):\n",
    "    cars.append(list(car)[0])"
   ]
  },
  {
   "cell_type": "markdown",
   "metadata": {},
   "source": [
    "##  keep SQL from the result"
   ]
  },
  {
   "cell_type": "code",
   "execution_count": 14,
   "metadata": {},
   "outputs": [],
   "source": [
    "import pymysql.cursors\n",
    "import codecs\n",
    "\n",
    "cars_dict = {}\n",
    "\n",
    "for car_num in range(len(cars)) :\n",
    "    \n",
    "\n",
    "    try :\n",
    "        with db.cursor() as cursor:\n",
    "                # Read a single record\n",
    "                sql =   \"\"\"\n",
    "                        select *\n",
    "                        FROM db_tdcs.m01_all\n",
    "                        where UniqueSequence = \"{0}\"\n",
    "                        order by Date_Time;\n",
    "\n",
    "                        \"\"\".format(cars[car_num])\n",
    "                cursor.execute(sql)\n",
    "                cars_dict[\"result_{0}\".format(car_num)] = cursor.fetchall()\n",
    "                #print(result_statistic)\n",
    "    finally:\n",
    "        db.close()"
   ]
  },
  {
   "cell_type": "markdown",
   "metadata": {},
   "source": [
    "### save the result(all of the travel times generate by cars) into json file"
   ]
  },
  {
   "cell_type": "code",
   "execution_count": 20,
   "metadata": {},
   "outputs": [],
   "source": [
    "import json\n",
    " \n",
    "\n",
    "cars_json = json.dumps(cars_dict)\n",
    "f = open(\"C://Users//Administrator//Documents//code//data//data_TDCS//cars_dict.json\",\"w\")\n",
    "f.write(cars_json)\n",
    "f.close()"
   ]
  },
  {
   "cell_type": "markdown",
   "metadata": {},
   "source": [
    "#### checking the results"
   ]
  },
  {
   "cell_type": "code",
   "execution_count": 44,
   "metadata": {},
   "outputs": [],
   "source": [
    "import pprint\n",
    "#pprint.pprint(cars_dict)"
   ]
  },
  {
   "cell_type": "code",
   "execution_count": 43,
   "metadata": {},
   "outputs": [],
   "source": [
    "#cars_dict.keys()"
   ]
  },
  {
   "cell_type": "code",
   "execution_count": 21,
   "metadata": {
    "scrolled": true
   },
   "outputs": [
    {
     "data": {
      "text/plain": [
       "39663"
      ]
     },
     "execution_count": 21,
     "metadata": {},
     "output_type": "execute_result"
    }
   ],
   "source": [
    "len(cars_dict.values())"
   ]
  },
  {
   "cell_type": "code",
   "execution_count": 116,
   "metadata": {},
   "outputs": [],
   "source": [
    "#cars_dict.values()[11]"
   ]
  },
  {
   "cell_type": "markdown",
   "metadata": {},
   "source": [
    "### making a defined travel times list ( for first and last records only )"
   ]
  },
  {
   "cell_type": "code",
   "execution_count": 39,
   "metadata": {},
   "outputs": [],
   "source": [
    "car_travel_list = []\n",
    "each_travel_dict = {}\n",
    "\n",
    "for each_num in range(len(cars_dict.values())):\n",
    "    \n",
    "    travel_times = list(cars_dict.values()[each_num])\n",
    "    car_travel_list = []\n",
    "    car_travel_list.append(travel_times[0])\n",
    "    car_travel_list.append(travel_times[len(travel_times)-1])\n",
    "    \n",
    "    \n",
    "    each_travel_dict['{0}'.format(cars_dict.keys()[each_num])] = car_travel_list\n",
    "    \n",
    "    \n",
    "        \n",
    "    #print travel_times"
   ]
  },
  {
   "cell_type": "markdown",
   "metadata": {},
   "source": [
    "#### write into json file"
   ]
  },
  {
   "cell_type": "code",
   "execution_count": 41,
   "metadata": {},
   "outputs": [],
   "source": [
    "cars_travel_json = json.dumps(each_travel_dict)\n",
    "f = open(\"C://Users//Administrator//Documents//code//data//data_TDCS//cars_travel2_dict.json\",\"w\")\n",
    "f.write(cars_travel_json)\n",
    "f.close()"
   ]
  },
  {
   "cell_type": "code",
   "execution_count": 42,
   "metadata": {
    "scrolled": true
   },
   "outputs": [],
   "source": [
    "#pprint.pprint(each_travel_dict)"
   ]
  },
  {
   "cell_type": "markdown",
   "metadata": {},
   "source": [
    "#### do some calculations on the Date_Time field"
   ]
  },
  {
   "cell_type": "code",
   "execution_count": 115,
   "metadata": {},
   "outputs": [],
   "source": [
    "#each_travel_dict.values()[11]"
   ]
  },
  {
   "cell_type": "code",
   "execution_count": 92,
   "metadata": {},
   "outputs": [],
   "source": [
    "first_time = each_travel_dict.values()[11][0][3]\n",
    "last_time = each_travel_dict.values()[11][1][3]\n",
    "    \n",
    "    "
   ]
  },
  {
   "cell_type": "code",
   "execution_count": 93,
   "metadata": {},
   "outputs": [
    {
     "name": "stdout",
     "output_type": "stream",
     "text": [
      "('2017-11-15 00:17:49', '2017-11-15 00:14:33')\n"
     ]
    }
   ],
   "source": [
    "print (last_time.encode('utf-8'), first_time.encode('utf-8'))"
   ]
  },
  {
   "cell_type": "code",
   "execution_count": 51,
   "metadata": {},
   "outputs": [
    {
     "data": {
      "text/plain": [
       "str"
      ]
     },
     "execution_count": 51,
     "metadata": {},
     "output_type": "execute_result"
    }
   ],
   "source": [
    "type(last_time.encode('utf-8'))"
   ]
  },
  {
   "cell_type": "markdown",
   "metadata": {},
   "source": [
    "%b Month as locale’s abbreviated name(Jun)\n",
    "\n",
    "%d Day of the month as a zero-padded decimal number(1)\n",
    "\n",
    "%Y Year with century as a decimal number(2015)\n",
    "\n",
    "%I Hour (12-hour clock) as a zero-padded decimal number(01)\n",
    "\n",
    "%M Minute as a zero-padded decimal number(33)\n",
    "\n",
    "%p Locale’s equivalent of either AM or PM(PM)"
   ]
  },
  {
   "cell_type": "code",
   "execution_count": 94,
   "metadata": {},
   "outputs": [],
   "source": [
    "from datetime import datetime\n",
    "\n",
    "fmt = '%Y-%m-%d %H:%M:%S'\n",
    "\n",
    "d1 = datetime.strptime(first_time.encode('utf-8'), fmt)\n",
    "d2 = datetime.strptime(last_time.encode('utf-8'), fmt)"
   ]
  },
  {
   "cell_type": "code",
   "execution_count": 95,
   "metadata": {},
   "outputs": [
    {
     "data": {
      "text/plain": [
       "196"
      ]
     },
     "execution_count": 95,
     "metadata": {},
     "output_type": "execute_result"
    }
   ],
   "source": [
    "(d2-d1).seconds"
   ]
  },
  {
   "cell_type": "code",
   "execution_count": 106,
   "metadata": {},
   "outputs": [
    {
     "data": {
      "text/plain": [
       "3.3"
      ]
     },
     "execution_count": 106,
     "metadata": {},
     "output_type": "execute_result"
    }
   ],
   "source": [
    "round(float((d2-d1).seconds/60.0), 1)"
   ]
  },
  {
   "cell_type": "code",
   "execution_count": null,
   "metadata": {},
   "outputs": [],
   "source": []
  },
  {
   "cell_type": "markdown",
   "metadata": {},
   "source": [
    "## process the result and save into csv"
   ]
  },
  {
   "cell_type": "markdown",
   "metadata": {},
   "source": [
    "### define some function"
   ]
  },
  {
   "cell_type": "code",
   "execution_count": null,
   "metadata": {},
   "outputs": [],
   "source": [
    "def turn_dict_result_into_list(dictionary):\n",
    "    "
   ]
  },
  {
   "cell_type": "code",
   "execution_count": 107,
   "metadata": {},
   "outputs": [],
   "source": [
    "def write_to_needed_dataframe(TravelsDictionary):\n",
    "    all_records = []\n",
    "    for dict_num in range(len(TravelsDictionary.keys())):\n",
    "        one_record = []\n",
    "        one_record.append(TravelsDictionary.values()[dict_num][0][0]) # car_id\n",
    "        one_record.append(TravelsDictionary.values()[dict_num][0][4]) # car_type\n",
    "        one_record.append(TravelsDictionary.values()[dict_num][0][1]) # first_gantry\n",
    "        one_record.append(TravelsDictionary.values()[dict_num][0][3]) # first_time\n",
    "        one_record.append(TravelsDictionary.values()[dict_num][1][1]) # last_gantry\n",
    "        one_record.append(TravelsDictionary.values()[dict_num][1][3]) # last_time\n",
    "        \n",
    "        first_time = TravelsDictionary.values()[dict_num][0][3]\n",
    "        last_time = TravelsDictionary.values()[dict_num][1][3]\n",
    "                \n",
    "        fmt = '%Y-%m-%d %H:%M:%S'\n",
    "\n",
    "        d1 = datetime.strptime(first_time.encode('utf-8'), fmt)\n",
    "        d2 = datetime.strptime(last_time.encode('utf-8'), fmt)\n",
    "        \n",
    "        time = round(float((d2-d1).seconds/60.0), 1) # unit = minutes\n",
    "        one_record.append(time) # (d2-d1)time\n",
    "        \n",
    "        all_records.append(one_record)\n",
    "    \n",
    "    return all_records\n"
   ]
  },
  {
   "cell_type": "code",
   "execution_count": 108,
   "metadata": {},
   "outputs": [],
   "source": [
    "test_list = write_to_needed_dataframe(each_travel_dict)"
   ]
  },
  {
   "cell_type": "code",
   "execution_count": 114,
   "metadata": {},
   "outputs": [],
   "source": [
    "#test_list"
   ]
  },
  {
   "cell_type": "code",
   "execution_count": 110,
   "metadata": {},
   "outputs": [],
   "source": [
    "import pandas as pd\n",
    "\n",
    "columns = ['car_id', 'car_type', 'first_gantry', 'first_time', 'last_gantry', 'last_time', 'time']\n",
    "df = pd.DataFrame(test_list, columns = columns)"
   ]
  },
  {
   "cell_type": "code",
   "execution_count": 113,
   "metadata": {},
   "outputs": [],
   "source": [
    "#df"
   ]
  },
  {
   "cell_type": "code",
   "execution_count": 112,
   "metadata": {},
   "outputs": [],
   "source": [
    "#nn_df.to_csv('C://Users//Administrator//Documents//code//data//DTP_D4//altered_g4data2.csv',columns = columns , index=False , header = True,sep=',',encoding='utf-8')\n",
    "df.to_csv('C://Users//Administrator//Documents//code//data//data_TDCS//m01_20171115.csv',columns = columns , index=False , header = True,sep=',',encoding='utf-8')"
   ]
  },
  {
   "cell_type": "code",
   "execution_count": null,
   "metadata": {},
   "outputs": [],
   "source": []
  }
 ],
 "metadata": {
  "kernelspec": {
   "display_name": "Python 2",
   "language": "python",
   "name": "python2"
  },
  "language_info": {
   "codemirror_mode": {
    "name": "ipython",
    "version": 2
   },
   "file_extension": ".py",
   "mimetype": "text/x-python",
   "name": "python",
   "nbconvert_exporter": "python",
   "pygments_lexer": "ipython2",
   "version": "2.7.14"
  }
 },
 "nbformat": 4,
 "nbformat_minor": 2
}
