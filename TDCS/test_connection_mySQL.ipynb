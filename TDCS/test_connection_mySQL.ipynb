{
 "cells": [
  {
   "cell_type": "code",
   "execution_count": 1,
   "metadata": {},
   "outputs": [],
   "source": [
    "import peewee\n",
    "import pymysql\n",
    "\n",
    "db = peewee.MySQLDatabase('db_test',\n",
    "                          user='root',\n",
    "                          host='localhost',\n",
    "                          password='root5438',\n",
    "                          port=3306)"
   ]
  },
  {
   "cell_type": "code",
   "execution_count": 2,
   "metadata": {},
   "outputs": [],
   "source": [
    "import pymysql.cursors\n",
    "import codecs\n",
    "\n",
    "try :\n",
    "    with db.cursor() as cursor:\n",
    "            # Read a single record\n",
    "            sql =   \"\"\"\n",
    "                    select count(*)\n",
    "                    FROM db_tdcs.m01_all_total ;\n",
    "                    \n",
    "                    \n",
    "                    \"\"\"\n",
    "            cursor.execute(sql)\n",
    "            result = cursor.fetchall()\n",
    "            #print(result_statistic)\n",
    "finally:\n",
    "    db.close()"
   ]
  },
  {
   "cell_type": "code",
   "execution_count": 3,
   "metadata": {
    "scrolled": true
   },
   "outputs": [
    {
     "data": {
      "text/plain": [
       "((15313859,),)"
      ]
     },
     "execution_count": 3,
     "metadata": {},
     "output_type": "execute_result"
    }
   ],
   "source": [
    "result"
   ]
  },
  {
   "cell_type": "code",
   "execution_count": null,
   "metadata": {},
   "outputs": [],
   "source": [
    "for car in list(result):\n",
    "    cars.append(list(car)[0])"
   ]
  },
  {
   "cell_type": "code",
   "execution_count": null,
   "metadata": {},
   "outputs": [],
   "source": [
    "import pymysql.cursors\n",
    "import codecs\n",
    "\n",
    "cars_dict = {}\n",
    "\n",
    "for car_num in range(len(cars)) :\n",
    "    \n",
    "\n",
    "    try :\n",
    "        with db.cursor() as cursor:\n",
    "                # Read a single record\n",
    "                sql =   \"\"\"\n",
    "                        select *\n",
    "                        FROM db_tdcs.m01_all\n",
    "                        where UniqueSequence = \"{0}\"\n",
    "                        order by Date_Time;\n",
    "\n",
    "                        \"\"\".format(cars[car_num])\n",
    "                cursor.execute(sql)\n",
    "                cars_dict[\"result_{0}\".format(car_num)] = cursor.fetchall()\n",
    "                #print(result_statistic)\n",
    "    finally:\n",
    "        db.close()"
   ]
  }
 ],
 "metadata": {
  "kernelspec": {
   "display_name": "Python 2",
   "language": "python",
   "name": "python2"
  },
  "language_info": {
   "codemirror_mode": {
    "name": "ipython",
    "version": 2
   },
   "file_extension": ".py",
   "mimetype": "text/x-python",
   "name": "python",
   "nbconvert_exporter": "python",
   "pygments_lexer": "ipython2",
   "version": "2.7.14"
  }
 },
 "nbformat": 4,
 "nbformat_minor": 2
}
