{
 "cells": [
  {
   "cell_type": "code",
   "execution_count": 1,
   "metadata": {
    "collapsed": true
   },
   "outputs": [],
   "source": [
    "import pyodbc\n",
    "import sqlalchemy\n",
    "from sqlalchemy import create_engine"
   ]
  },
  {
   "cell_type": "code",
   "execution_count": 2,
   "metadata": {
    "collapsed": true
   },
   "outputs": [],
   "source": [
    "db = pyodbc.connect('DRIVER={SQL Server};SERVER=AthenaLee-PC;PORT=1433;DATABASE=athena_practice;UID=;PWD=')"
   ]
  },
  {
   "cell_type": "code",
   "execution_count": 3,
   "metadata": {
    "collapsed": true
   },
   "outputs": [],
   "source": [
    "cursor = db.cursor()"
   ]
  },
  {
   "cell_type": "code",
   "execution_count": 4,
   "metadata": {
    "collapsed": true
   },
   "outputs": [],
   "source": [
    "# latest\n",
    "# \n",
    "engine = create_engine('mssql://ATHENALEE-PC/athena_practice?driver=SQL+Server?trusted_connection=yes')"
   ]
  },
  {
   "cell_type": "code",
   "execution_count": 5,
   "metadata": {
    "collapsed": true
   },
   "outputs": [],
   "source": [
    "import pandas as pd"
   ]
  },
  {
   "cell_type": "code",
   "execution_count": 14,
   "metadata": {
    "collapsed": true
   },
   "outputs": [],
   "source": [
    "sample_df_1 = pd.read_csv('C://Users//Administrator//Documents//code//data//audit_data//sample//SAMPLE_20180113.csv', header=None)"
   ]
  },
  {
   "cell_type": "code",
   "execution_count": 8,
   "metadata": {
    "collapsed": true
   },
   "outputs": [],
   "source": [
    "population_df_1 = pd.read_csv('C://Users//Administrator//Documents//code//data//audit_data//population//VEH_20180113.csv')"
   ]
  },
  {
   "cell_type": "code",
   "execution_count": 25,
   "metadata": {
    "collapsed": true
   },
   "outputs": [],
   "source": [
    "population_df_1.columns = ['situation', 'car_id', 'car']"
   ]
  },
  {
   "cell_type": "code",
   "execution_count": 26,
   "metadata": {},
   "outputs": [
    {
     "data": {
      "text/plain": [
       "Index(['situation', 'car_id', 'car'], dtype='object')"
      ]
     },
     "execution_count": 26,
     "metadata": {},
     "output_type": "execute_result"
    }
   ],
   "source": [
    "population_df_1.columns"
   ]
  },
  {
   "cell_type": "code",
   "execution_count": 16,
   "metadata": {},
   "outputs": [
    {
     "data": {
      "text/plain": [
       "(200000, 1)"
      ]
     },
     "execution_count": 16,
     "metadata": {},
     "output_type": "execute_result"
    }
   ],
   "source": [
    "sample_df_1.shape"
   ]
  },
  {
   "cell_type": "code",
   "execution_count": 21,
   "metadata": {},
   "outputs": [
    {
     "data": {
      "text/plain": [
       "Index(['car'], dtype='object')"
      ]
     },
     "execution_count": 21,
     "metadata": {},
     "output_type": "execute_result"
    }
   ],
   "source": [
    "sample_df_1.columns"
   ]
  },
  {
   "cell_type": "code",
   "execution_count": 19,
   "metadata": {
    "collapsed": true
   },
   "outputs": [],
   "source": [
    "sample_df_1.columns = [\"car\"]"
   ]
  },
  {
   "cell_type": "code",
   "execution_count": null,
   "metadata": {
    "collapsed": true
   },
   "outputs": [],
   "source": [
    "def matching_car_id(x, pop_df):\n",
    "    for idx, row in pop_df.iterrows():\n",
    "        #print(row.car)\n",
    "        if x == row.car :\n",
    "            print(x, row.car_id)\n",
    "            return car_id\n",
    "        else :\n",
    "            #print('not match !')\n",
    "            continue"
   ]
  },
  {
   "cell_type": "code",
   "execution_count": null,
   "metadata": {
    "collapsed": true
   },
   "outputs": [],
   "source": [
    "for x in list(sample_df_1.car) :\n",
    "    \n",
    "    for idx, row in population_df_1.iterrows():\n",
    "        #print(row.car)\n",
    "        if x == row.car :\n",
    "            print(x, row.car_id)\n",
    "        else :\n",
    "            #print('not match !')\n",
    "            continue"
   ]
  },
  {
   "cell_type": "code",
   "execution_count": null,
   "metadata": {
    "collapsed": true
   },
   "outputs": [],
   "source": [
    "df.to_sql(\"{0}\".format(sa), engine, if_exists='replace')"
   ]
  },
  {
   "cell_type": "code",
   "execution_count": 6,
   "metadata": {
    "collapsed": true
   },
   "outputs": [],
   "source": [
    "import glob"
   ]
  },
  {
   "cell_type": "code",
   "execution_count": 7,
   "metadata": {
    "collapsed": true
   },
   "outputs": [],
   "source": [
    "sample_files = glob.glob('C://Users//Administrator//Documents//code//data//audit_data//sample//SAMPLE_*.csv')"
   ]
  },
  {
   "cell_type": "code",
   "execution_count": 8,
   "metadata": {
    "collapsed": true
   },
   "outputs": [],
   "source": [
    "population_files = glob.glob('C://Users//Administrator//Documents//code//data//audit_data//population//VEH_*.csv')"
   ]
  },
  {
   "cell_type": "code",
   "execution_count": 11,
   "metadata": {},
   "outputs": [
    {
     "name": "stdout",
     "output_type": "stream",
     "text": [
      "20180113\n",
      "20180203\n",
      "20180323\n",
      "20180427\n",
      "20180506\n",
      "20180622\n"
     ]
    }
   ],
   "source": [
    "file_names = []\n",
    "for x in population_files :\n",
    "    file_name = x.split('_')[2].split('.')[0]\n",
    "    file_names.append(file_name)\n",
    "    print(file_name)"
   ]
  },
  {
   "cell_type": "code",
   "execution_count": 12,
   "metadata": {},
   "outputs": [
    {
     "name": "stdout",
     "output_type": "stream",
     "text": [
      "done 20180113 file loading...\n",
      "done 20180113 population insert !\n",
      "done 20180113 sample insert !\n",
      "done 20180203 file loading...\n",
      "done 20180203 population insert !\n",
      "done 20180203 sample insert !\n",
      "done 20180323 file loading...\n",
      "done 20180323 population insert !\n",
      "done 20180323 sample insert !\n",
      "done 20180427 file loading...\n",
      "done 20180427 population insert !\n",
      "done 20180427 sample insert !\n",
      "done 20180506 file loading...\n",
      "done 20180506 population insert !\n",
      "done 20180506 sample insert !\n",
      "done 20180622 file loading...\n",
      "done 20180622 population insert !\n",
      "done 20180622 sample insert !\n"
     ]
    }
   ],
   "source": [
    "for idx, file in enumerate(file_names) :\n",
    "    \n",
    "    sample_df = pd.read_csv('C://Users//Administrator//Documents//code//data//audit_data//sample//SAMPLE_{0}.csv'.format(file), header=None)\n",
    "    population_df = pd.read_csv('C://Users//Administrator//Documents//code//data//audit_data//population//VEH_{0}.csv'.format(file))\n",
    "    population_df.columns = ['situation', 'car_id', 'car']\n",
    "    sample_df.columns = [\"car\"]\n",
    "    print('done {0} file loading...'.format(file))\n",
    "    population_df.to_sql(\"VEH_{0}\".format(file), engine, if_exists='replace')\n",
    "    print('done {0} population insert !'.format(file))\n",
    "    sample_df.to_sql(\"SAMPLE_{0}\".format(file), engine, if_exists='replace')\n",
    "    print('done {0} sample insert !'.format(file))"
   ]
  },
  {
   "cell_type": "code",
   "execution_count": 23,
   "metadata": {},
   "outputs": [
    {
     "data": {
      "text/plain": [
       "Index(['situation', 'car_id', 'car'], dtype='object')"
      ]
     },
     "execution_count": 23,
     "metadata": {},
     "output_type": "execute_result"
    }
   ],
   "source": [
    "population_df.columns"
   ]
  },
  {
   "cell_type": "code",
   "execution_count": 32,
   "metadata": {
    "collapsed": true
   },
   "outputs": [],
   "source": [
    "df.columns = ['car_id', 'car', 'cnt']"
   ]
  },
  {
   "cell_type": "code",
   "execution_count": null,
   "metadata": {
    "collapsed": true
   },
   "outputs": [],
   "source": []
  }
 ],
 "metadata": {
  "kernelspec": {
   "display_name": "Python 3",
   "language": "python",
   "name": "python3"
  },
  "language_info": {
   "codemirror_mode": {
    "name": "ipython",
    "version": 3
   },
   "file_extension": ".py",
   "mimetype": "text/x-python",
   "name": "python",
   "nbconvert_exporter": "python",
   "pygments_lexer": "ipython3",
   "version": "3.6.3"
  }
 },
 "nbformat": 4,
 "nbformat_minor": 2
}
