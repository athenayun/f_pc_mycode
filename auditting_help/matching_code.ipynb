{
 "cells": [
  {
   "cell_type": "markdown",
   "metadata": {},
   "source": [
    "#### traditional way in python, but it took times..."
   ]
  },
  {
   "cell_type": "code",
   "execution_count": 2,
   "metadata": {
    "collapsed": true
   },
   "outputs": [],
   "source": [
    "import pandas as pd\n",
    "import glob"
   ]
  },
  {
   "cell_type": "code",
   "execution_count": 3,
   "metadata": {
    "collapsed": true
   },
   "outputs": [],
   "source": [
    "sample_files = glob.glob('C://Users//Administrator//Documents//code//data//audit_data//sample//SAMPLE_*.csv')\n",
    "population_files = glob.glob('C://Users//Administrator//Documents//code//data//audit_data//population//VEH_*.csv')"
   ]
  },
  {
   "cell_type": "markdown",
   "metadata": {},
   "source": [
    "#### make a list of file names"
   ]
  },
  {
   "cell_type": "code",
   "execution_count": 14,
   "metadata": {},
   "outputs": [
    {
     "name": "stdout",
     "output_type": "stream",
     "text": [
      "20180113\n",
      "20180203\n",
      "20180323\n",
      "20180427\n",
      "20180506\n",
      "20180622\n"
     ]
    }
   ],
   "source": [
    "file_names = []\n",
    "for x in population_files :\n",
    "    file_name = x.split('_')[2].split('.')[0]\n",
    "    file_names.append(file_name)\n",
    "    print(file_name)"
   ]
  },
  {
   "cell_type": "markdown",
   "metadata": {},
   "source": [
    "#### define a function, for applying to each row in the dataframe (this method will take longer time)"
   ]
  },
  {
   "cell_type": "code",
   "execution_count": 8,
   "metadata": {
    "collapsed": true
   },
   "outputs": [],
   "source": [
    "append_list = []\n",
    "def matching_car_id(x, pop_df):\n",
    "    id_list = []\n",
    "    \n",
    "    for idx, row in pop_df.iterrows():\n",
    "        #print(row.car)\n",
    "        if x == row.car :\n",
    "            if row.car_id not in id_list :\n",
    "                id_list.append(row.car_id)\n",
    "                return row.car_id\n",
    "            else :\n",
    "                new_row = [row.car, row.car_id]\n",
    "                append_list.append(new_row)\n",
    "        else :\n",
    "            #print('not match !')\n",
    "            continue"
   ]
  },
  {
   "cell_type": "markdown",
   "metadata": {},
   "source": [
    "#### this will iterrate over the table, which takes longer time"
   ]
  },
  {
   "cell_type": "code",
   "execution_count": null,
   "metadata": {
    "collapsed": true
   },
   "outputs": [],
   "source": [
    "for idx, file in enumerate(sample_files):\n",
    "    # load file\n",
    "    sample_df = pd.read_csv(file, header=None)\n",
    "    population_df = pd.read_csv(population_files[idx])\n",
    "    # setting columns in english (it's just my preference)\n",
    "    population_df.columns = ['situation', 'car_id', 'car']\n",
    "    sample_df.columns = [\"car\"]\n",
    "    append_list = []\n",
    "    sample_df['car_id'] = sample_df['car'].apply(lambda x: matching_car_id(x, population_df) )\n",
    "    sample_df = sample_df.append(pd.DataFrame(append_list), ignore_index=True)\n",
    "    sample_df.to_csv('C://Users//Administrator//Documents//code//data//audit_data//sample2//SAMPLE_{0}'.format(file_names[idx]), encoding='big5', header=None, index=None)\n",
    "    print(file_names[idx], \"done\")\n",
    "    #print(sample_df)\n",
    "    print('=======================================================')\n",
    "    print(append_list)"
   ]
  },
  {
   "cell_type": "markdown",
   "metadata": {},
   "source": [
    "#### using pandas sql method, faster , USE THIS ONE"
   ]
  },
  {
   "cell_type": "code",
   "execution_count": 15,
   "metadata": {
    "collapsed": true,
    "scrolled": true
   },
   "outputs": [],
   "source": [
    "for idx, file in enumerate(sample_files):\n",
    "    # load file\n",
    "    sample_df = pd.read_csv(file, header=None)\n",
    "    population_df = pd.read_csv(population_files[idx])\n",
    "    # setting columns in english (it's just my preference)\n",
    "    population_df.columns = ['situation', 'car_id', 'car']\n",
    "    sample_df.columns = [\"car\"]\n",
    "    \n",
    "    df = pd.DataFrame(population_df[population_df.car.isin(list(sample_df.car))].groupby(['car', 'car_id']).size()).reset_index().drop(0, axis=1)\n",
    "    df.to_csv('C://Users//Administrator//Documents//code//data//audit_data//sample2//SAMPLE_{0}.csv'.format(file_names[idx]), encoding='big5', header=None, index=None)"
   ]
  },
  {
   "cell_type": "code",
   "execution_count": null,
   "metadata": {
    "collapsed": true
   },
   "outputs": [],
   "source": []
  }
 ],
 "metadata": {
  "kernelspec": {
   "display_name": "Python 3",
   "language": "python",
   "name": "python3"
  },
  "language_info": {
   "codemirror_mode": {
    "name": "ipython",
    "version": 3
   },
   "file_extension": ".py",
   "mimetype": "text/x-python",
   "name": "python",
   "nbconvert_exporter": "python",
   "pygments_lexer": "ipython3",
   "version": "3.6.3"
  }
 },
 "nbformat": 4,
 "nbformat_minor": 2
}
