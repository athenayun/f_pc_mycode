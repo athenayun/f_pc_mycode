{
 "cells": [
  {
   "cell_type": "code",
   "execution_count": 1,
   "metadata": {},
   "outputs": [
    {
     "name": "stdout",
     "output_type": "stream",
     "text": [
      "Collecting splinter\n",
      "  Downloading https://files.pythonhosted.org/packages/ed/de/429f0f97703289cc5285bd0616c787b6a84fbf172bc4a3e73b99a5c8b352/splinter-0.8.0.tar.gz\n",
      "Collecting selenium>=3.8.1 (from splinter)\n",
      "  Downloading https://files.pythonhosted.org/packages/57/bc/17164fd471ccdf0df3a992c710c0c3c47743462ff41ab72a02c6ede96e90/selenium-3.12.0-py2.py3-none-any.whl (946kB)\n",
      "Building wheels for collected packages: splinter\n",
      "  Running setup.py bdist_wheel for splinter: started\n",
      "  Running setup.py bdist_wheel for splinter: finished with status 'done'\n",
      "  Stored in directory: C:\\Users\\Administrator\\AppData\\Local\\pip\\Cache\\wheels\\3a\\85\\ba\\909cadf37974d51fb83ce938ffe4651c49120afe55adad6dac\n",
      "Successfully built splinter\n",
      "Installing collected packages: selenium, splinter\n",
      "Successfully installed selenium-3.12.0 splinter-0.8.0\n"
     ]
    },
    {
     "name": "stderr",
     "output_type": "stream",
     "text": [
      "You are using pip version 9.0.3, however version 10.0.1 is available.\n",
      "You should consider upgrading via the 'python -m pip install --upgrade pip' command.\n"
     ]
    }
   ],
   "source": [
    "!pip install splinter"
   ]
  },
  {
   "cell_type": "code",
   "execution_count": 27,
   "metadata": {},
   "outputs": [
    {
     "name": "stdout",
     "output_type": "stream",
     "text": [
      "Requirement already satisfied: urllib3 in c:\\programdata\\anaconda3\\envs\\athena_fetcpc\\lib\\site-packages\n"
     ]
    },
    {
     "name": "stderr",
     "output_type": "stream",
     "text": [
      "You are using pip version 9.0.3, however version 10.0.1 is available.\n",
      "You should consider upgrading via the 'python -m pip install --upgrade pip' command.\n"
     ]
    }
   ],
   "source": [
    "!pip install urllib3"
   ]
  },
  {
   "cell_type": "code",
   "execution_count": 1,
   "metadata": {
    "collapsed": true,
    "scrolled": true
   },
   "outputs": [],
   "source": [
    "import requests as r\n",
    "from bs4 import BeautifulSoup\n",
    "#import urllib.parse\n",
    "import pandas as pd\n",
    "\n",
    "try:\n",
    "    from urllib.parse import urlparse\n",
    "except ImportError:\n",
    "     from urlparse import urlparse"
   ]
  },
  {
   "cell_type": "code",
   "execution_count": 2,
   "metadata": {
    "collapsed": true
   },
   "outputs": [],
   "source": [
    "import splinter"
   ]
  },
  {
   "cell_type": "markdown",
   "metadata": {},
   "source": [
    "##### driver = webdriver.Chrome('/path/to/chromedriver') "
   ]
  },
  {
   "cell_type": "code",
   "execution_count": 3,
   "metadata": {
    "collapsed": true,
    "scrolled": true
   },
   "outputs": [],
   "source": [
    "from selenium import webdriver\n",
    "\n",
    "driver = webdriver.Chrome('C://Program Files (x86)//Google//Chrome//Application//chromedriver.exe')"
   ]
  },
  {
   "cell_type": "markdown",
   "metadata": {},
   "source": [
    "##### from splinter import Browser\n",
    "##### executable_path = {'executable_path':'</path/to/chrome>'}\n",
    "\n",
    "##### browser = Browser('chrome', **executable_path)\n",
    "\n",
    "http://splinter.readthedocs.io/en/latest/drivers/chrome.html"
   ]
  },
  {
   "cell_type": "code",
   "execution_count": 58,
   "metadata": {
    "collapsed": true,
    "scrolled": true
   },
   "outputs": [],
   "source": [
    "from splinter import Browser\n",
    "executable_path = {'executable_path':'C://Program Files (x86)//Google//Chrome//Application//chromedriver.exe'}\n",
    "\n",
    "browser = Browser('chrome', **executable_path)\n",
    "#Setting up Chrome WebDriver"
   ]
  },
  {
   "cell_type": "code",
   "execution_count": 100,
   "metadata": {
    "collapsed": true,
    "scrolled": true
   },
   "outputs": [],
   "source": [
    "executable_path = {'executable_path':'C://Program Files (x86)//Google//Chrome//Application//chromedriver.exe'}\n",
    "browser = Browser('chrome', **executable_path)\n",
    "browser.visit('https://www.freeway.gov.tw/SouthService/Gukeng/facility.aspx')\n",
    "#browser.find_link_by_text('>').click()"
   ]
  },
  {
   "cell_type": "code",
   "execution_count": 41,
   "metadata": {
    "collapsed": true
   },
   "outputs": [],
   "source": [
    "page_url = 'https://www.freeway.gov.tw/'\n",
    "area = ['NorthService', 'CentralService', 'SouthService']\n",
    "Nplaces = ['Zhongli', 'Hukou', 'Guanxi', 'Shiding']\n",
    "Cplaces = ['Taian', 'Xiluo', 'Xihu', 'Qingshui', 'Nantou']\n",
    "Splaces = ['Xinying', 'Rende', 'Gukeng', 'Dongshan', 'Guanmiao']"
   ]
  },
  {
   "cell_type": "code",
   "execution_count": 43,
   "metadata": {
    "collapsed": true
   },
   "outputs": [],
   "source": [
    "def browser_get_element(url, soup):\n",
    "    fa_list = []\n",
    "    executable_path = {'executable_path':'C://Program Files (x86)//Google//Chrome//Application//chromedriver.exe'}\n",
    "    with splinter.Browser('chrome', **executable_path) as b:\n",
    "        b.visit(url)\n",
    "        tmp_list = b.find_by_css(\"td > a[href*='facilityDetail']\")\n",
    "        for one in tmp_list:\n",
    "            fa_name = one.value\n",
    "            fa_list.append(fa_name)\n",
    "        # checking if the element is visible, sorry but I had to skip this procedure due to the elements seems visible already..\n",
    "        # do the scrolling to make the element visible for human eyes haha, this is necessary for this situation\n",
    "        \n",
    "        if len(soup.select('.scott > a')) >= 2 :\n",
    "            if b.is_element_present_by_text('>', wait_time=3):\n",
    "                try:\n",
    "                    b.execute_script(\"window.scrollTo(0, document.body.scrollHeight);\")\n",
    "                except :\n",
    "                    print(' change pages done')\n",
    "                # turning into next page : browser.find_link_by_text('>').click()\n",
    "                b.find_link_by_text('>').click()\n",
    "                if b.is_element_present_by_text('<', wait_time=3):\n",
    "                    tmp_list_p2 = b.find_by_css(\"td > a[href*='facilityDetail']\")\n",
    "                    for one in tmp_list_p2:\n",
    "                        fa_name = one.value\n",
    "                        fa_list.append(fa_name)\n",
    "            if len(soup.select('.scott > a')) > 2 :\n",
    "                if b.is_element_present_by_text('>'):\n",
    "                    try:\n",
    "                        b.execute_script(\"window.scrollTo(0, document.body.scrollHeight);\")\n",
    "                    except :\n",
    "                        print(' change pages done')\n",
    "\n",
    "                    b.find_link_by_text('>').click()\n",
    "                    if b.is_element_present_by_text('<', wait_time=3):\n",
    "                        tmp_list_p3 = b.find_by_css(\"td > a[href*='facilityDetail']\")\n",
    "                        for one in tmp_list_p3:\n",
    "                            fa_name = one.value\n",
    "                            fa_list.append(fa_name)\n",
    "                   \n",
    "    \n",
    "    return fa_list\n",
    "    "
   ]
  },
  {
   "cell_type": "markdown",
   "metadata": {},
   "source": [
    "##### This last example will create a new browser window and close it when the cursor reach the code outside the with statement, automatically."
   ]
  },
  {
   "cell_type": "code",
   "execution_count": 7,
   "metadata": {
    "collapsed": true,
    "scrolled": true
   },
   "outputs": [],
   "source": [
    "executable_path = {'executable_path':'C://Program Files (x86)//Google//Chrome//Application//chromedriver.exe'}\n",
    "with splinter.Browser('chrome', **executable_path) as b:\n",
    "    b.visit('https://www.freeway.gov.tw/NorthService/Zhongli/facility.aspx')\n",
    "    #b.find_link_by_text('>').click()"
   ]
  },
  {
   "cell_type": "code",
   "execution_count": 44,
   "metadata": {
    "scrolled": true
   },
   "outputs": [
    {
     "name": "stdout",
     "output_type": "stream",
     "text": [
      " change pages done\n",
      "('======', 'NorthService', 'Zhongli', '======')\n",
      "[u'\\u9060\\u901a\\u96fb\\u6536ETC\\u9580\\u5e02', u'\\u52a0\\u6cb9\\u7ad9', u'\\u505c\\u8eca\\u5834', u'\\u5317\\u5927\\u5ef3\\u7f8e\\u98df\\u8857', u'\\u8b66\\u99a8\\u670d\\u52d9\\u7ad9', u'\\u5357\\u5927\\u5ef3', u'8588\\u5496\\u5561\\u5427\\u53ca\\u5ba2\\u5e2d\\u5340', u'\\u7d71\\u806f\\u5ba2\\u904b\\u8f49\\u904b\\u7ad9', u'\\u516c\\u5171\\u6307\\u793a\\u724c\\u6a19\\u793a', u'\\u5168\\u5340\\u7121\\u7dda\\u4e0a\\u7db2\\u670d\\u52d9', u'\\u7121\\u969c\\u7919\\u8a2d\\u65bd', u'\\u8ca9\\u8ce3\\u90e8', u'\\u670d\\u52d9\\u53f0', u'\\u76e5\\u6d17\\u5ba4', u'\\u6236\\u5916\\u5ead\\u5712\\u9910\\u574a']\n",
      " change pages done\n",
      "('======', 'NorthService', 'Hukou', '======')\n",
      "[u'\\u99d5\\u99db\\u4eba\\u4f11\\u606f\\u5ba4', u'\\u5973\\u5ec1\\u68b3\\u599d\\u5340', u'\\u5bf5\\u7269\\u9ec3\\u91d1\\u4fbf', u'\\u505c\\u8eca\\u5834', u'\\u52a0\\u6cb9\\u7ad9', u'24\\u5c0f\\u6642\\u4fbf\\u5229\\u8d85\\u5546', u'\\u76e5\\u6d17\\u5ba4', u'ATM\\u63d0\\u6b3e\\u6a5f', u'\\u670d\\u52d9\\u53f0', u'\\u54fa(\\u96c6)\\u4e73\\u5ba4', u'\\u904a\\u6a02\\u8a2d\\u65bd', u'\\u7121\\u969c\\u7919\\u7a7a\\u9593', u'\\u9060\\u901a\\u96fb\\u6536ETC\\u9580\\u5e02', u'\\u570b\\u9053\\u8cc7\\u8a0a\\u88dc\\u7d66\\u7ad9', u'\\u76e5\\u6d17\\u5ba4', u'\\u591c\\u9593\\u5b89\\u5fc3\\u5c08\\u7528\\u505c\\u8eca\\u4f4d', u'\\u6f02\\u66f8\\u7ad9', u'\\u516c\\u5171\\u6307\\u793a\\u724c\\u6a19\\u793a']\n",
      " change pages done\n",
      "('======', 'NorthService', 'Guanxi', '======')\n",
      "[u'\\u505c\\u8eca\\u5834', u'\\u8eab\\u5fc3\\u969c\\u7919\\u670d\\u52d9', u'\\u670d\\u52d9\\u53f0', u'\\u54fa\\u96c6\\u4e73\\u5ba4', u'\\u5973\\u5ec1\\u68b3\\u599d\\u5340', u'\\u570b\\u9053\\u8cc7\\u8a0a\\u88dc\\u7d66\\u7ad9', u'\\u4e0a\\u7db2\\u5340', u'\\u6236\\u5916\\u7528\\u9910\\u5340', u'\\u81ea\\u52d5\\u63d0\\u6b3e\\u6a5f', u'\\u8ca9\\u8ce3\\u90e8', u'\\u516c\\u5ec1', u'\\u52a0\\u6cb9\\u7ad9']\n",
      " change pages done\n",
      "('======', 'NorthService', 'Shiding', '======')\n",
      "[u'\\u8cc7\\u8a0a\\u88dc\\u7d66\\u7ad9', u'\\u516c\\u5171\\u6307\\u793a\\u724c\\u6a19\\u793a', u'\\u505c\\u8eca\\u5834', u'\\u516c\\u5171\\u96fb\\u8a71', u'\\u8cc7\\u8a0a\\u647a\\u9801\\u67b6', u'AED', u'\\u7121\\u969c\\u7919\\u8a2d\\u65bd', u'\\u516c\\u5ec1', u'\\u81ea\\u52d5\\u63d0\\u6b3e\\u6a5f', u'24\\u5c0f\\u6642\\u4fbf\\u5229\\u5546\\u5e97', u'\\u670d\\u52d9\\u53f0', u'\\u54fa\\u96c6\\u4e73\\u5ba4']\n",
      "('======', 'CentralService', 'Taian', '======')\n",
      "[u'\\u670d\\u52d9\\u53f0', u'\\u52a0\\u6cb9\\u7ad9', u'\\u516c\\u5ec1', u'\\u5357\\u7ad9\\u99d5\\u99db\\u4eba\\u4f11\\u606f\\u5ba4', u'\\u63d0\\u6b3e\\u6a5f', u'\\u6f02\\u66f8\\u7ad9', u'\\u54fa\\u96c6\\u4e73\\u5ba4', u'\\u8cc7\\u8a0a\\u88dc\\u7d66\\u7ad9']\n",
      " change pages done\n",
      "('======', 'CentralService', 'Xiluo', '======')\n",
      "[u'\\u570b\\u9053\\u8cc7\\u8a0a\\u88dc\\u7d66\\u7ad9', u'\\u670d\\u52d9\\u53f0(\\u501f\\u554f\\u7ad9)', u'\\u54fa\\u96c6\\u4e73\\u5ba4', u'\\u6f02\\u66f8\\u7ad9', u'\\u68b3\\u599d\\u5340', u'\\u516c\\u5ec1', u'\\u591c\\u9593\\u5b89\\u5fc3\\u505c\\u8eca\\u4f4d', u'\\u7121\\u969c\\u7919\\u8a2d\\u65bd\\u670d\\u52d9', u'\\u9060\\u901a\\u96fb\\u6536ETC\\u9580\\u5e02', u'\\u99d5\\u99db\\u4eba\\u4f11\\u606f\\u5ba4', u'\\u52a0\\u6cb9\\u7ad9']\n",
      " change pages done\n",
      "('======', 'CentralService', 'Xihu', '======')\n",
      "[u'\\u505c\\u8eca\\u5834', u'\\u570b\\u9053\\u8cc7\\u8a0a\\u88dc\\u7d66\\u7ad9', u'\\u516c\\u5ec1', u'\\u54fa\\u96c6\\u4e73\\u5ba4', u'\\u670d\\u52d9\\u53f0', u'ATM\\u63d0\\u6b3e\\u6a5f', u'\\u7121\\u969c\\u7919\\u8a2d\\u65bd', u'\\u9060\\u901a\\u96fb\\u6536ETC\\u9580\\u5e02', u'\\u8ca9\\u8ce3\\u90e8', u'\\u5973\\u5ec1\\u68b3\\u599d\\u5340', u'\\u6f02\\u66f8\\u7ad9', u'\\u4e0a\\u7db2\\u5340', u'\\u7c21\\u6613\\u99d5\\u99db\\u4eba\\u4f11\\u606f\\u5ba4']\n",
      " change pages done\n",
      "('======', 'CentralService', 'Qingshui', '======')\n",
      "[u'\\u591c\\u9593\\u5b89\\u5fc3\\u505c\\u8eca\\u4f4d', u'\\u8212\\u7720\\u9ad4\\u9a57\\u9928', u'\\u66f8\\u7c4d\\u5206\\u4eab\\u5340', u'\\u670d\\u52d9\\u53f0', u'\\u52a0\\u6cb9\\u7ad9', u'\\u54fa\\u96c6\\u4e73\\u5ba4', u'\\u516c\\u5ec1', u'\\u8212\\u58d3\\u6309\\u6469\\u7ad9', u'ATM\\u63d0\\u6b3e\\u6a5f', u'\\u5bf5\\u7269\\u5171\\u9910\\u5340', u'\\u5152\\u7ae5\\u904a\\u6232\\u5340', u'\\u570b\\u9053\\u8cc7\\u8a0a\\u88dc\\u7d66\\u7ad9', u'\\u7a46\\u65af\\u6797\\u7948\\u79b1\\u5ba4']\n",
      " change pages done\n",
      "('======', 'CentralService', 'Nantou', '======')\n",
      "[u'\\u670d\\u52d9\\u53f0', u'\\u516c\\u5ec1', u'\\u505c\\u8eca\\u5834', u'\\u99d5\\u99db\\u4eba\\u4f11\\u606f\\u5ba4', u'\\u9910\\u98f2', u'\\u7121\\u969c\\u7919\\u8a2d\\u65bd', u'\\u7db2\\u969b\\u7db2\\u8def', u'\\u54fa\\u96c6\\u4e73\\u5ba4', u'\\u63d0\\u6b3e\\u6a5f', u'ETC\\u9060\\u901a\\u96fb\\u6536\\u9580\\u5e02', u'\\u6f02\\u66f8\\u7ad9', u'\\u52a0\\u6cb9\\u7ad9']\n",
      " change pages done\n",
      " change pages done\n",
      "('======', 'SouthService', 'Xinying', '======')\n",
      "[u'\\u52a0\\u6cb9\\u7ad9', u'\\u505c\\u8eca\\u5834', u'\\u670d\\u52d9\\u53f0', u'\\u570b\\u9053\\u8cc7\\u8a0a\\u88dc\\u7d66\\u7ad9', u'\\u6d41\\u7dda\\u578b\\u516c\\u5ec1', u'\\u5973\\u5ec1\\u66f4\\u8863\\u9593', u'\\u6a5f\\u8eca\\u505c\\u8eca\\u68da', u'\\u9910\\u98f2', u'\\u6236\\u5916\\u7528\\u9910\\u5340', u'\\u884c\\u52d5\\u4e0d\\u4fbf\\u670d\\u52d9', u'\\u5168\\u5bb6\\u5145\\u96fb\\u7ad9', u'\\u884c\\u52d5\\u7db2\\u8def\\u670d\\u52d9', u'\\u54fa\\u96c6\\u4e73\\u5ba4', u'\\u63d0\\u6b3e\\u6a5f', u'\\u9060\\u901a\\u96fb\\u6536ETC\\u9580\\u5e02', u'\\u65c5\\u5ba2\\u89c0\\u5149\\u6307\\u5f15\\u8a2d\\u65bd', u'\\u99d5\\u99db\\u4eba\\u4f11\\u606f\\u5ba4', u'\\u6f02\\u66f8\\u7ad9', u'\\u98a8\\u96e8\\u8d70\\u5eca', u'\\u5c0f\\u706b\\u8eca', u'\\u8cab\\u7a7f\\u5357\\u5317\\u4e4b\\u5929\\u6a4b', u'\\u5bf5\\u7269\\u6e05\\u6f54\\u888b', u'\\u65b0\\u71df\\u670d\\u52d9\\u5340\\u5674\\u6c34\\u6c60']\n",
      " change pages done\n",
      "('======', 'SouthService', 'Rende', '======')\n",
      "[u'\\u884c\\u52d5\\u8fa6\\u516c\\u5ba4', u'\\u63d0\\u6b3e\\u6a5f', u'AED\\u81ea\\u52d5\\u9ad4\\u5916\\u5fc3\\u81df\\u9664\\u986b\\u5668', u'\\u5bf5\\u7269\\u6e05\\u6f54\\u888b', u'\\u570b\\u9053\\u8cc7\\u8a0a\\u88dc\\u7d66\\u7ad9', u'\\u9060\\u901a\\u96fb\\u6536ETC\\u9580\\u5e02', u'\\u52a0\\u6cb9\\u7ad9', u'\\u884c\\u65c5\\u6307\\u5f15', u'\\u6f02\\u66f8\\u7ad9', u'\\u66f4\\u8863\\u5ba4', u'\\u7121\\u969c\\u7919\\u5ec1\\u6240', u'\\u89aa\\u5b50\\u5ec1\\u6240', u'\\u516c\\u5ec1', u'\\u54fa\\u96c6\\u4e73\\u5ba4', u'\\u591c\\u9593\\u5a66\\u5973\\u5c08\\u7528\\u8eca\\u4f4d', u'\\u7121\\u969c\\u7919\\u5c08\\u7528\\u505c\\u8eca\\u4f4d', u'\\u505c\\u8eca\\u5834', u'\\u65c5\\u5ba2\\u4f11\\u61a9\\u5927\\u5ef3', u'\\u670d\\u52d9\\u53f0']\n",
      " change pages done\n",
      "('======', 'SouthService', 'Gukeng', '======')\n",
      "[u'\\u4f11\\u61a9\\u5ba4', u'\\u505c\\u8eca\\u5834', u'\\u670d\\u52d9\\u53f0', u'\\u7121\\u969c\\u7919\\u8a2d\\u65bd', u'\\u5152\\u7ae5\\u904a\\u6232\\u5340', u'\\u9060\\u901a\\u96fb\\u6536ETC\\u9580\\u5e02', u'\\u63d0\\u6b3e\\u6a5f', u'\\u516c\\u5ec1', u'\\u5316\\u599d\\u53f0', u'\\u570b\\u9053\\u8cc7\\u8a0a\\u88dc\\u7d66\\u7ad9', u'\\u52a0\\u6cb9\\u7ad9', u'24\\u5c0f\\u6642\\u8d85\\u5546', u'\\u54fa\\u96c6\\u4e73\\u5ba4', u'\\u884c\\u52d5\\u8fa6\\u516c\\u5ba4']\n",
      " change pages done\n",
      "('======', 'SouthService', 'Dongshan', '======')\n",
      "[u'\\u670d\\u52d9\\u53f0', u'\\u516c\\u5ec1', u'\\u505c\\u8eca\\u5834', u'\\u884c\\u52d5\\u4e0d\\u4fbf\\u670d\\u52d9', u'\\u54fa\\u96c6\\u4e73\\u5ba4', u'\\u5973\\u5ec1\\u68b3\\u599d\\u5340', u'\\u884c\\u52d5\\u8fa6\\u516c\\u5ba4', u'\\u570b\\u9053\\u8cc7\\u8a0a\\u88dc\\u7d66\\u7ad9', u'\\u6236\\u5916\\u7528\\u9910\\u5340', u'\\u4f11\\u61a9\\u5ba4', u'\\u5bf5\\u7269\\u6e05\\u6f54\\u888b', u'\\u52a0\\u6cb9\\u7ad9', u'\\u9060\\u901a\\u96fb\\u6536ETC\\u9580\\u5e02', u'\\u63d0\\u6b3e\\u6a5f', u'\\u7528\\u9910\\u5340']\n",
      " change pages done\n",
      "('======', 'SouthService', 'Guanmiao', '======')\n",
      "[u'\\u884c\\u52d5\\u4e0d\\u4fbf\\u670d\\u52d9', u'\\u570b\\u9053\\u8cc7\\u8a0a\\u88dc\\u7d66\\u7ad9', u'\\u505c\\u8eca\\u5834', u'\\u5152\\u7ae5\\u904a\\u6232\\u5340', u'\\u9060\\u901a\\u96fb\\u6536ETC\\u9580\\u5e02', u'CMS', u'\\u89c0\\u5149\\u5730\\u5340\\u6307\\u5f15\\u5716', u'\\u6f02\\u66f8\\u7ad9', u'\\u52a0\\u6cb9\\u7ad9', u'\\u5bf5\\u7269\\u6e05\\u6f54\\u888b', u'AED', u'\\u54fa\\u96c6\\u4e73\\u5ba4', u'\\u884c\\u52d5\\u8fa6\\u516c\\u5ba4', u'\\u670d\\u52d9\\u53f0', u'\\u4f11\\u61a9\\u5ba4', u'\\u63d0\\u6b3e\\u6a5f', u'\\u516c\\u5ec1', u'\\u8cfc\\u7269\\u9910\\u98f2\\u5340']\n"
     ]
    }
   ],
   "source": [
    "for ar in area :\n",
    "    if ar == 'NorthService':\n",
    "        for place in Nplaces :\n",
    "            page_url = 'https://www.freeway.gov.tw/{0}/{1}/facility.aspx'.format(ar, place)\n",
    "            res = r.get(page_url)\n",
    "            res.encoding = 'big5' # 調整Response obect的encoding，不然中文是亂碼\n",
    "            soup = BeautifulSoup(res.text, 'html5lib')\n",
    "            f_list = browser_get_element(page_url, soup)\n",
    "            \n",
    "            #f_list = [i.contents[0] for i in soup.select(\"td > a[href*='facilityDetail']\")]\n",
    "            print('======', ar, place, '======')\n",
    "            print(f_list)\n",
    "    elif ar == 'CentralService': \n",
    "        for place in Cplaces :\n",
    "            page_url = 'https://www.freeway.gov.tw/{0}/{1}/facility.aspx'.format(ar, place)\n",
    "            res = r.get(page_url)\n",
    "            res.encoding = 'utf-8' # 調整Response obect的encoding，不然中文是亂碼\n",
    "            soup = BeautifulSoup(res.text, 'html5lib')\n",
    "            f_list = browser_get_element(page_url, soup)\n",
    "            #f_list = [i.contents[0] for i in soup.select(\"td > a[href*='facilityDetail']\")]\n",
    "            print('======', ar, place, '======')\n",
    "            print(f_list)\n",
    "    elif ar == 'SouthService':\n",
    "        for place in Splaces :\n",
    "            page_url = 'https://www.freeway.gov.tw/{0}/{1}/facility.aspx'.format(ar, place)\n",
    "            res = r.get(page_url)\n",
    "            res.encoding = 'utf-8' # 調整Response obect的encoding，不然中文是亂碼\n",
    "            soup = BeautifulSoup(res.text, 'html5lib')\n",
    "            f_list = browser_get_element(page_url, soup)\n",
    "            #f_list = [i.contents[0] for i in soup.select(\"td > a[href*='facilityDetail']\")]\n",
    "            print('======', ar, place, '======')\n",
    "            print(f_list)\n",
    "    \n",
    "    "
   ]
  },
  {
   "cell_type": "code",
   "execution_count": 30,
   "metadata": {
    "collapsed": true
   },
   "outputs": [],
   "source": [
    "page_url = 'https://www.freeway.gov.tw/NorthService/Zhongli/facility.aspx'\n",
    "res = r.get(page_url)\n",
    "res.encoding = 'big5' # 調整Response obect的encoding，不然中文是亂碼\n",
    "soup = BeautifulSoup(res.text, 'html5lib')\n",
    "\n",
    "\n",
    "\n",
    "\n",
    "#f_list = [i.contents[0] for i in soup.select(\"td > a[href*='facilityDetail']\")]"
   ]
  },
  {
   "cell_type": "code",
   "execution_count": 91,
   "metadata": {},
   "outputs": [
    {
     "data": {
      "text/plain": [
       "2"
      ]
     },
     "execution_count": 91,
     "metadata": {},
     "output_type": "execute_result"
    }
   ],
   "source": [
    "len(soup.select('.scott > a'))"
   ]
  },
  {
   "cell_type": "code",
   "execution_count": 89,
   "metadata": {},
   "outputs": [
    {
     "data": {
      "text/plain": [
       "[<a href=\"#\" onclick=\"reloadPage2(2)\" onkeypress=\"reloadPage2(2)\">2</a>,\n",
       " <a href=\"#\" onclick=\"reloadPage2(2)\" onkeypress=\"reloadPage2(2)\" title=\"\\u4e0b\\u4e00\\u9801\">&gt;</a>]"
      ]
     },
     "execution_count": 89,
     "metadata": {},
     "output_type": "execute_result"
    }
   ],
   "source": [
    "[i for i in soup.select('.scott > a')]"
   ]
  },
  {
   "cell_type": "code",
   "execution_count": 73,
   "metadata": {
    "scrolled": true
   },
   "outputs": [
    {
     "name": "stdout",
     "output_type": "stream",
     "text": [
      "遠通電收ETC門市\n"
     ]
    }
   ],
   "source": [
    "print browser.find_by_css(\"td > a[href*='facilityDetail']\").first.value"
   ]
  },
  {
   "cell_type": "code",
   "execution_count": 82,
   "metadata": {},
   "outputs": [
    {
     "data": {
      "text/plain": [
       "splinter.element_list.ElementList"
      ]
     },
     "execution_count": 82,
     "metadata": {},
     "output_type": "execute_result"
    }
   ],
   "source": [
    "type(bb)"
   ]
  },
  {
   "cell_type": "code",
   "execution_count": 63,
   "metadata": {
    "collapsed": true
   },
   "outputs": [],
   "source": [
    "bb = browser.find_by_css(\"td > a[href*='facilityDetail']\")"
   ]
  },
  {
   "cell_type": "code",
   "execution_count": 76,
   "metadata": {
    "collapsed": true
   },
   "outputs": [],
   "source": [
    "tt = browser.find_by_css(\"td > a[href*='facilityDetail']\")"
   ]
  },
  {
   "cell_type": "code",
   "execution_count": 87,
   "metadata": {
    "scrolled": true
   },
   "outputs": [
    {
     "name": "stdout",
     "output_type": "stream",
     "text": [
      "<type 'str'>\n",
      "<type 'str'>\n",
      "<type 'str'>\n",
      "<type 'str'>\n",
      "<type 'str'>\n"
     ]
    }
   ],
   "source": [
    "for i in tt:\n",
    "    ii = i.value\n",
    "    print type(ii.encode('utf-8'))"
   ]
  },
  {
   "cell_type": "code",
   "execution_count": null,
   "metadata": {
    "collapsed": true
   },
   "outputs": [],
   "source": []
  }
 ],
 "metadata": {
  "kernelspec": {
   "display_name": "Python 3",
   "language": "python",
   "name": "python3"
  },
  "language_info": {
   "codemirror_mode": {
    "name": "ipython",
    "version": 3
   },
   "file_extension": ".py",
   "mimetype": "text/x-python",
   "name": "python",
   "nbconvert_exporter": "python",
   "pygments_lexer": "ipython3",
   "version": "3.6.3"
  }
 },
 "nbformat": 4,
 "nbformat_minor": 2
}
