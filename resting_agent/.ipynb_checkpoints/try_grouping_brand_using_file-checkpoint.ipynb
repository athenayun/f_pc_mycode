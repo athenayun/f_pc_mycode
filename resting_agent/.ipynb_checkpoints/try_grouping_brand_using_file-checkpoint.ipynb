{
 "cells": [
  {
   "cell_type": "code",
   "execution_count": 1,
   "metadata": {},
   "outputs": [],
   "source": [
    "import pandas as pd"
   ]
  },
  {
   "cell_type": "code",
   "execution_count": 2,
   "metadata": {},
   "outputs": [],
   "source": [
    "df = pd.read_csv('C://Users//Administrator//Documents//code//data//resting_agent//TRIP_utf8.txt', encoding='utf-8', low_memory=False, sep='\\t', na_filter= None)"
   ]
  },
  {
   "cell_type": "code",
   "execution_count": 7,
   "metadata": {},
   "outputs": [
    {
     "name": "stdout",
     "output_type": "stream",
     "text": [
      "Collecting xlrd\n",
      "  Downloading https://files.pythonhosted.org/packages/07/e6/e95c4eec6221bfd8528bcc4ea252a850bffcc4be88ebc367e23a1a84b0bb/xlrd-1.1.0-py2.py3-none-any.whl (108kB)\n",
      "Installing collected packages: xlrd\n",
      "Successfully installed xlrd-1.1.0\n"
     ]
    },
    {
     "name": "stderr",
     "output_type": "stream",
     "text": [
      "You are using pip version 9.0.3, however version 10.0.1 is available.\n",
      "You should consider upgrading via the 'python -m pip install --upgrade pip' command.\n"
     ]
    }
   ],
   "source": [
    "!pip install xlrd"
   ]
  },
  {
   "cell_type": "code",
   "execution_count": 8,
   "metadata": {},
   "outputs": [],
   "source": [
    "import xlrd"
   ]
  },
  {
   "cell_type": "code",
   "execution_count": 9,
   "metadata": {},
   "outputs": [],
   "source": [
    "car_df = pd.read_excel('C://Users//Administrator//Documents//code//data//resting_agent//Car_Brand.xlsx', encoding='big5')"
   ]
  },
  {
   "cell_type": "code",
   "execution_count": 84,
   "metadata": {
    "scrolled": true
   },
   "outputs": [],
   "source": [
    "#car_df"
   ]
  },
  {
   "cell_type": "code",
   "execution_count": 85,
   "metadata": {
    "scrolled": true
   },
   "outputs": [],
   "source": [
    "#car_df.groupby('brand_agg').size()"
   ]
  },
  {
   "cell_type": "code",
   "execution_count": 16,
   "metadata": {},
   "outputs": [],
   "source": [
    "car_df.columns = ['brand', 'count', 'brand_agg']"
   ]
  },
  {
   "cell_type": "code",
   "execution_count": 14,
   "metadata": {},
   "outputs": [
    {
     "name": "stdout",
     "output_type": "stream",
     "text": [
      "車廠\n"
     ]
    }
   ],
   "source": [
    "print '\\xe8\\xbb\\x8a\\xe5\\xbb\\xa0'"
   ]
  },
  {
   "cell_type": "code",
   "execution_count": null,
   "metadata": {},
   "outputs": [],
   "source": [
    "x_list = []\n",
    "for x in car_df['brand_agg'] :\n",
    "    #print(x)\n",
    "    if x is np.nan:\n",
    "        x_list.append(x)\n",
    "        print(x)\n",
    "    else :\n",
    "        x = x.lstrip()\n",
    "        x_list.append(x)\n",
    "        print(x)\n",
    "new_df = pd.DataFrame({'brand_agg':x_list})\n",
    "car_df.update(new_df)\n",
    "\n",
    "car_list = []\n",
    "\n",
    "for index, row_tuple in df.iterrows():\n",
    "    tmp_list = list(row_tuple)\n",
    "    for x in car_df.groupby('brand_agg') :\n",
    "        if tmp_list[11] in x[1]['brand'] :\n",
    "            CarBrand = x[0]\n",
    "            tmp_list.append(CarBrand)\n",
    "        else :\n",
    "            continue\n",
    "    car_list.append(tmp_list)\n",
    "    "
   ]
  },
  {
   "cell_type": "code",
   "execution_count": 20,
   "metadata": {},
   "outputs": [],
   "source": [
    "tmp_each_car = []\n",
    "for index, row_tuple in df.iterrows():\n",
    "    tmp_list = list(row_tuple)\n",
    "    tmp_each_car.append(tmp_list)"
   ]
  },
  {
   "cell_type": "code",
   "execution_count": null,
   "metadata": {},
   "outputs": [],
   "source": [
    "\n",
    "\n",
    "    \n",
    "for x in car_df.groupby('brand_agg') :\n",
    "    \n",
    "    for each in tmp_each_car :\n",
    "        if each[11] in x[1]['brand'] :\n",
    "            CarBrand = x[0]\n",
    "            each.append(CarBrand)\n",
    "        else :\n",
    "            continue"
   ]
  },
  {
   "cell_type": "code",
   "execution_count": 87,
   "metadata": {},
   "outputs": [
    {
     "data": {
      "text/plain": [
       "\"\\ncar_list = []\\nfor each in tmp_each_car :\\n    each_done = looping_detered_brand(car_df, each, 'brand_agg', 'brand')\\n    print [x.encode('big5') for x in each_done]\\n    car_list.append(each_done)\\n\""
      ]
     },
     "execution_count": 87,
     "metadata": {},
     "output_type": "execute_result"
    }
   ],
   "source": [
    "'''\n",
    "car_list = []\n",
    "for each in tmp_each_car :\n",
    "    each_done = looping_detered_brand(car_df, each, 'brand_agg', 'brand')\n",
    "    print [x.encode('big5') for x in each_done]\n",
    "    car_list.append(each_done)\n",
    "'''"
   ]
  },
  {
   "cell_type": "code",
   "execution_count": 78,
   "metadata": {},
   "outputs": [],
   "source": [
    "def looping_detered_brand(df, element_list, group_col, col_name):\n",
    "           \n",
    "    for x in df.groupby(group_col) :\n",
    "        #while len(element_list) == 24 :\n",
    "        if element_list[11] in list(x[1][col_name]) :\n",
    "            CarBrand = x[0]\n",
    "            element_list.append(CarBrand)\n",
    "            print 'done'\n",
    "            break\n",
    "        else :\n",
    "            print 'not matched'\n",
    "            continue\n",
    "        \n",
    "        \n",
    "    return element_list"
   ]
  },
  {
   "cell_type": "markdown",
   "metadata": {},
   "source": [
    "#####  testing area"
   ]
  },
  {
   "cell_type": "code",
   "execution_count": 25,
   "metadata": {},
   "outputs": [],
   "source": [
    "origin = ['aaa', 'bbb', 'ccc', 'cc', 'aa']\n",
    "final = ['a', 'b', 'c', 'c', 'a']\n",
    "\n",
    "test_df = pd.DataFrame([origin, final])"
   ]
  },
  {
   "cell_type": "code",
   "execution_count": 28,
   "metadata": {},
   "outputs": [],
   "source": [
    "test_df = test_df.transpose()"
   ]
  },
  {
   "cell_type": "code",
   "execution_count": 30,
   "metadata": {},
   "outputs": [],
   "source": [
    "test_df.columns = ['origin', 'final']"
   ]
  },
  {
   "cell_type": "code",
   "execution_count": 31,
   "metadata": {},
   "outputs": [
    {
     "data": {
      "text/html": [
       "<div>\n",
       "<style>\n",
       "    .dataframe thead tr:only-child th {\n",
       "        text-align: right;\n",
       "    }\n",
       "\n",
       "    .dataframe thead th {\n",
       "        text-align: left;\n",
       "    }\n",
       "\n",
       "    .dataframe tbody tr th {\n",
       "        vertical-align: top;\n",
       "    }\n",
       "</style>\n",
       "<table border=\"1\" class=\"dataframe\">\n",
       "  <thead>\n",
       "    <tr style=\"text-align: right;\">\n",
       "      <th></th>\n",
       "      <th>origin</th>\n",
       "      <th>final</th>\n",
       "    </tr>\n",
       "  </thead>\n",
       "  <tbody>\n",
       "    <tr>\n",
       "      <th>0</th>\n",
       "      <td>aaa</td>\n",
       "      <td>a</td>\n",
       "    </tr>\n",
       "    <tr>\n",
       "      <th>1</th>\n",
       "      <td>bbb</td>\n",
       "      <td>b</td>\n",
       "    </tr>\n",
       "    <tr>\n",
       "      <th>2</th>\n",
       "      <td>ccc</td>\n",
       "      <td>c</td>\n",
       "    </tr>\n",
       "    <tr>\n",
       "      <th>3</th>\n",
       "      <td>cc</td>\n",
       "      <td>c</td>\n",
       "    </tr>\n",
       "    <tr>\n",
       "      <th>4</th>\n",
       "      <td>aa</td>\n",
       "      <td>a</td>\n",
       "    </tr>\n",
       "  </tbody>\n",
       "</table>\n",
       "</div>"
      ],
      "text/plain": [
       "  origin final\n",
       "0    aaa     a\n",
       "1    bbb     b\n",
       "2    ccc     c\n",
       "3     cc     c\n",
       "4     aa     a"
      ]
     },
     "execution_count": 31,
     "metadata": {},
     "output_type": "execute_result"
    }
   ],
   "source": [
    "test_df"
   ]
  },
  {
   "cell_type": "code",
   "execution_count": 36,
   "metadata": {
    "scrolled": true
   },
   "outputs": [
    {
     "name": "stdout",
     "output_type": "stream",
     "text": [
      "('a',   origin final\n",
      "0    aaa     a\n",
      "4     aa     a)\n",
      "('b',   origin final\n",
      "1    bbb     b)\n",
      "('c',   origin final\n",
      "2    ccc     c\n",
      "3     cc     c)\n"
     ]
    }
   ],
   "source": [
    " for j in test_df.groupby('final'):\n",
    "        print j"
   ]
  },
  {
   "cell_type": "code",
   "execution_count": 49,
   "metadata": {},
   "outputs": [],
   "source": [
    "op_list= [['apple', 'aaa', 30], ['banana', 'bbb', 20], ['carneval', 'ccc', 10]]"
   ]
  },
  {
   "cell_type": "code",
   "execution_count": 77,
   "metadata": {},
   "outputs": [
    {
     "data": {
      "text/plain": [
       "[['apple', 'aaa', 30, 'a'],\n",
       " ['banana', 'bbb', 20, 'b'],\n",
       " ['carneval', 'ccc', 10, 'c']]"
      ]
     },
     "execution_count": 77,
     "metadata": {},
     "output_type": "execute_result"
    }
   ],
   "source": [
    "op_list"
   ]
  },
  {
   "cell_type": "code",
   "execution_count": 64,
   "metadata": {},
   "outputs": [
    {
     "data": {
      "text/plain": [
       "4"
      ]
     },
     "execution_count": 64,
     "metadata": {},
     "output_type": "execute_result"
    }
   ],
   "source": [
    "len(op_list[2])"
   ]
  },
  {
   "cell_type": "code",
   "execution_count": 76,
   "metadata": {},
   "outputs": [
    {
     "name": "stdout",
     "output_type": "stream",
     "text": [
      "not matched\n",
      "not matched\n",
      "not matched\n",
      "['apple', 'aaa', 30, 'a']\n",
      "not matched\n",
      "not matched\n",
      "not matched\n",
      "['banana', 'bbb', 20, 'b']\n",
      "not matched\n",
      "not matched\n",
      "not matched\n",
      "['carneval', 'ccc', 10, 'c']\n"
     ]
    }
   ],
   "source": [
    "for i in op_list :\n",
    "    fi_li = looping_detered_brand(test_df, i, 'final', 'origin')\n",
    "    print fi_li"
   ]
  },
  {
   "cell_type": "code",
   "execution_count": 62,
   "metadata": {},
   "outputs": [
    {
     "name": "stdout",
     "output_type": "stream",
     "text": [
      "yes\n",
      "yes\n"
     ]
    }
   ],
   "source": [
    "for i in op_list :\n",
    "    \n",
    "\n",
    "    for x in test_df.groupby('final') :\n",
    "        while len(i) == 3 :\n",
    "            if i[1] in list(x[1]['origin']) :\n",
    "                \n",
    "                CarBrand = x[0]\n",
    "                i.append(CarBrand)\n",
    "                #i = i.append(CarBrand)\n",
    "                print('yes')\n",
    "                #return op_list[2]\n",
    "            else :\n",
    "                print 'not matched'\n",
    "                break"
   ]
  },
  {
   "cell_type": "code",
   "execution_count": 41,
   "metadata": {},
   "outputs": [
    {
     "name": "stdout",
     "output_type": "stream",
     "text": [
      "['aaa', 'aa']\n",
      "['bbb']\n",
      "['ccc', 'cc']\n"
     ]
    }
   ],
   "source": [
    "for x in test_df.groupby('final') :\n",
    "    print list(x[1]['origin'])"
   ]
  },
  {
   "cell_type": "code",
   "execution_count": null,
   "metadata": {},
   "outputs": [],
   "source": []
  }
 ],
 "metadata": {
  "kernelspec": {
   "display_name": "Python 2",
   "language": "python",
   "name": "python2"
  },
  "language_info": {
   "codemirror_mode": {
    "name": "ipython",
    "version": 2
   },
   "file_extension": ".py",
   "mimetype": "text/x-python",
   "name": "python",
   "nbconvert_exporter": "python",
   "pygments_lexer": "ipython2",
   "version": "2.7.14"
  }
 },
 "nbformat": 4,
 "nbformat_minor": 2
}
