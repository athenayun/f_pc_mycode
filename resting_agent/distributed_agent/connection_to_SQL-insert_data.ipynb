{
 "cells": [
  {
   "cell_type": "markdown",
   "metadata": {},
   "source": [
    "### Getting connections for SQL Server"
   ]
  },
  {
   "cell_type": "code",
   "execution_count": 7,
   "metadata": {
    "collapsed": true
   },
   "outputs": [],
   "source": [
    "import pyodbc\n",
    "import sqlalchemy\n",
    "from sqlalchemy import create_engine"
   ]
  },
  {
   "cell_type": "code",
   "execution_count": 8,
   "metadata": {
    "collapsed": true
   },
   "outputs": [],
   "source": [
    "db = pyodbc.connect('DRIVER={SQL Server};SERVER=AthenaLee-PC;PORT=1433;DATABASE=athena_practice;UID=;PWD=')"
   ]
  },
  {
   "cell_type": "code",
   "execution_count": 9,
   "metadata": {
    "collapsed": true
   },
   "outputs": [],
   "source": [
    "cursor = db.cursor()"
   ]
  },
  {
   "cell_type": "code",
   "execution_count": null,
   "metadata": {
    "collapsed": true
   },
   "outputs": [],
   "source": [
    "# OBDC Driver:\n",
    "engine = sqlalchemy.create_engine('mssql://*server_name*/*database_name*?trusted_connection=yes')"
   ]
  },
  {
   "cell_type": "code",
   "execution_count": 10,
   "metadata": {
    "collapsed": true
   },
   "outputs": [],
   "source": [
    "# latest\n",
    "# \n",
    "engine = create_engine('mssql://ATHENALEE-PC/athena_practice?driver=SQL+Server?trusted_connection=yes')"
   ]
  },
  {
   "cell_type": "code",
   "execution_count": 11,
   "metadata": {
    "collapsed": true
   },
   "outputs": [],
   "source": [
    "import pandas as pd"
   ]
  },
  {
   "cell_type": "code",
   "execution_count": 10,
   "metadata": {
    "collapsed": true
   },
   "outputs": [],
   "source": [
    "df = pd.read_csv(\"C://Users//Administrator//Documents//code//data//SA_advanced//Taian.csv\", low_memory=False)"
   ]
  },
  {
   "cell_type": "code",
   "execution_count": 24,
   "metadata": {
    "collapsed": true
   },
   "outputs": [],
   "source": [
    "df['ENTRY_TIME'] = pd.to_datetime(df['ENTRY_TIME'],infer_datetime_format=True)\n",
    "df['EXIT_TIME'] = pd.to_datetime(df['EXIT_TIME'],infer_datetime_format=True)\n",
    "df['O_TIME'] = pd.to_datetime(df['O_TIME'],infer_datetime_format=True)\n",
    "df['D_TIME'] = pd.to_datetime(df['D_TIME'],infer_datetime_format=True)"
   ]
  },
  {
   "cell_type": "code",
   "execution_count": 56,
   "metadata": {
    "collapsed": true,
    "scrolled": true
   },
   "outputs": [],
   "source": [
    "df.to_sql(\"Taian\", engine, if_exists='replace')"
   ]
  },
  {
   "cell_type": "markdown",
   "metadata": {},
   "source": [
    "#### Example"
   ]
  },
  {
   "cell_type": "code",
   "execution_count": null,
   "metadata": {
    "collapsed": true
   },
   "outputs": [],
   "source": [
    "import sqlalchemy\n",
    "import pyodbc\n",
    "engine = sqlalchemy.create_engine(\"mssql+pyodbc://<username>:<password>@<dsnname>\")\n",
    "\n",
    "# write the DataFrame to a table in the sql database\n",
    "df.to_sql(\"table_name\", engine)"
   ]
  },
  {
   "cell_type": "markdown",
   "metadata": {},
   "source": [
    "#### insert each SA data"
   ]
  },
  {
   "cell_type": "code",
   "execution_count": 6,
   "metadata": {
    "scrolled": true
   },
   "outputs": [
    {
     "name": "stdout",
     "output_type": "stream",
     "text": [
      "Taian : process begin ...\n",
      "===encounter file Taian...SKIP!!===\n",
      "Zhongli : process begin ...\n",
      "Zhongli : done loading data ...\n",
      "Zhongli : done transforming data type ...\n",
      "Zhongli : data inserted successfully !\n",
      "Xihu : process begin ...\n",
      "Xihu : done loading data ...\n",
      "Xihu : done transforming data type ...\n",
      "Xihu : data inserted successfully !\n",
      "Xilou : process begin ...\n",
      "Xilou : done loading data ...\n",
      "Xilou : done transforming data type ...\n",
      "Xilou : data inserted successfully !\n",
      "Nantou : process begin ...\n",
      "Nantou : done loading data ...\n",
      "Nantou : done transforming data type ...\n",
      "Nantou : data inserted successfully !\n",
      "QingShui : process begin ...\n",
      "QingShui : done loading data ...\n",
      "QingShui : done transforming data type ...\n",
      "QingShui : data inserted successfully !\n",
      "Huko : process begin ...\n",
      "===encounter file Huko...SKIP!!===\n",
      "Guanxi : process begin ...\n",
      "===encounter file Guanxi...SKIP!!===\n"
     ]
    }
   ],
   "source": [
    "import pandas as pd\n",
    "from datetime import datetime\n",
    "\n",
    "\n",
    "SA_name = [\"Taian\", \"Zhongli\", \"Xihu\", \"Xilou\", \"Nantou\", \"QingShui\", \"Huko\", \"Guanxi\"]\n",
    "for sa in SA_name :\n",
    "    print(\"{0} : process begin ...\".format(sa))\n",
    "    if sa in [\"Taian\", \"Huko\", \"Guanxi\"] :\n",
    "        print(\"===encounter file {0}...SKIP!!===\".format(sa))\n",
    "        continue\n",
    "    elif sa == \"Zhongli\" :\n",
    "        df_N = pd.read_csv('C://Users//Administrator//Documents//code//data//SA_advanced//Zhongli_N.csv', low_memory=False)\n",
    "        df_S = pd.read_csv('C://Users//Administrator//Documents//code//data//SA_advanced//Zhongli_S.csv', low_memory=False)\n",
    "        df = df = pd.concat([df_N, df_S])\n",
    "    else :\n",
    "        df = pd.read_csv('C://Users//Administrator//Documents//code//data//SA_advanced//{0}.csv'.format(sa), low_memory=False)\n",
    "    print(\"{0} : done loading data ...\".format(sa))\n",
    "    \n",
    "    # transforming data type \n",
    "    df['ENTRY_TIME'] = pd.to_datetime(df['ENTRY_TIME'],infer_datetime_format=True)\n",
    "    df['EXIT_TIME'] = pd.to_datetime(df['EXIT_TIME'],infer_datetime_format=True)\n",
    "    df['O_TIME'] = pd.to_datetime(df['O_TIME'],infer_datetime_format=True)\n",
    "    df['D_TIME'] = pd.to_datetime(df['D_TIME'],infer_datetime_format=True)\n",
    "    print(\"{0} : done transforming data type ...\".format(sa))\n",
    "    \n",
    "    df.to_sql(\"{0}\".format(sa), engine, if_exists='replace')\n",
    "    print(\"{0} : data inserted successfully !\".format(sa))"
   ]
  },
  {
   "cell_type": "code",
   "execution_count": 12,
   "metadata": {},
   "outputs": [
    {
     "name": "stdout",
     "output_type": "stream",
     "text": [
      "Huko : process begin ...\n",
      "===encounter file Huko...DO IT!!===\n",
      "Huko : done loading data ...\n",
      "Huko : done transforming data type ...\n",
      "Huko : data inserted successfully !\n",
      "Guanxi : process begin ...\n",
      "===encounter file Guanxi...DO IT!!===\n",
      "Guanxi : done loading data ...\n",
      "Guanxi : done transforming data type ...\n",
      "Guanxi : data inserted successfully !\n"
     ]
    }
   ],
   "source": [
    "# SA_name = [\"Taian\", \"Zhongli\", \"Xihu\", \"Xilou\", \"Nantou\", \"QingShui\", \"Huko\", \"Guanxi\"]\n",
    "SA_name = [\"Huko\", \"Guanxi\"]\n",
    "for sa in SA_name :\n",
    "    print(\"{0} : process begin ...\".format(sa))\n",
    "    if sa in [\"Huko\", \"Guanxi\"] :\n",
    "        print(\"===encounter file {0}...DO IT!!===\".format(sa))\n",
    "        #continue\n",
    "        df = pd.read_csv('C://Users//Administrator//Documents//code//data//SA_advanced//{0}.csv'.format(sa), low_memory=False)\n",
    "    elif sa == \"Zhongli\" :\n",
    "        df_N = pd.read_csv('C://Users//Administrator//Documents//code//data//SA_advanced//Zhongli_N.csv', low_memory=False)\n",
    "        df_S = pd.read_csv('C://Users//Administrator//Documents//code//data//SA_advanced//Zhongli_S.csv', low_memory=False)\n",
    "        df = df = pd.concat([df_N, df_S])\n",
    "    else :\n",
    "        df = pd.read_csv('C://Users//Administrator//Documents//code//data//SA_advanced//{0}.csv'.format(sa), low_memory=False)\n",
    "    print(\"{0} : done loading data ...\".format(sa))\n",
    "    \n",
    "    # transforming data type \n",
    "    df['ENTRY_TIME'] = pd.to_datetime(df['ENTRY_TIME'],infer_datetime_format=True)\n",
    "    df['EXIT_TIME'] = pd.to_datetime(df['EXIT_TIME'],infer_datetime_format=True)\n",
    "    df['O_TIME'] = pd.to_datetime(df['O_TIME'],infer_datetime_format=True)\n",
    "    df['D_TIME'] = pd.to_datetime(df['D_TIME'],infer_datetime_format=True)\n",
    "    print(\"{0} : done transforming data type ...\".format(sa))\n",
    "    \n",
    "    df.to_sql(\"{0}\".format(sa), engine, if_exists='replace')\n",
    "    print(\"{0} : data inserted successfully !\".format(sa))"
   ]
  },
  {
   "cell_type": "code",
   "execution_count": null,
   "metadata": {
    "collapsed": true
   },
   "outputs": [],
   "source": []
  }
 ],
 "metadata": {
  "kernelspec": {
   "display_name": "Python 3",
   "language": "python",
   "name": "python3"
  },
  "language_info": {
   "codemirror_mode": {
    "name": "ipython",
    "version": 3
   },
   "file_extension": ".py",
   "mimetype": "text/x-python",
   "name": "python",
   "nbconvert_exporter": "python",
   "pygments_lexer": "ipython3",
   "version": "3.6.3"
  }
 },
 "nbformat": 4,
 "nbformat_minor": 2
}
